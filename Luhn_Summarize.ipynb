{
  "nbformat": 4,
  "nbformat_minor": 0,
  "metadata": {
    "colab": {
      "name": "Luhn Summarize.ipynb",
      "provenance": [],
      "collapsed_sections": [],
      "mount_file_id": "1r4XtjdiDSVWmzvWBiOkADrtSiKFi5HJZ",
      "authorship_tag": "ABX9TyNcHVZluRC6RHCXS54F2A+M",
      "include_colab_link": true
    },
    "kernelspec": {
      "name": "python3",
      "display_name": "Python 3"
    }
  },
  "cells": [
    {
      "cell_type": "markdown",
      "metadata": {
        "id": "view-in-github",
        "colab_type": "text"
      },
      "source": [
        "<a href=\"https://colab.research.google.com/github/quotation3/TIL/blob/master/Luhn_Summarize.ipynb\" target=\"_parent\"><img src=\"https://colab.research.google.com/assets/colab-badge.svg\" alt=\"Open In Colab\"/></a>"
      ]
    },
    {
      "cell_type": "code",
      "metadata": {
        "id": "G4j_SCw69ZNz",
        "colab_type": "code",
        "colab": {}
      },
      "source": [
        "my_text = '''코로나19 대응 의료 인공지능 컨소시엄 출범 산학연병 인공지능 전문가 20여 명으로 구성, 기술‧응용 공동 연구\n",
        "지난 8일, 창립준비 모임…미영상의학회 COVID-19 컨소시엄과도 협력\n",
        "코로나19 바이러스의 세계적 감염 유행에 효과적으로 대응하기 위해 관련 전문가들이 모인 ‘코로나19 감염 대응을 위한 의료 인공지능 컨소시엄’이 9월 1일에 출범한다.\n",
        "연세대 의대, 한국전자통신원, 네이버 등 산학연병 20여 명이 참여하는 컨소시엄에서는 인공지능 기술과 응용 분야를 공동으로 연구하고 개발, 검증할 예정이다. 또 이 인공지능 기술을 적용하기 위해 필요한 데이터를 수집, 공유, 활용한다.\n",
        "나아가 다양한 산학연병 전문가들이 국내외적으로 협력하고 공동으로 대응해 나갈 예정이다.\n",
        "컨소시엄에는 15개 기관의 20여 명 전문가들이 참여했다. 연세대 의과대학에서는 박유랑(의생명시스템정보학), 김휘영(방사선의과학연구소), 심규원(신경외과), 염준섭(감염내과), 최병욱(영상의학과, 사진), 허진(영상의학과) 교수가 참여했다.\n",
        "대학군에서는 권인호(동아대), 김남국(울산대), 김윤현(전남대), 김진영(계명대), 박상준(서울대), 신수용(성균관대), 정명진(성균관대), 진광남(서울대), 홍헬렌(서울여대) 교수가 , 산업군에서는 김기환(루닛), 이동훈(카카오), 정규환(뷰노), 최우식(딥노이드), 최정필(코어라인소프트), 하정우(네이버)가 기업을 대표해 동참했다.\n",
        "이 밖에도 전종홍(한국전자통신연구원), 김경훈(정보통신정책연구원), 예종철(한국과학기술원) 교수도 포함됐다.\n",
        "인공지능 컨소시엄은 지난 7월 8일에 창립 준비 위원 모임을 했고, 연세대 의대 영상의학과 최병욱 교수(사진)가 준비위원장으로 선출됐다.\n",
        "컨소시엄은 북미영상의학회에서 시작한 COVID-19 RICORD 컨소시엄, 유럽연합에서 시작한 COVID-19 이미징 AI 이니셔티브 등과 함께 국제 협력 활동을 펼칠 계획이며, 코로나19 대응을 위한 AI 핵심표준 개발도 목표로 하고 있다. 아울러 대한의료인공지능학회, 대한영상의학회 등 국내 관련 학회와도 적극 협력할 계획이다.\n",
        "한편 오는 7월 24일(금)에는 온라인 워크숍을 개최해 코로나 19 감염대응 의료 인공지능 관련 동향발표 및 연구개발 사례 소개가 있을 예정이다.'''"
      ],
      "execution_count": 3,
      "outputs": []
    },
    {
      "cell_type": "code",
      "metadata": {
        "id": "pAiJUr_U8-yi",
        "colab_type": "code",
        "colab": {
          "base_uri": "https://localhost:8080/",
          "height": 271
        },
        "outputId": "fe9d249f-6a8e-46bf-9386-c81cc8e7ff6a"
      },
      "source": [
        "# 문장별로 분리\n",
        "window_text = my_text.replace('\\n','').split('.')\n",
        "window_text"
      ],
      "execution_count": 5,
      "outputs": [
        {
          "output_type": "execute_result",
          "data": {
            "text/plain": [
              "['코로나19 대응 의료 인공지능 컨소시엄 출범 산학연병 인공지능 전문가 20여 명으로 구성, 기술‧응용 공동 연구지난 8일, 창립준비 모임…미영상의학회 COVID-19 컨소시엄과도 협력코로나19 바이러스의 세계적 감염 유행에 효과적으로 대응하기 위해 관련 전문가들이 모인 ‘코로나19 감염 대응을 위한 의료 인공지능 컨소시엄’이 9월 1일에 출범한다',\n",
              " '연세대 의대, 한국전자통신원, 네이버 등 산학연병 20여 명이 참여하는 컨소시엄에서는 인공지능 기술과 응용 분야를 공동으로 연구하고 개발, 검증할 예정이다',\n",
              " ' 또 이 인공지능 기술을 적용하기 위해 필요한 데이터를 수집, 공유, 활용한다',\n",
              " '나아가 다양한 산학연병 전문가들이 국내외적으로 협력하고 공동으로 대응해 나갈 예정이다',\n",
              " '컨소시엄에는 15개 기관의 20여 명 전문가들이 참여했다',\n",
              " ' 연세대 의과대학에서는 박유랑(의생명시스템정보학), 김휘영(방사선의과학연구소), 심규원(신경외과), 염준섭(감염내과), 최병욱(영상의학과, 사진), 허진(영상의학과) 교수가 참여했다',\n",
              " '대학군에서는 권인호(동아대), 김남국(울산대), 김윤현(전남대), 김진영(계명대), 박상준(서울대), 신수용(성균관대), 정명진(성균관대), 진광남(서울대), 홍헬렌(서울여대) 교수가 , 산업군에서는 김기환(루닛), 이동훈(카카오), 정규환(뷰노), 최우식(딥노이드), 최정필(코어라인소프트), 하정우(네이버)가 기업을 대표해 동참했다',\n",
              " '이 밖에도 전종홍(한국전자통신연구원), 김경훈(정보통신정책연구원), 예종철(한국과학기술원) 교수도 포함됐다',\n",
              " '인공지능 컨소시엄은 지난 7월 8일에 창립 준비 위원 모임을 했고, 연세대 의대 영상의학과 최병욱 교수(사진)가 준비위원장으로 선출됐다',\n",
              " '컨소시엄은 북미영상의학회에서 시작한 COVID-19 RICORD 컨소시엄, 유럽연합에서 시작한 COVID-19 이미징 AI 이니셔티브 등과 함께 국제 협력 활동을 펼칠 계획이며, 코로나19 대응을 위한 AI 핵심표준 개발도 목표로 하고 있다',\n",
              " ' 아울러 대한의료인공지능학회, 대한영상의학회 등 국내 관련 학회와도 적극 협력할 계획이다',\n",
              " '한편 오는 7월 24일(금)에는 온라인 워크숍을 개최해 코로나 19 감염대응 의료 인공지능 관련 동향발표 및 연구개발 사례 소개가 있을 예정이다',\n",
              " '']"
            ]
          },
          "metadata": {
            "tags": []
          },
          "execution_count": 5
        }
      ]
    },
    {
      "cell_type": "code",
      "metadata": {
        "id": "Aa72GDeu8-4_",
        "colab_type": "code",
        "colab": {}
      },
      "source": [
        "# 문장별 분류를 형태소로 분리\n",
        "tokens = []\n",
        "for i in range(len(window_text)):\n",
        "    tokens.append(window_text[i].split())\n",
        "# tokens"
      ],
      "execution_count": 7,
      "outputs": []
    },
    {
      "cell_type": "code",
      "metadata": {
        "id": "iI-8hmTXMaK_",
        "colab_type": "code",
        "colab": {}
      },
      "source": [
        "# 전체 텍스트에서 형태소만 추출\n",
        "token_word = []\n",
        "for i in range(len(tokens)):\n",
        "    token_word.extend(tokens[i])\n",
        "# token_word"
      ],
      "execution_count": 9,
      "outputs": []
    },
    {
      "cell_type": "code",
      "metadata": {
        "id": "XG6djYqJMu5M",
        "colab_type": "code",
        "colab": {}
      },
      "source": [
        "# 전체 형태소에서 특정형태소의 빈도를 파악하기 위한 리스트\n",
        "freq_list = []\n",
        "for i in range(len(token_word)):\n",
        "    freq_list.append(token_word.count(token_word[i])/len(token_word))\n",
        "# freq_list"
      ],
      "execution_count": 12,
      "outputs": []
    },
    {
      "cell_type": "code",
      "metadata": {
        "id": "SSpKIUgAGD4L",
        "colab_type": "code",
        "colab": {}
      },
      "source": [
        "# {key:형태소, value:빈도}\n",
        "data = dict(zip(token_word,freq_list))\n",
        "# data"
      ],
      "execution_count": 48,
      "outputs": []
    },
    {
      "cell_type": "code",
      "metadata": {
        "id": "ZcI7CRkyHPtC",
        "colab_type": "code",
        "colab": {
          "base_uri": "https://localhost:8080/",
          "height": 73
        },
        "outputId": "41b96aba-cff0-4c3b-82e8-1d6779dba1ae"
      },
      "source": [
        "# 빈도가 0.01이상 0.5이하인것을 키워드로 추출\n",
        "data = {key: value for key, value in data.items() if 0.01<value<0.5}\n",
        "print(data)\n",
        "\n",
        "keyword = []\n",
        "for word in data:\n",
        "    keyword.append(word)\n",
        "print(keyword)"
      ],
      "execution_count": 50,
      "outputs": [
        {
          "output_type": "stream",
          "text": [
            "{'의료': 0.014778325123152709, '인공지능': 0.034482758620689655, '산학연병': 0.014778325123152709, '20여': 0.014778325123152709, 'COVID-19': 0.014778325123152709, '관련': 0.014778325123152709, '전문가들이': 0.014778325123152709, '연세대': 0.014778325123152709, '예정이다': 0.014778325123152709}\n",
            "['의료', '인공지능', '산학연병', '20여', 'COVID-19', '관련', '전문가들이', '연세대', '예정이다']\n"
          ],
          "name": "stdout"
        }
      ]
    },
    {
      "cell_type": "code",
      "metadata": {
        "id": "2gHadVI5UpLF",
        "colab_type": "code",
        "colab": {
          "base_uri": "https://localhost:8080/",
          "height": 251
        },
        "outputId": "a853c4a3-e5dd-458b-e8bf-fea774c22eb4"
      },
      "source": [
        "# 각 문장에 들어있는 키워드들의 인덱스를 확인\n",
        "freq = []\n",
        "for i in range(len(tokens)):\n",
        "    list_word = []\n",
        "    for idx, j in enumerate(tokens[i]):\n",
        "        if j in keyword:\n",
        "            list_word.append(idx)\n",
        "    freq.append(list_word)\n",
        "freq"
      ],
      "execution_count": 18,
      "outputs": [
        {
          "output_type": "execute_result",
          "data": {
            "text/plain": [
              "[[2, 3, 6, 7, 9, 18, 28, 29, 35, 36],\n",
              " [0, 5, 6, 10, 18],\n",
              " [2],\n",
              " [2, 3, 9],\n",
              " [3, 5],\n",
              " [0],\n",
              " [],\n",
              " [],\n",
              " [0, 10],\n",
              " [3, 8],\n",
              " [5],\n",
              " [10, 11, 12, 19],\n",
              " []]"
            ]
          },
          "metadata": {
            "tags": []
          },
          "execution_count": 18
        }
      ]
    },
    {
      "cell_type": "code",
      "metadata": {
        "id": "rFGEJTec8-7p",
        "colab_type": "code",
        "colab": {
          "base_uri": "https://localhost:8080/",
          "height": 35
        },
        "outputId": "acb60149-a87b-46f0-8254-1fd0682c6fec"
      },
      "source": [
        "# 윈도우 사이즈 생성 (마지막 키워드의 인덱스-처음 키워드의 인덱스+1)\n",
        "win_size = []\n",
        "for i in range(len(freq)):\n",
        "    if freq[i] != []:\n",
        "        length = max(freq[i])-min(freq[i])+1\n",
        "        win_size.append(length)\n",
        "    else:\n",
        "        win_size.append(0)\n",
        "win_size"
      ],
      "execution_count": 28,
      "outputs": [
        {
          "output_type": "execute_result",
          "data": {
            "text/plain": [
              "[35, 19, 1, 8, 3, 1, 0, 0, 11, 6, 1, 10, 0]"
            ]
          },
          "metadata": {
            "tags": []
          },
          "execution_count": 28
        }
      ]
    },
    {
      "cell_type": "code",
      "metadata": {
        "id": "9vPauRDJPmGK",
        "colab_type": "code",
        "colab": {
          "base_uri": "https://localhost:8080/",
          "height": 251
        },
        "outputId": "dbcdbb9a-c51e-4b9e-8da4-b84c37574308"
      },
      "source": [
        "# 중요도 측정\n",
        "scores = []\n",
        "for i in range(len(freq)):\n",
        "    if win_size[i]!=0:\n",
        "        scores.append(len(freq[i])**2/win_size[i])\n",
        "    else:\n",
        "        scores.append(0)\n",
        "scores"
      ],
      "execution_count": 31,
      "outputs": [
        {
          "output_type": "execute_result",
          "data": {
            "text/plain": [
              "[2.857142857142857,\n",
              " 1.3157894736842106,\n",
              " 1.0,\n",
              " 1.125,\n",
              " 1.3333333333333333,\n",
              " 1.0,\n",
              " 0,\n",
              " 0,\n",
              " 0.36363636363636365,\n",
              " 0.6666666666666666,\n",
              " 1.0,\n",
              " 1.6,\n",
              " 0]"
            ]
          },
          "metadata": {
            "tags": []
          },
          "execution_count": 31
        }
      ]
    },
    {
      "cell_type": "code",
      "metadata": {
        "id": "kyLG_O6NS9jM",
        "colab_type": "code",
        "colab": {
          "base_uri": "https://localhost:8080/",
          "height": 397
        },
        "outputId": "c60f047e-5252-44f5-c480-beffa39efe31"
      },
      "source": [
        "# {key:문장, value:중요도}로 한후 value를 기준으로 내림차순 정렬\n",
        "sentence_dic = dict(zip(window_text,scores))\n",
        "sort_sentence_dic = sorted(sentence_dic.items(), key = lambda item: item[1],reverse=True)\n",
        "sort_sentence_dic"
      ],
      "execution_count": 51,
      "outputs": [
        {
          "output_type": "execute_result",
          "data": {
            "text/plain": [
              "[('코로나19 대응 의료 인공지능 컨소시엄 출범 산학연병 인공지능 전문가 20여 명으로 구성, 기술‧응용 공동 연구지난 8일, 창립준비 모임…미영상의학회 COVID-19 컨소시엄과도 협력코로나19 바이러스의 세계적 감염 유행에 효과적으로 대응하기 위해 관련 전문가들이 모인 ‘코로나19 감염 대응을 위한 의료 인공지능 컨소시엄’이 9월 1일에 출범한다',\n",
              "  2.857142857142857),\n",
              " ('한편 오는 7월 24일(금)에는 온라인 워크숍을 개최해 코로나 19 감염대응 의료 인공지능 관련 동향발표 및 연구개발 사례 소개가 있을 예정이다',\n",
              "  1.6),\n",
              " ('컨소시엄에는 15개 기관의 20여 명 전문가들이 참여했다', 1.3333333333333333),\n",
              " ('연세대 의대, 한국전자통신원, 네이버 등 산학연병 20여 명이 참여하는 컨소시엄에서는 인공지능 기술과 응용 분야를 공동으로 연구하고 개발, 검증할 예정이다',\n",
              "  1.3157894736842106),\n",
              " ('나아가 다양한 산학연병 전문가들이 국내외적으로 협력하고 공동으로 대응해 나갈 예정이다', 1.125),\n",
              " (' 또 이 인공지능 기술을 적용하기 위해 필요한 데이터를 수집, 공유, 활용한다', 1.0),\n",
              " (' 연세대 의과대학에서는 박유랑(의생명시스템정보학), 김휘영(방사선의과학연구소), 심규원(신경외과), 염준섭(감염내과), 최병욱(영상의학과, 사진), 허진(영상의학과) 교수가 참여했다',\n",
              "  1.0),\n",
              " (' 아울러 대한의료인공지능학회, 대한영상의학회 등 국내 관련 학회와도 적극 협력할 계획이다', 1.0),\n",
              " ('컨소시엄은 북미영상의학회에서 시작한 COVID-19 RICORD 컨소시엄, 유럽연합에서 시작한 COVID-19 이미징 AI 이니셔티브 등과 함께 국제 협력 활동을 펼칠 계획이며, 코로나19 대응을 위한 AI 핵심표준 개발도 목표로 하고 있다',\n",
              "  0.6666666666666666),\n",
              " ('인공지능 컨소시엄은 지난 7월 8일에 창립 준비 위원 모임을 했고, 연세대 의대 영상의학과 최병욱 교수(사진)가 준비위원장으로 선출됐다',\n",
              "  0.36363636363636365),\n",
              " ('대학군에서는 권인호(동아대), 김남국(울산대), 김윤현(전남대), 김진영(계명대), 박상준(서울대), 신수용(성균관대), 정명진(성균관대), 진광남(서울대), 홍헬렌(서울여대) 교수가 , 산업군에서는 김기환(루닛), 이동훈(카카오), 정규환(뷰노), 최우식(딥노이드), 최정필(코어라인소프트), 하정우(네이버)가 기업을 대표해 동참했다',\n",
              "  0),\n",
              " ('이 밖에도 전종홍(한국전자통신연구원), 김경훈(정보통신정책연구원), 예종철(한국과학기술원) 교수도 포함됐다', 0),\n",
              " ('', 0)]"
            ]
          },
          "metadata": {
            "tags": []
          },
          "execution_count": 51
        }
      ]
    }
  ]
}