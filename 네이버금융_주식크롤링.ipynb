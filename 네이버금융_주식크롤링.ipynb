{
  "nbformat": 4,
  "nbformat_minor": 0,
  "metadata": {
    "colab": {
      "name": "네이버금융 주식크롤링.ipynb",
      "provenance": [],
      "collapsed_sections": [],
      "authorship_tag": "ABX9TyOmwBIigS9cSJzm5FLaHgWy",
      "include_colab_link": true
    },
    "kernelspec": {
      "name": "python3",
      "display_name": "Python 3"
    }
  },
  "cells": [
    {
      "cell_type": "markdown",
      "metadata": {
        "id": "view-in-github",
        "colab_type": "text"
      },
      "source": [
        "<a href=\"https://colab.research.google.com/github/quotation3/TIL/blob/master/%EB%84%A4%EC%9D%B4%EB%B2%84%EA%B8%88%EC%9C%B5_%EC%A3%BC%EC%8B%9D%ED%81%AC%EB%A1%A4%EB%A7%81.ipynb\" target=\"_parent\"><img src=\"https://colab.research.google.com/assets/colab-badge.svg\" alt=\"Open In Colab\"/></a>"
      ]
    },
    {
      "cell_type": "markdown",
      "metadata": {
        "id": "c_o7nZwls6I7",
        "colab_type": "text"
      },
      "source": [
        "문제 9.\n",
        "네이버 금융에서 종목하나를 골라 일별시세의 날짜와 체결가 전부(현재부터 2005년까지)를 가져와서 저장해보세요."
      ]
    },
    {
      "cell_type": "code",
      "metadata": {
        "id": "gLh7Qva4tB9i",
        "colab_type": "code",
        "colab": {}
      },
      "source": [
        "import re\n",
        "import requests\n",
        "from bs4 import BeautifulSoup\n",
        "import re\n",
        "\n",
        "import numpy as np\n",
        "import pandas as pd"
      ],
      "execution_count": 1,
      "outputs": []
    },
    {
      "cell_type": "code",
      "metadata": {
        "id": "5nP4RvLas5WO",
        "colab_type": "code",
        "colab": {
          "base_uri": "https://localhost:8080/",
          "height": 204
        },
        "outputId": "cb0dd23d-ee9f-4ace-c538-a5e2a2fe4194"
      },
      "source": [
        "dates = []\n",
        "prices = []\n",
        "\n",
        "for j in range(1,10):\n",
        "    res = requests.get(\"https://finance.naver.com/item/sise_day.nhn?code=003680&page={}\".format(j))\n",
        "    bs = BeautifulSoup(res.text, \"html.parser\")\n",
        "    # print(bs.text)\n",
        "    date = bs.select('span.p10')\n",
        "    price = bs.select('span.p11')\n",
        "\n",
        "    for i in range(len(date)):\n",
        "        dates.append(date[i].text)\n",
        "        prices.append(price[6*i].text)\n",
        "\n",
        "data = np.array([dates,prices])\n",
        "# print(data)\n",
        "df_hansung = pd.DataFrame(data.T, columns=['날짜','종가'])\n",
        "df_hansung.head()\n",
        "# df_hansung.to_csv('hansung.csv', index=False)"
      ],
      "execution_count": 19,
      "outputs": [
        {
          "output_type": "execute_result",
          "data": {
            "text/html": [
              "<div>\n",
              "<style scoped>\n",
              "    .dataframe tbody tr th:only-of-type {\n",
              "        vertical-align: middle;\n",
              "    }\n",
              "\n",
              "    .dataframe tbody tr th {\n",
              "        vertical-align: top;\n",
              "    }\n",
              "\n",
              "    .dataframe thead th {\n",
              "        text-align: right;\n",
              "    }\n",
              "</style>\n",
              "<table border=\"1\" class=\"dataframe\">\n",
              "  <thead>\n",
              "    <tr style=\"text-align: right;\">\n",
              "      <th></th>\n",
              "      <th>날짜</th>\n",
              "      <th>종가</th>\n",
              "    </tr>\n",
              "  </thead>\n",
              "  <tbody>\n",
              "    <tr>\n",
              "      <th>0</th>\n",
              "      <td>2020.07.21</td>\n",
              "      <td>17,150</td>\n",
              "    </tr>\n",
              "    <tr>\n",
              "      <th>1</th>\n",
              "      <td>2020.07.20</td>\n",
              "      <td>17,300</td>\n",
              "    </tr>\n",
              "    <tr>\n",
              "      <th>2</th>\n",
              "      <td>2020.07.17</td>\n",
              "      <td>16,450</td>\n",
              "    </tr>\n",
              "    <tr>\n",
              "      <th>3</th>\n",
              "      <td>2020.07.16</td>\n",
              "      <td>16,100</td>\n",
              "    </tr>\n",
              "    <tr>\n",
              "      <th>4</th>\n",
              "      <td>2020.07.15</td>\n",
              "      <td>15,300</td>\n",
              "    </tr>\n",
              "  </tbody>\n",
              "</table>\n",
              "</div>"
            ],
            "text/plain": [
              "           날짜      종가\n",
              "0  2020.07.21  17,150\n",
              "1  2020.07.20  17,300\n",
              "2  2020.07.17  16,450\n",
              "3  2020.07.16  16,100\n",
              "4  2020.07.15  15,300"
            ]
          },
          "metadata": {
            "tags": []
          },
          "execution_count": 19
        }
      ]
    }
  ]
}