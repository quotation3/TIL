{
  "nbformat": 4,
  "nbformat_minor": 0,
  "metadata": {
    "colab": {
      "name": "topic_modeling.ipynb",
      "provenance": [],
      "collapsed_sections": [],
      "authorship_tag": "ABX9TyNVh0cV4DwkYgqogLu0Ffsu",
      "include_colab_link": true
    },
    "kernelspec": {
      "name": "python3",
      "display_name": "Python 3"
    }
  },
  "cells": [
    {
      "cell_type": "markdown",
      "metadata": {
        "id": "view-in-github",
        "colab_type": "text"
      },
      "source": [
        "<a href=\"https://colab.research.google.com/github/quotation3/TIL/blob/master/topic_modeling.ipynb\" target=\"_parent\"><img src=\"https://colab.research.google.com/assets/colab-badge.svg\" alt=\"Open In Colab\"/></a>"
      ]
    },
    {
      "cell_type": "code",
      "metadata": {
        "id": "TpR0rltQsyjK",
        "colab_type": "code",
        "colab": {}
      },
      "source": [
        "import pandas as pd\n",
        "import numpy as np\n",
        "from sklearn.decomposition import randomized_svd"
      ],
      "execution_count": 57,
      "outputs": []
    },
    {
      "cell_type": "code",
      "metadata": {
        "id": "suBQWSYxnrdo",
        "colab_type": "code",
        "colab": {}
      },
      "source": [
        "text = ['바나나 사과 포도 포도 짜장면',\n",
        "        '사과 포도',\n",
        "        '포도 바나나',\n",
        "        '짜장면 짬뽕 탕수육',\n",
        "        '볶음밥 탕수육',\n",
        "        '짜장면 짬뽕',\n",
        "        '라면 스시',\n",
        "        '스시 짜장면',\n",
        "        '가츠동 스시 소바',\n",
        "        '된장찌개 김치찌개 김치',\n",
        "        '김치 된장 짜장면',\n",
        "        '비빔밥 김치']"
      ],
      "execution_count": 58,
      "outputs": []
    },
    {
      "cell_type": "code",
      "metadata": {
        "id": "gTTWchpz3P_f",
        "colab_type": "code",
        "colab": {
          "base_uri": "https://localhost:8080/",
          "height": 233
        },
        "outputId": "8b3d459d-a261-4460-e71f-5a85ea55c604"
      },
      "source": [
        "text_word = []\n",
        "for i in range(len(text)):\n",
        "    text_word.append(text[i].split(' '))\n",
        "text_word"
      ],
      "execution_count": 59,
      "outputs": [
        {
          "output_type": "execute_result",
          "data": {
            "text/plain": [
              "[['바나나', '사과', '포도', '포도', '짜장면'],\n",
              " ['사과', '포도'],\n",
              " ['포도', '바나나'],\n",
              " ['짜장면', '짬뽕', '탕수육'],\n",
              " ['볶음밥', '탕수육'],\n",
              " ['짜장면', '짬뽕'],\n",
              " ['라면', '스시'],\n",
              " ['스시', '짜장면'],\n",
              " ['가츠동', '스시', '소바'],\n",
              " ['된장찌개', '김치찌개', '김치'],\n",
              " ['김치', '된장', '짜장면'],\n",
              " ['비빔밥', '김치']]"
            ]
          },
          "metadata": {
            "tags": []
          },
          "execution_count": 59
        }
      ]
    },
    {
      "cell_type": "code",
      "metadata": {
        "id": "eOumHr3Efdg1",
        "colab_type": "code",
        "colab": {}
      },
      "source": [
        "tokens = []\n",
        "\n",
        "for i in range(len(text)):\n",
        "    tokens.extend(text[i].split(' '))\n",
        "tokens = list(set(tokens))"
      ],
      "execution_count": 60,
      "outputs": []
    },
    {
      "cell_type": "code",
      "metadata": {
        "id": "uUta7HM9o5yz",
        "colab_type": "code",
        "colab": {
          "base_uri": "https://localhost:8080/",
          "height": 421
        },
        "outputId": "b1eda8d4-5554-4735-b065-abd6ad8705d1"
      },
      "source": [
        "tdm = []\n",
        "\n",
        "for i in range(len(text_word)):\n",
        "    cnt_list = [0 for a in range(len(tokens))]\n",
        "    for j in range(len(tokens)):\n",
        "        if tokens[j] in text_word[i]:\n",
        "            cnt_list[j] += text_word[i].count(tokens[j])\n",
        "    tdm.append(cnt_list)\n",
        "tdm\n",
        "\n",
        "df=pd.DataFrame(tdm, index=text, columns=tokens)\n",
        "df"
      ],
      "execution_count": 61,
      "outputs": [
        {
          "output_type": "execute_result",
          "data": {
            "text/html": [
              "<div>\n",
              "<style scoped>\n",
              "    .dataframe tbody tr th:only-of-type {\n",
              "        vertical-align: middle;\n",
              "    }\n",
              "\n",
              "    .dataframe tbody tr th {\n",
              "        vertical-align: top;\n",
              "    }\n",
              "\n",
              "    .dataframe thead th {\n",
              "        text-align: right;\n",
              "    }\n",
              "</style>\n",
              "<table border=\"1\" class=\"dataframe\">\n",
              "  <thead>\n",
              "    <tr style=\"text-align: right;\">\n",
              "      <th></th>\n",
              "      <th>짬뽕</th>\n",
              "      <th>된장</th>\n",
              "      <th>볶음밥</th>\n",
              "      <th>짜장면</th>\n",
              "      <th>가츠동</th>\n",
              "      <th>포도</th>\n",
              "      <th>소바</th>\n",
              "      <th>바나나</th>\n",
              "      <th>스시</th>\n",
              "      <th>김치</th>\n",
              "      <th>비빔밥</th>\n",
              "      <th>김치찌개</th>\n",
              "      <th>탕수육</th>\n",
              "      <th>라면</th>\n",
              "      <th>된장찌개</th>\n",
              "      <th>사과</th>\n",
              "    </tr>\n",
              "  </thead>\n",
              "  <tbody>\n",
              "    <tr>\n",
              "      <th>바나나 사과 포도 포도 짜장면</th>\n",
              "      <td>0</td>\n",
              "      <td>0</td>\n",
              "      <td>0</td>\n",
              "      <td>1</td>\n",
              "      <td>0</td>\n",
              "      <td>2</td>\n",
              "      <td>0</td>\n",
              "      <td>1</td>\n",
              "      <td>0</td>\n",
              "      <td>0</td>\n",
              "      <td>0</td>\n",
              "      <td>0</td>\n",
              "      <td>0</td>\n",
              "      <td>0</td>\n",
              "      <td>0</td>\n",
              "      <td>1</td>\n",
              "    </tr>\n",
              "    <tr>\n",
              "      <th>사과 포도</th>\n",
              "      <td>0</td>\n",
              "      <td>0</td>\n",
              "      <td>0</td>\n",
              "      <td>0</td>\n",
              "      <td>0</td>\n",
              "      <td>1</td>\n",
              "      <td>0</td>\n",
              "      <td>0</td>\n",
              "      <td>0</td>\n",
              "      <td>0</td>\n",
              "      <td>0</td>\n",
              "      <td>0</td>\n",
              "      <td>0</td>\n",
              "      <td>0</td>\n",
              "      <td>0</td>\n",
              "      <td>1</td>\n",
              "    </tr>\n",
              "    <tr>\n",
              "      <th>포도 바나나</th>\n",
              "      <td>0</td>\n",
              "      <td>0</td>\n",
              "      <td>0</td>\n",
              "      <td>0</td>\n",
              "      <td>0</td>\n",
              "      <td>1</td>\n",
              "      <td>0</td>\n",
              "      <td>1</td>\n",
              "      <td>0</td>\n",
              "      <td>0</td>\n",
              "      <td>0</td>\n",
              "      <td>0</td>\n",
              "      <td>0</td>\n",
              "      <td>0</td>\n",
              "      <td>0</td>\n",
              "      <td>0</td>\n",
              "    </tr>\n",
              "    <tr>\n",
              "      <th>짜장면 짬뽕 탕수육</th>\n",
              "      <td>1</td>\n",
              "      <td>0</td>\n",
              "      <td>0</td>\n",
              "      <td>1</td>\n",
              "      <td>0</td>\n",
              "      <td>0</td>\n",
              "      <td>0</td>\n",
              "      <td>0</td>\n",
              "      <td>0</td>\n",
              "      <td>0</td>\n",
              "      <td>0</td>\n",
              "      <td>0</td>\n",
              "      <td>1</td>\n",
              "      <td>0</td>\n",
              "      <td>0</td>\n",
              "      <td>0</td>\n",
              "    </tr>\n",
              "    <tr>\n",
              "      <th>볶음밥 탕수육</th>\n",
              "      <td>0</td>\n",
              "      <td>0</td>\n",
              "      <td>1</td>\n",
              "      <td>0</td>\n",
              "      <td>0</td>\n",
              "      <td>0</td>\n",
              "      <td>0</td>\n",
              "      <td>0</td>\n",
              "      <td>0</td>\n",
              "      <td>0</td>\n",
              "      <td>0</td>\n",
              "      <td>0</td>\n",
              "      <td>1</td>\n",
              "      <td>0</td>\n",
              "      <td>0</td>\n",
              "      <td>0</td>\n",
              "    </tr>\n",
              "    <tr>\n",
              "      <th>짜장면 짬뽕</th>\n",
              "      <td>1</td>\n",
              "      <td>0</td>\n",
              "      <td>0</td>\n",
              "      <td>1</td>\n",
              "      <td>0</td>\n",
              "      <td>0</td>\n",
              "      <td>0</td>\n",
              "      <td>0</td>\n",
              "      <td>0</td>\n",
              "      <td>0</td>\n",
              "      <td>0</td>\n",
              "      <td>0</td>\n",
              "      <td>0</td>\n",
              "      <td>0</td>\n",
              "      <td>0</td>\n",
              "      <td>0</td>\n",
              "    </tr>\n",
              "    <tr>\n",
              "      <th>라면 스시</th>\n",
              "      <td>0</td>\n",
              "      <td>0</td>\n",
              "      <td>0</td>\n",
              "      <td>0</td>\n",
              "      <td>0</td>\n",
              "      <td>0</td>\n",
              "      <td>0</td>\n",
              "      <td>0</td>\n",
              "      <td>1</td>\n",
              "      <td>0</td>\n",
              "      <td>0</td>\n",
              "      <td>0</td>\n",
              "      <td>0</td>\n",
              "      <td>1</td>\n",
              "      <td>0</td>\n",
              "      <td>0</td>\n",
              "    </tr>\n",
              "    <tr>\n",
              "      <th>스시 짜장면</th>\n",
              "      <td>0</td>\n",
              "      <td>0</td>\n",
              "      <td>0</td>\n",
              "      <td>1</td>\n",
              "      <td>0</td>\n",
              "      <td>0</td>\n",
              "      <td>0</td>\n",
              "      <td>0</td>\n",
              "      <td>1</td>\n",
              "      <td>0</td>\n",
              "      <td>0</td>\n",
              "      <td>0</td>\n",
              "      <td>0</td>\n",
              "      <td>0</td>\n",
              "      <td>0</td>\n",
              "      <td>0</td>\n",
              "    </tr>\n",
              "    <tr>\n",
              "      <th>가츠동 스시 소바</th>\n",
              "      <td>0</td>\n",
              "      <td>0</td>\n",
              "      <td>0</td>\n",
              "      <td>0</td>\n",
              "      <td>1</td>\n",
              "      <td>0</td>\n",
              "      <td>1</td>\n",
              "      <td>0</td>\n",
              "      <td>1</td>\n",
              "      <td>0</td>\n",
              "      <td>0</td>\n",
              "      <td>0</td>\n",
              "      <td>0</td>\n",
              "      <td>0</td>\n",
              "      <td>0</td>\n",
              "      <td>0</td>\n",
              "    </tr>\n",
              "    <tr>\n",
              "      <th>된장찌개 김치찌개 김치</th>\n",
              "      <td>0</td>\n",
              "      <td>0</td>\n",
              "      <td>0</td>\n",
              "      <td>0</td>\n",
              "      <td>0</td>\n",
              "      <td>0</td>\n",
              "      <td>0</td>\n",
              "      <td>0</td>\n",
              "      <td>0</td>\n",
              "      <td>1</td>\n",
              "      <td>0</td>\n",
              "      <td>1</td>\n",
              "      <td>0</td>\n",
              "      <td>0</td>\n",
              "      <td>1</td>\n",
              "      <td>0</td>\n",
              "    </tr>\n",
              "    <tr>\n",
              "      <th>김치 된장 짜장면</th>\n",
              "      <td>0</td>\n",
              "      <td>1</td>\n",
              "      <td>0</td>\n",
              "      <td>1</td>\n",
              "      <td>0</td>\n",
              "      <td>0</td>\n",
              "      <td>0</td>\n",
              "      <td>0</td>\n",
              "      <td>0</td>\n",
              "      <td>1</td>\n",
              "      <td>0</td>\n",
              "      <td>0</td>\n",
              "      <td>0</td>\n",
              "      <td>0</td>\n",
              "      <td>0</td>\n",
              "      <td>0</td>\n",
              "    </tr>\n",
              "    <tr>\n",
              "      <th>비빔밥 김치</th>\n",
              "      <td>0</td>\n",
              "      <td>0</td>\n",
              "      <td>0</td>\n",
              "      <td>0</td>\n",
              "      <td>0</td>\n",
              "      <td>0</td>\n",
              "      <td>0</td>\n",
              "      <td>0</td>\n",
              "      <td>0</td>\n",
              "      <td>1</td>\n",
              "      <td>1</td>\n",
              "      <td>0</td>\n",
              "      <td>0</td>\n",
              "      <td>0</td>\n",
              "      <td>0</td>\n",
              "      <td>0</td>\n",
              "    </tr>\n",
              "  </tbody>\n",
              "</table>\n",
              "</div>"
            ],
            "text/plain": [
              "                  짬뽕  된장  볶음밥  짜장면  가츠동  포도  ...  비빔밥  김치찌개  탕수육  라면  된장찌개  사과\n",
              "바나나 사과 포도 포도 짜장면   0   0    0    1    0   2  ...    0     0    0   0     0   1\n",
              "사과 포도              0   0    0    0    0   1  ...    0     0    0   0     0   1\n",
              "포도 바나나             0   0    0    0    0   1  ...    0     0    0   0     0   0\n",
              "짜장면 짬뽕 탕수육         1   0    0    1    0   0  ...    0     0    1   0     0   0\n",
              "볶음밥 탕수육            0   0    1    0    0   0  ...    0     0    1   0     0   0\n",
              "짜장면 짬뽕             1   0    0    1    0   0  ...    0     0    0   0     0   0\n",
              "라면 스시              0   0    0    0    0   0  ...    0     0    0   1     0   0\n",
              "스시 짜장면             0   0    0    1    0   0  ...    0     0    0   0     0   0\n",
              "가츠동 스시 소바          0   0    0    0    1   0  ...    0     0    0   0     0   0\n",
              "된장찌개 김치찌개 김치       0   0    0    0    0   0  ...    0     1    0   0     1   0\n",
              "김치 된장 짜장면          0   1    0    1    0   0  ...    0     0    0   0     0   0\n",
              "비빔밥 김치             0   0    0    0    0   0  ...    1     0    0   0     0   0\n",
              "\n",
              "[12 rows x 16 columns]"
            ]
          },
          "metadata": {
            "tags": []
          },
          "execution_count": 61
        }
      ]
    },
    {
      "cell_type": "code",
      "metadata": {
        "id": "j7XptkOdEbN9",
        "colab_type": "code",
        "colab": {}
      },
      "source": [
        "U, s, VT = randomized_svd(np.array(tdm),\n",
        "                              n_components=4,\n",
        "                              n_iter=10,\n",
        "                              random_state=None)"
      ],
      "execution_count": 62,
      "outputs": []
    },
    {
      "cell_type": "code",
      "metadata": {
        "id": "amSBs3xW5P2c",
        "colab_type": "code",
        "colab": {
          "base_uri": "https://localhost:8080/",
          "height": 305
        },
        "outputId": "2a0e8b18-b6e7-46e9-e482-eb6c15c295fa"
      },
      "source": [
        "VT"
      ],
      "execution_count": 63,
      "outputs": [
        {
          "output_type": "execute_result",
          "data": {
            "text/plain": [
              "array([[ 0.12448389,  0.0599366 ,  0.00783718,  0.48563449,  0.0082077 ,\n",
              "         0.69686254,  0.0082077 ,  0.34843127,  0.06889362,  0.07739641,\n",
              "         0.00823912,  0.00922069,  0.0736207 ,  0.00733397,  0.00922069,\n",
              "         0.34843127],\n",
              "       [ 0.3555557 ,  0.18480907,  0.04982669,  0.58415588,  0.06425309,\n",
              "        -0.38741921,  0.06425309, -0.19370961,  0.25600828,  0.33700147,\n",
              "         0.06761161,  0.0845808 ,  0.24835482,  0.05136218,  0.0845808 ,\n",
              "        -0.19370961],\n",
              "       [-0.10291629,  0.16197315, -0.02671012, -0.07468389, -0.22621639,\n",
              "         0.03185185, -0.22621639,  0.01592593, -0.52268348,  0.61090353,\n",
              "         0.18453253,  0.26439785, -0.0884251 , -0.15788435,  0.26439785,\n",
              "         0.01592593],\n",
              "       [-0.34945274,  0.06140467, -0.10775805, -0.18737521,  0.27669846,\n",
              "         0.07489549,  0.27669846,  0.03744775,  0.55238845,  0.37136542,\n",
              "         0.12393905,  0.1860217 , -0.3228814 ,  0.18435345,  0.1860217 ,\n",
              "         0.03744775]])"
            ]
          },
          "metadata": {
            "tags": []
          },
          "execution_count": 63
        }
      ]
    },
    {
      "cell_type": "code",
      "metadata": {
        "id": "TaRfK6bmEvFz",
        "colab_type": "code",
        "colab": {}
      },
      "source": [
        "vt = VT[:4, :]"
      ],
      "execution_count": 64,
      "outputs": []
    },
    {
      "cell_type": "code",
      "metadata": {
        "id": "xVLwkI2KSQWJ",
        "colab_type": "code",
        "colab": {
          "base_uri": "https://localhost:8080/",
          "height": 305
        },
        "outputId": "81048fb0-9df5-424f-9138-422bb58dd39b"
      },
      "source": [
        "vt"
      ],
      "execution_count": 65,
      "outputs": [
        {
          "output_type": "execute_result",
          "data": {
            "text/plain": [
              "array([[ 0.12448389,  0.0599366 ,  0.00783718,  0.48563449,  0.0082077 ,\n",
              "         0.69686254,  0.0082077 ,  0.34843127,  0.06889362,  0.07739641,\n",
              "         0.00823912,  0.00922069,  0.0736207 ,  0.00733397,  0.00922069,\n",
              "         0.34843127],\n",
              "       [ 0.3555557 ,  0.18480907,  0.04982669,  0.58415588,  0.06425309,\n",
              "        -0.38741921,  0.06425309, -0.19370961,  0.25600828,  0.33700147,\n",
              "         0.06761161,  0.0845808 ,  0.24835482,  0.05136218,  0.0845808 ,\n",
              "        -0.19370961],\n",
              "       [-0.10291629,  0.16197315, -0.02671012, -0.07468389, -0.22621639,\n",
              "         0.03185185, -0.22621639,  0.01592593, -0.52268348,  0.61090353,\n",
              "         0.18453253,  0.26439785, -0.0884251 , -0.15788435,  0.26439785,\n",
              "         0.01592593],\n",
              "       [-0.34945274,  0.06140467, -0.10775805, -0.18737521,  0.27669846,\n",
              "         0.07489549,  0.27669846,  0.03744775,  0.55238845,  0.37136542,\n",
              "         0.12393905,  0.1860217 , -0.3228814 ,  0.18435345,  0.1860217 ,\n",
              "         0.03744775]])"
            ]
          },
          "metadata": {
            "tags": []
          },
          "execution_count": 65
        }
      ]
    },
    {
      "cell_type": "code",
      "metadata": {
        "id": "OD6_1DeISjtj",
        "colab_type": "code",
        "colab": {
          "base_uri": "https://localhost:8080/",
          "height": 545
        },
        "outputId": "3f5fadaa-6075-40e4-e8c6-477e56ff87e2"
      },
      "source": [
        "column_name = ['topic{}'.format(i+1) for i in range(4)]\n",
        "df1 = pd.DataFrame(vt.T, index=tokens, columns=column_name)\n",
        "df1"
      ],
      "execution_count": 66,
      "outputs": [
        {
          "output_type": "execute_result",
          "data": {
            "text/html": [
              "<div>\n",
              "<style scoped>\n",
              "    .dataframe tbody tr th:only-of-type {\n",
              "        vertical-align: middle;\n",
              "    }\n",
              "\n",
              "    .dataframe tbody tr th {\n",
              "        vertical-align: top;\n",
              "    }\n",
              "\n",
              "    .dataframe thead th {\n",
              "        text-align: right;\n",
              "    }\n",
              "</style>\n",
              "<table border=\"1\" class=\"dataframe\">\n",
              "  <thead>\n",
              "    <tr style=\"text-align: right;\">\n",
              "      <th></th>\n",
              "      <th>topic1</th>\n",
              "      <th>topic2</th>\n",
              "      <th>topic3</th>\n",
              "      <th>topic4</th>\n",
              "    </tr>\n",
              "  </thead>\n",
              "  <tbody>\n",
              "    <tr>\n",
              "      <th>짬뽕</th>\n",
              "      <td>0.124484</td>\n",
              "      <td>0.355556</td>\n",
              "      <td>-0.102916</td>\n",
              "      <td>-0.349453</td>\n",
              "    </tr>\n",
              "    <tr>\n",
              "      <th>된장</th>\n",
              "      <td>0.059937</td>\n",
              "      <td>0.184809</td>\n",
              "      <td>0.161973</td>\n",
              "      <td>0.061405</td>\n",
              "    </tr>\n",
              "    <tr>\n",
              "      <th>볶음밥</th>\n",
              "      <td>0.007837</td>\n",
              "      <td>0.049827</td>\n",
              "      <td>-0.026710</td>\n",
              "      <td>-0.107758</td>\n",
              "    </tr>\n",
              "    <tr>\n",
              "      <th>짜장면</th>\n",
              "      <td>0.485634</td>\n",
              "      <td>0.584156</td>\n",
              "      <td>-0.074684</td>\n",
              "      <td>-0.187375</td>\n",
              "    </tr>\n",
              "    <tr>\n",
              "      <th>가츠동</th>\n",
              "      <td>0.008208</td>\n",
              "      <td>0.064253</td>\n",
              "      <td>-0.226216</td>\n",
              "      <td>0.276698</td>\n",
              "    </tr>\n",
              "    <tr>\n",
              "      <th>포도</th>\n",
              "      <td>0.696863</td>\n",
              "      <td>-0.387419</td>\n",
              "      <td>0.031852</td>\n",
              "      <td>0.074895</td>\n",
              "    </tr>\n",
              "    <tr>\n",
              "      <th>소바</th>\n",
              "      <td>0.008208</td>\n",
              "      <td>0.064253</td>\n",
              "      <td>-0.226216</td>\n",
              "      <td>0.276698</td>\n",
              "    </tr>\n",
              "    <tr>\n",
              "      <th>바나나</th>\n",
              "      <td>0.348431</td>\n",
              "      <td>-0.193710</td>\n",
              "      <td>0.015926</td>\n",
              "      <td>0.037448</td>\n",
              "    </tr>\n",
              "    <tr>\n",
              "      <th>스시</th>\n",
              "      <td>0.068894</td>\n",
              "      <td>0.256008</td>\n",
              "      <td>-0.522683</td>\n",
              "      <td>0.552388</td>\n",
              "    </tr>\n",
              "    <tr>\n",
              "      <th>김치</th>\n",
              "      <td>0.077396</td>\n",
              "      <td>0.337001</td>\n",
              "      <td>0.610904</td>\n",
              "      <td>0.371365</td>\n",
              "    </tr>\n",
              "    <tr>\n",
              "      <th>비빔밥</th>\n",
              "      <td>0.008239</td>\n",
              "      <td>0.067612</td>\n",
              "      <td>0.184533</td>\n",
              "      <td>0.123939</td>\n",
              "    </tr>\n",
              "    <tr>\n",
              "      <th>김치찌개</th>\n",
              "      <td>0.009221</td>\n",
              "      <td>0.084581</td>\n",
              "      <td>0.264398</td>\n",
              "      <td>0.186022</td>\n",
              "    </tr>\n",
              "    <tr>\n",
              "      <th>탕수육</th>\n",
              "      <td>0.073621</td>\n",
              "      <td>0.248355</td>\n",
              "      <td>-0.088425</td>\n",
              "      <td>-0.322881</td>\n",
              "    </tr>\n",
              "    <tr>\n",
              "      <th>라면</th>\n",
              "      <td>0.007334</td>\n",
              "      <td>0.051362</td>\n",
              "      <td>-0.157884</td>\n",
              "      <td>0.184353</td>\n",
              "    </tr>\n",
              "    <tr>\n",
              "      <th>된장찌개</th>\n",
              "      <td>0.009221</td>\n",
              "      <td>0.084581</td>\n",
              "      <td>0.264398</td>\n",
              "      <td>0.186022</td>\n",
              "    </tr>\n",
              "    <tr>\n",
              "      <th>사과</th>\n",
              "      <td>0.348431</td>\n",
              "      <td>-0.193710</td>\n",
              "      <td>0.015926</td>\n",
              "      <td>0.037448</td>\n",
              "    </tr>\n",
              "  </tbody>\n",
              "</table>\n",
              "</div>"
            ],
            "text/plain": [
              "        topic1    topic2    topic3    topic4\n",
              "짬뽕    0.124484  0.355556 -0.102916 -0.349453\n",
              "된장    0.059937  0.184809  0.161973  0.061405\n",
              "볶음밥   0.007837  0.049827 -0.026710 -0.107758\n",
              "짜장면   0.485634  0.584156 -0.074684 -0.187375\n",
              "가츠동   0.008208  0.064253 -0.226216  0.276698\n",
              "포도    0.696863 -0.387419  0.031852  0.074895\n",
              "소바    0.008208  0.064253 -0.226216  0.276698\n",
              "바나나   0.348431 -0.193710  0.015926  0.037448\n",
              "스시    0.068894  0.256008 -0.522683  0.552388\n",
              "김치    0.077396  0.337001  0.610904  0.371365\n",
              "비빔밥   0.008239  0.067612  0.184533  0.123939\n",
              "김치찌개  0.009221  0.084581  0.264398  0.186022\n",
              "탕수육   0.073621  0.248355 -0.088425 -0.322881\n",
              "라면    0.007334  0.051362 -0.157884  0.184353\n",
              "된장찌개  0.009221  0.084581  0.264398  0.186022\n",
              "사과    0.348431 -0.193710  0.015926  0.037448"
            ]
          },
          "metadata": {
            "tags": []
          },
          "execution_count": 66
        }
      ]
    },
    {
      "cell_type": "code",
      "metadata": {
        "id": "xgSvLIAs1_N4",
        "colab_type": "code",
        "colab": {
          "base_uri": "https://localhost:8080/",
          "height": 161
        },
        "outputId": "f4266546-52d4-4ce6-8b56-e10d365f3fb4"
      },
      "source": [
        "topic_result = []\n",
        "for name in column_name:\n",
        "    topic_top = df1[name].sort_values(ascending=False)[0:3]\n",
        "    topic_result.append(([topic_top.index, topic_top.values]))\n",
        "\n",
        "topic_result"
      ],
      "execution_count": 67,
      "outputs": [
        {
          "output_type": "execute_result",
          "data": {
            "text/plain": [
              "[[Index(['포도', '짜장면', '바나나'], dtype='object'),\n",
              "  array([0.69686254, 0.48563449, 0.34843127])],\n",
              " [Index(['짜장면', '짬뽕', '김치'], dtype='object'),\n",
              "  array([0.58415588, 0.3555557 , 0.33700147])],\n",
              " [Index(['김치', '된장찌개', '김치찌개'], dtype='object'),\n",
              "  array([0.61090353, 0.26439785, 0.26439785])],\n",
              " [Index(['스시', '김치', '소바'], dtype='object'),\n",
              "  array([0.55238845, 0.37136542, 0.27669846])]]"
            ]
          },
          "metadata": {
            "tags": []
          },
          "execution_count": 67
        }
      ]
    },
    {
      "cell_type": "code",
      "metadata": {
        "id": "KpGwSvAtQ9j2",
        "colab_type": "code",
        "colab": {
          "base_uri": "https://localhost:8080/",
          "height": 233
        },
        "outputId": "342f2d2f-88e3-4fbf-beb0-306d50d7e9fe"
      },
      "source": [
        "rank_by_topic =[]\n",
        "for i in range(len(topic_result)):\n",
        "    tmp = []\n",
        "    for j in range(3):\n",
        "        tmp.append([topic_result[i][0][j], topic_result[i][1][j]])\n",
        "    rank_by_topic.append(tmp)\n",
        "rank_by_topic"
      ],
      "execution_count": 68,
      "outputs": [
        {
          "output_type": "execute_result",
          "data": {
            "text/plain": [
              "[[['포도', 0.6968625387988913],\n",
              "  ['짜장면', 0.48563448882209015],\n",
              "  ['바나나', 0.34843126939944563]],\n",
              " [['짜장면', 0.5841558837852067],\n",
              "  ['짬뽕', 0.3555556968187592],\n",
              "  ['김치', 0.3370014719129776]],\n",
              " [['김치', 0.6109035277294104],\n",
              "  ['된장찌개', 0.2643978491951771],\n",
              "  ['김치찌개', 0.2643978491951771]],\n",
              " [['스시', 0.5523884496346715],\n",
              "  ['김치', 0.3713654174050597],\n",
              "  ['소바', 0.2766984641841542]]]"
            ]
          },
          "metadata": {
            "tags": []
          },
          "execution_count": 68
        }
      ]
    },
    {
      "cell_type": "code",
      "metadata": {
        "id": "L7FylkaRRAPr",
        "colab_type": "code",
        "colab": {
          "base_uri": "https://localhost:8080/",
          "height": 89
        },
        "outputId": "f34b057e-d454-4c9f-8a38-9905f5e681d4"
      },
      "source": [
        "for i in range(len(rank_by_topic)):\n",
        "    print(\"{} - {}\".format(column_name[i], rank_by_topic[i]))"
      ],
      "execution_count": 69,
      "outputs": [
        {
          "output_type": "stream",
          "text": [
            "topic1 - [['포도', 0.6968625387988913], ['짜장면', 0.48563448882209015], ['바나나', 0.34843126939944563]]\n",
            "topic2 - [['짜장면', 0.5841558837852067], ['짬뽕', 0.3555556968187592], ['김치', 0.3370014719129776]]\n",
            "topic3 - [['김치', 0.6109035277294104], ['된장찌개', 0.2643978491951771], ['김치찌개', 0.2643978491951771]]\n",
            "topic4 - [['스시', 0.5523884496346715], ['김치', 0.3713654174050597], ['소바', 0.2766984641841542]]\n"
          ],
          "name": "stdout"
        }
      ]
    }
  ]
}