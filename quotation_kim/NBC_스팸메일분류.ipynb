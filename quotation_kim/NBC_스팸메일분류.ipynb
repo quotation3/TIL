{
  "nbformat": 4,
  "nbformat_minor": 0,
  "metadata": {
    "colab": {
      "name": "NBC_스팸메일분류.ipynb",
      "provenance": [],
      "authorship_tag": "ABX9TyMZsq3ewXTc6/VhTWrttigT",
      "include_colab_link": true
    },
    "kernelspec": {
      "name": "python3",
      "display_name": "Python 3"
    }
  },
  "cells": [
    {
      "cell_type": "markdown",
      "metadata": {
        "id": "view-in-github",
        "colab_type": "text"
      },
      "source": [
        "<a href=\"https://colab.research.google.com/github/quotation3/TIL/blob/master/quotation_kim/NBC_%EC%8A%A4%ED%8C%B8%EB%A9%94%EC%9D%BC%EB%B6%84%EB%A5%98.ipynb\" target=\"_parent\"><img src=\"https://colab.research.google.com/assets/colab-badge.svg\" alt=\"Open In Colab\"/></a>"
      ]
    },
    {
      "cell_type": "code",
      "metadata": {
        "id": "2HzkgApQooSq",
        "colab_type": "code",
        "colab": {}
      },
      "source": [
        "import pandas as pd\n",
        "import numpy as np"
      ],
      "execution_count": 69,
      "outputs": []
    },
    {
      "cell_type": "code",
      "metadata": {
        "id": "pqfLC8ZiiCE9",
        "colab_type": "code",
        "colab": {}
      },
      "source": [
        "text = [['me free lottery'],['free get free you'],['you free scholarship'],['free to contact me'],['you won award'],['you ticket lottery']]"
      ],
      "execution_count": 71,
      "outputs": []
    },
    {
      "cell_type": "code",
      "metadata": {
        "id": "nY4EclrGicei",
        "colab_type": "code",
        "colab": {
          "base_uri": "https://localhost:8080/",
          "height": 235
        },
        "outputId": "20a9b399-1626-40ab-b6f9-8825aa6cf81c"
      },
      "source": [
        "text_split = []\n",
        "\n",
        "for i in range(len(text)):\n",
        "    text_split.append(' '.join(text[i]).split(' '))\n",
        "mail_type = ['spam','spam','normal','normal','normal','spam']\n",
        "data = np.array([text_split,mail_type])\n",
        "df = pd.DataFrame(data.T,columns=['정제된단어들','분류'])\n",
        "df\n",
        "\n",
        "\n",
        "#     tokens.extend(text_split[i].split(' '))\n",
        "# # tokens"
      ],
      "execution_count": 72,
      "outputs": [
        {
          "output_type": "execute_result",
          "data": {
            "text/html": [
              "<div>\n",
              "<style scoped>\n",
              "    .dataframe tbody tr th:only-of-type {\n",
              "        vertical-align: middle;\n",
              "    }\n",
              "\n",
              "    .dataframe tbody tr th {\n",
              "        vertical-align: top;\n",
              "    }\n",
              "\n",
              "    .dataframe thead th {\n",
              "        text-align: right;\n",
              "    }\n",
              "</style>\n",
              "<table border=\"1\" class=\"dataframe\">\n",
              "  <thead>\n",
              "    <tr style=\"text-align: right;\">\n",
              "      <th></th>\n",
              "      <th>정제된단어들</th>\n",
              "      <th>분류</th>\n",
              "    </tr>\n",
              "  </thead>\n",
              "  <tbody>\n",
              "    <tr>\n",
              "      <th>0</th>\n",
              "      <td>[me, free, lottery]</td>\n",
              "      <td>spam</td>\n",
              "    </tr>\n",
              "    <tr>\n",
              "      <th>1</th>\n",
              "      <td>[free, get, free, you]</td>\n",
              "      <td>spam</td>\n",
              "    </tr>\n",
              "    <tr>\n",
              "      <th>2</th>\n",
              "      <td>[you, free, scholarship]</td>\n",
              "      <td>normal</td>\n",
              "    </tr>\n",
              "    <tr>\n",
              "      <th>3</th>\n",
              "      <td>[free, to, contact, me]</td>\n",
              "      <td>normal</td>\n",
              "    </tr>\n",
              "    <tr>\n",
              "      <th>4</th>\n",
              "      <td>[you, won, award]</td>\n",
              "      <td>normal</td>\n",
              "    </tr>\n",
              "    <tr>\n",
              "      <th>5</th>\n",
              "      <td>[you, ticket, lottery]</td>\n",
              "      <td>spam</td>\n",
              "    </tr>\n",
              "  </tbody>\n",
              "</table>\n",
              "</div>"
            ],
            "text/plain": [
              "                     정제된단어들      분류\n",
              "0       [me, free, lottery]    spam\n",
              "1    [free, get, free, you]    spam\n",
              "2  [you, free, scholarship]  normal\n",
              "3   [free, to, contact, me]  normal\n",
              "4         [you, won, award]  normal\n",
              "5    [you, ticket, lottery]    spam"
            ]
          },
          "metadata": {
            "tags": []
          },
          "execution_count": 72
        }
      ]
    },
    {
      "cell_type": "code",
      "metadata": {
        "id": "Tfbg-at-lIFq",
        "colab_type": "code",
        "colab": {
          "base_uri": "https://localhost:8080/",
          "height": 215
        },
        "outputId": "a9090252-33f4-4dfa-b00f-fcfe4807eab9"
      },
      "source": [
        "tokens = []\n",
        "for i in range(len(text_split)):\n",
        "    tokens.extend(text_split[i])\n",
        "tokens = list(set(tokens))\n",
        "tokens"
      ],
      "execution_count": 73,
      "outputs": [
        {
          "output_type": "execute_result",
          "data": {
            "text/plain": [
              "['to',\n",
              " 'award',\n",
              " 'contact',\n",
              " 'you',\n",
              " 'free',\n",
              " 'lottery',\n",
              " 'me',\n",
              " 'scholarship',\n",
              " 'ticket',\n",
              " 'won',\n",
              " 'get']"
            ]
          },
          "metadata": {
            "tags": []
          },
          "execution_count": 73
        }
      ]
    },
    {
      "cell_type": "code",
      "metadata": {
        "id": "Jv9UO52yt0lj",
        "colab_type": "code",
        "colab": {}
      },
      "source": [
        "spam_cnt_list = []\n",
        "normal_cnt_list = []\n",
        "\n",
        "for i in range(len(tokens)):\n",
        "    spam_cnt = 0\n",
        "    normal_cnt = 0\n",
        "    for j in range(len(text_split)):    #tokens의 단어가 text_split[j]에 있으면 그 빈도 만큼 카운트 추가\n",
        "        if tokens[i] in text_split[j]:\n",
        "            if mail_type[j] == 'spam':\n",
        "                spam_cnt+=text_split[j].count(tokens[i])\n",
        "            elif mail_type[j] == 'normal':\n",
        "                normal_cnt+=text_split[j].count(tokens[i])\n",
        "            else:\n",
        "                pass\n",
        "    spam_cnt_list.append(spam_cnt)\n",
        "    normal_cnt_list.append(normal_cnt)\n"
      ],
      "execution_count": 74,
      "outputs": []
    },
    {
      "cell_type": "code",
      "metadata": {
        "id": "zhwOjgC0ypza",
        "colab_type": "code",
        "colab": {}
      },
      "source": [
        "p_spam = []\n",
        "p_normal = []\n",
        "for i in range(len(tokens)):\n",
        "    prob_spam = (0.5+float(str(spam_cnt_list[i])))/(2*0.5+sum(spam_cnt_list))*100\n",
        "    prob_normal = (0.5+float(str(normal_cnt_list[i])))/(2*0.5+sum(normal_cnt_list))*100\n",
        "    p_spam.append(\"%0.2f\" %prob_spam)\n",
        "    p_normal.append(\"%0.2f\" %prob_normal)"
      ],
      "execution_count": 94,
      "outputs": []
    },
    {
      "cell_type": "code",
      "metadata": {
        "id": "7TQChLA_wZG6",
        "colab_type": "code",
        "colab": {
          "base_uri": "https://localhost:8080/",
          "height": 390
        },
        "outputId": "d2bb974a-4e0a-4fa0-a6ce-8acf5247306b"
      },
      "source": [
        "table = np.array([tokens,spam_cnt_list,normal_cnt_list,p_spam,p_normal])\n",
        "pd.DataFrame(table.T, columns=['단어','spam','normal','P(w|spam)','P(w|normal)'])"
      ],
      "execution_count": 95,
      "outputs": [
        {
          "output_type": "execute_result",
          "data": {
            "text/html": [
              "<div>\n",
              "<style scoped>\n",
              "    .dataframe tbody tr th:only-of-type {\n",
              "        vertical-align: middle;\n",
              "    }\n",
              "\n",
              "    .dataframe tbody tr th {\n",
              "        vertical-align: top;\n",
              "    }\n",
              "\n",
              "    .dataframe thead th {\n",
              "        text-align: right;\n",
              "    }\n",
              "</style>\n",
              "<table border=\"1\" class=\"dataframe\">\n",
              "  <thead>\n",
              "    <tr style=\"text-align: right;\">\n",
              "      <th></th>\n",
              "      <th>단어</th>\n",
              "      <th>spam</th>\n",
              "      <th>normal</th>\n",
              "      <th>P(w|spam)</th>\n",
              "      <th>P(w|normal)</th>\n",
              "    </tr>\n",
              "  </thead>\n",
              "  <tbody>\n",
              "    <tr>\n",
              "      <th>0</th>\n",
              "      <td>to</td>\n",
              "      <td>0</td>\n",
              "      <td>1</td>\n",
              "      <td>4.55</td>\n",
              "      <td>13.64</td>\n",
              "    </tr>\n",
              "    <tr>\n",
              "      <th>1</th>\n",
              "      <td>award</td>\n",
              "      <td>0</td>\n",
              "      <td>1</td>\n",
              "      <td>4.55</td>\n",
              "      <td>13.64</td>\n",
              "    </tr>\n",
              "    <tr>\n",
              "      <th>2</th>\n",
              "      <td>contact</td>\n",
              "      <td>0</td>\n",
              "      <td>1</td>\n",
              "      <td>4.55</td>\n",
              "      <td>13.64</td>\n",
              "    </tr>\n",
              "    <tr>\n",
              "      <th>3</th>\n",
              "      <td>you</td>\n",
              "      <td>2</td>\n",
              "      <td>2</td>\n",
              "      <td>22.73</td>\n",
              "      <td>22.73</td>\n",
              "    </tr>\n",
              "    <tr>\n",
              "      <th>4</th>\n",
              "      <td>free</td>\n",
              "      <td>3</td>\n",
              "      <td>2</td>\n",
              "      <td>31.82</td>\n",
              "      <td>22.73</td>\n",
              "    </tr>\n",
              "    <tr>\n",
              "      <th>5</th>\n",
              "      <td>lottery</td>\n",
              "      <td>2</td>\n",
              "      <td>0</td>\n",
              "      <td>22.73</td>\n",
              "      <td>4.55</td>\n",
              "    </tr>\n",
              "    <tr>\n",
              "      <th>6</th>\n",
              "      <td>me</td>\n",
              "      <td>1</td>\n",
              "      <td>1</td>\n",
              "      <td>13.64</td>\n",
              "      <td>13.64</td>\n",
              "    </tr>\n",
              "    <tr>\n",
              "      <th>7</th>\n",
              "      <td>scholarship</td>\n",
              "      <td>0</td>\n",
              "      <td>1</td>\n",
              "      <td>4.55</td>\n",
              "      <td>13.64</td>\n",
              "    </tr>\n",
              "    <tr>\n",
              "      <th>8</th>\n",
              "      <td>ticket</td>\n",
              "      <td>1</td>\n",
              "      <td>0</td>\n",
              "      <td>13.64</td>\n",
              "      <td>4.55</td>\n",
              "    </tr>\n",
              "    <tr>\n",
              "      <th>9</th>\n",
              "      <td>won</td>\n",
              "      <td>0</td>\n",
              "      <td>1</td>\n",
              "      <td>4.55</td>\n",
              "      <td>13.64</td>\n",
              "    </tr>\n",
              "    <tr>\n",
              "      <th>10</th>\n",
              "      <td>get</td>\n",
              "      <td>1</td>\n",
              "      <td>0</td>\n",
              "      <td>13.64</td>\n",
              "      <td>4.55</td>\n",
              "    </tr>\n",
              "  </tbody>\n",
              "</table>\n",
              "</div>"
            ],
            "text/plain": [
              "             단어 spam normal P(w|spam) P(w|normal)\n",
              "0            to    0      1      4.55       13.64\n",
              "1         award    0      1      4.55       13.64\n",
              "2       contact    0      1      4.55       13.64\n",
              "3           you    2      2     22.73       22.73\n",
              "4          free    3      2     31.82       22.73\n",
              "5       lottery    2      0     22.73        4.55\n",
              "6            me    1      1     13.64       13.64\n",
              "7   scholarship    0      1      4.55       13.64\n",
              "8        ticket    1      0     13.64        4.55\n",
              "9           won    0      1      4.55       13.64\n",
              "10          get    1      0     13.64        4.55"
            ]
          },
          "metadata": {
            "tags": []
          },
          "execution_count": 95
        }
      ]
    },
    {
      "cell_type": "code",
      "metadata": {
        "id": "2U1C4gVjHZZJ",
        "colab_type": "code",
        "colab": {
          "base_uri": "https://localhost:8080/",
          "height": 390
        },
        "outputId": "206d7d82-7b77-4b60-e0e0-264298f99cf8"
      },
      "source": [
        "log_p_spam = []\n",
        "log_p_normal = []\n",
        "for i in range(len(tokens)):\n",
        "     log_prob_spam = np.log((0.5+float(str(spam_cnt_list[i])))/(2*0.5+sum(spam_cnt_list)))\n",
        "     log_prob_normal = np.log((0.5+float(str(normal_cnt_list[i])))/(2*0.5+sum(normal_cnt_list)))\n",
        "     log_p_spam.append(\"%0.4f\"%log_prob_spam)\n",
        "     log_p_normal.append(\"%0.4f\"%log_prob_normal)\n",
        "\n",
        "log_table = np.array([tokens,log_p_spam,log_p_normal])\n",
        "pd.DataFrame(log_table.T, columns=['단어','Log(P(w|spam))','Log(P(w|normal))'])"
      ],
      "execution_count": 110,
      "outputs": [
        {
          "output_type": "execute_result",
          "data": {
            "text/html": [
              "<div>\n",
              "<style scoped>\n",
              "    .dataframe tbody tr th:only-of-type {\n",
              "        vertical-align: middle;\n",
              "    }\n",
              "\n",
              "    .dataframe tbody tr th {\n",
              "        vertical-align: top;\n",
              "    }\n",
              "\n",
              "    .dataframe thead th {\n",
              "        text-align: right;\n",
              "    }\n",
              "</style>\n",
              "<table border=\"1\" class=\"dataframe\">\n",
              "  <thead>\n",
              "    <tr style=\"text-align: right;\">\n",
              "      <th></th>\n",
              "      <th>단어</th>\n",
              "      <th>Log(P(w|spam))</th>\n",
              "      <th>Log(P(w|normal))</th>\n",
              "    </tr>\n",
              "  </thead>\n",
              "  <tbody>\n",
              "    <tr>\n",
              "      <th>0</th>\n",
              "      <td>to</td>\n",
              "      <td>-3.0910</td>\n",
              "      <td>-1.9924</td>\n",
              "    </tr>\n",
              "    <tr>\n",
              "      <th>1</th>\n",
              "      <td>award</td>\n",
              "      <td>-3.0910</td>\n",
              "      <td>-1.9924</td>\n",
              "    </tr>\n",
              "    <tr>\n",
              "      <th>2</th>\n",
              "      <td>contact</td>\n",
              "      <td>-3.0910</td>\n",
              "      <td>-1.9924</td>\n",
              "    </tr>\n",
              "    <tr>\n",
              "      <th>3</th>\n",
              "      <td>you</td>\n",
              "      <td>-1.4816</td>\n",
              "      <td>-1.4816</td>\n",
              "    </tr>\n",
              "    <tr>\n",
              "      <th>4</th>\n",
              "      <td>free</td>\n",
              "      <td>-1.1451</td>\n",
              "      <td>-1.4816</td>\n",
              "    </tr>\n",
              "    <tr>\n",
              "      <th>5</th>\n",
              "      <td>lottery</td>\n",
              "      <td>-1.4816</td>\n",
              "      <td>-3.0910</td>\n",
              "    </tr>\n",
              "    <tr>\n",
              "      <th>6</th>\n",
              "      <td>me</td>\n",
              "      <td>-1.9924</td>\n",
              "      <td>-1.9924</td>\n",
              "    </tr>\n",
              "    <tr>\n",
              "      <th>7</th>\n",
              "      <td>scholarship</td>\n",
              "      <td>-3.0910</td>\n",
              "      <td>-1.9924</td>\n",
              "    </tr>\n",
              "    <tr>\n",
              "      <th>8</th>\n",
              "      <td>ticket</td>\n",
              "      <td>-1.9924</td>\n",
              "      <td>-3.0910</td>\n",
              "    </tr>\n",
              "    <tr>\n",
              "      <th>9</th>\n",
              "      <td>won</td>\n",
              "      <td>-3.0910</td>\n",
              "      <td>-1.9924</td>\n",
              "    </tr>\n",
              "    <tr>\n",
              "      <th>10</th>\n",
              "      <td>get</td>\n",
              "      <td>-1.9924</td>\n",
              "      <td>-3.0910</td>\n",
              "    </tr>\n",
              "  </tbody>\n",
              "</table>\n",
              "</div>"
            ],
            "text/plain": [
              "             단어 Log(P(w|spam)) Log(P(w|normal))\n",
              "0            to        -3.0910          -1.9924\n",
              "1         award        -3.0910          -1.9924\n",
              "2       contact        -3.0910          -1.9924\n",
              "3           you        -1.4816          -1.4816\n",
              "4          free        -1.1451          -1.4816\n",
              "5       lottery        -1.4816          -3.0910\n",
              "6            me        -1.9924          -1.9924\n",
              "7   scholarship        -3.0910          -1.9924\n",
              "8        ticket        -1.9924          -3.0910\n",
              "9           won        -3.0910          -1.9924\n",
              "10          get        -1.9924          -3.0910"
            ]
          },
          "metadata": {
            "tags": []
          },
          "execution_count": 110
        }
      ]
    },
    {
      "cell_type": "code",
      "metadata": {
        "id": "E3ecTY9kTKxx",
        "colab_type": "code",
        "colab": {
          "base_uri": "https://localhost:8080/",
          "height": 390
        },
        "outputId": "46bb0351-84dc-4f89-f11f-40a986290c7d"
      },
      "source": [
        "total_table = np.array([tokens,spam_cnt_list,normal_cnt_list,p_spam,p_normal,log_p_spam,log_p_normal])\n",
        "pd.DataFrame(total_table.T, columns=['단어','spam','normal','P(w|spam)','P(w|normal)','Log(P(w|spam))','Log(P(w|normal))'])"
      ],
      "execution_count": 168,
      "outputs": [
        {
          "output_type": "execute_result",
          "data": {
            "text/html": [
              "<div>\n",
              "<style scoped>\n",
              "    .dataframe tbody tr th:only-of-type {\n",
              "        vertical-align: middle;\n",
              "    }\n",
              "\n",
              "    .dataframe tbody tr th {\n",
              "        vertical-align: top;\n",
              "    }\n",
              "\n",
              "    .dataframe thead th {\n",
              "        text-align: right;\n",
              "    }\n",
              "</style>\n",
              "<table border=\"1\" class=\"dataframe\">\n",
              "  <thead>\n",
              "    <tr style=\"text-align: right;\">\n",
              "      <th></th>\n",
              "      <th>단어</th>\n",
              "      <th>spam</th>\n",
              "      <th>normal</th>\n",
              "      <th>P(w|spam)</th>\n",
              "      <th>P(w|normal)</th>\n",
              "      <th>Log(P(w|spam))</th>\n",
              "      <th>Log(P(w|normal))</th>\n",
              "    </tr>\n",
              "  </thead>\n",
              "  <tbody>\n",
              "    <tr>\n",
              "      <th>0</th>\n",
              "      <td>to</td>\n",
              "      <td>0</td>\n",
              "      <td>1</td>\n",
              "      <td>4.55</td>\n",
              "      <td>13.64</td>\n",
              "      <td>-3.0910</td>\n",
              "      <td>-1.9924</td>\n",
              "    </tr>\n",
              "    <tr>\n",
              "      <th>1</th>\n",
              "      <td>award</td>\n",
              "      <td>0</td>\n",
              "      <td>1</td>\n",
              "      <td>4.55</td>\n",
              "      <td>13.64</td>\n",
              "      <td>-3.0910</td>\n",
              "      <td>-1.9924</td>\n",
              "    </tr>\n",
              "    <tr>\n",
              "      <th>2</th>\n",
              "      <td>contact</td>\n",
              "      <td>0</td>\n",
              "      <td>1</td>\n",
              "      <td>4.55</td>\n",
              "      <td>13.64</td>\n",
              "      <td>-3.0910</td>\n",
              "      <td>-1.9924</td>\n",
              "    </tr>\n",
              "    <tr>\n",
              "      <th>3</th>\n",
              "      <td>you</td>\n",
              "      <td>2</td>\n",
              "      <td>2</td>\n",
              "      <td>22.73</td>\n",
              "      <td>22.73</td>\n",
              "      <td>-1.4816</td>\n",
              "      <td>-1.4816</td>\n",
              "    </tr>\n",
              "    <tr>\n",
              "      <th>4</th>\n",
              "      <td>free</td>\n",
              "      <td>3</td>\n",
              "      <td>2</td>\n",
              "      <td>31.82</td>\n",
              "      <td>22.73</td>\n",
              "      <td>-1.1451</td>\n",
              "      <td>-1.4816</td>\n",
              "    </tr>\n",
              "    <tr>\n",
              "      <th>5</th>\n",
              "      <td>lottery</td>\n",
              "      <td>2</td>\n",
              "      <td>0</td>\n",
              "      <td>22.73</td>\n",
              "      <td>4.55</td>\n",
              "      <td>-1.4816</td>\n",
              "      <td>-3.0910</td>\n",
              "    </tr>\n",
              "    <tr>\n",
              "      <th>6</th>\n",
              "      <td>me</td>\n",
              "      <td>1</td>\n",
              "      <td>1</td>\n",
              "      <td>13.64</td>\n",
              "      <td>13.64</td>\n",
              "      <td>-1.9924</td>\n",
              "      <td>-1.9924</td>\n",
              "    </tr>\n",
              "    <tr>\n",
              "      <th>7</th>\n",
              "      <td>scholarship</td>\n",
              "      <td>0</td>\n",
              "      <td>1</td>\n",
              "      <td>4.55</td>\n",
              "      <td>13.64</td>\n",
              "      <td>-3.0910</td>\n",
              "      <td>-1.9924</td>\n",
              "    </tr>\n",
              "    <tr>\n",
              "      <th>8</th>\n",
              "      <td>ticket</td>\n",
              "      <td>1</td>\n",
              "      <td>0</td>\n",
              "      <td>13.64</td>\n",
              "      <td>4.55</td>\n",
              "      <td>-1.9924</td>\n",
              "      <td>-3.0910</td>\n",
              "    </tr>\n",
              "    <tr>\n",
              "      <th>9</th>\n",
              "      <td>won</td>\n",
              "      <td>0</td>\n",
              "      <td>1</td>\n",
              "      <td>4.55</td>\n",
              "      <td>13.64</td>\n",
              "      <td>-3.0910</td>\n",
              "      <td>-1.9924</td>\n",
              "    </tr>\n",
              "    <tr>\n",
              "      <th>10</th>\n",
              "      <td>get</td>\n",
              "      <td>1</td>\n",
              "      <td>0</td>\n",
              "      <td>13.64</td>\n",
              "      <td>4.55</td>\n",
              "      <td>-1.9924</td>\n",
              "      <td>-3.0910</td>\n",
              "    </tr>\n",
              "  </tbody>\n",
              "</table>\n",
              "</div>"
            ],
            "text/plain": [
              "             단어 spam normal  ... P(w|normal) Log(P(w|spam)) Log(P(w|normal))\n",
              "0            to    0      1  ...       13.64        -3.0910          -1.9924\n",
              "1         award    0      1  ...       13.64        -3.0910          -1.9924\n",
              "2       contact    0      1  ...       13.64        -3.0910          -1.9924\n",
              "3           you    2      2  ...       22.73        -1.4816          -1.4816\n",
              "4          free    3      2  ...       22.73        -1.1451          -1.4816\n",
              "5       lottery    2      0  ...        4.55        -1.4816          -3.0910\n",
              "6            me    1      1  ...       13.64        -1.9924          -1.9924\n",
              "7   scholarship    0      1  ...       13.64        -3.0910          -1.9924\n",
              "8        ticket    1      0  ...        4.55        -1.9924          -3.0910\n",
              "9           won    0      1  ...       13.64        -3.0910          -1.9924\n",
              "10          get    1      0  ...        4.55        -1.9924          -3.0910\n",
              "\n",
              "[11 rows x 7 columns]"
            ]
          },
          "metadata": {
            "tags": []
          },
          "execution_count": 168
        }
      ]
    },
    {
      "cell_type": "code",
      "metadata": {
        "id": "fmXzI4ruJdL5",
        "colab_type": "code",
        "colab": {}
      },
      "source": [
        "#스팸일 확률과 정상일 확률을 구하는 함수 만들기\n",
        "def spam_filtering (a,b):\n",
        "    index_a = tokens.index(a)\n",
        "    index_b = tokens.index(b)\n",
        "    normal_prob = np.log(mail_type.count('normal')/len(mail_type))\n",
        "    spam_prob = np.log(mail_type.count('spam')/len(mail_type))\n",
        "    x1 = math.exp(float(log_p_normal[index_a])+(float(log_p_normal[index_b]))+(float(\"%0.4f\"%normal_prob)))\n",
        "    x2 = math.exp(float(log_p_spam[index_a])+(float(log_p_spam[index_b]))+(float(\"%0.4f\"%spam_prob)))\n",
        "\n",
        "    return ('{},{}가 포함된 메일이 스팸일 확률 : {}'.format(a,b,(x2/(x1+x2))*100), '{},{}가 포함된 메일이 정상일 확률 : {}'.format(a,b,(x1/(x1+x2))*100))"
      ],
      "execution_count": 175,
      "outputs": []
    },
    {
      "cell_type": "code",
      "metadata": {
        "id": "of1XzdYlK7xC",
        "colab_type": "code",
        "colab": {
          "base_uri": "https://localhost:8080/",
          "height": 53
        },
        "outputId": "ee971ec7-ce36-4413-90f7-09e42f6f1d20"
      },
      "source": [
        "spam_filtering('free','lottery')"
      ],
      "execution_count": 174,
      "outputs": [
        {
          "output_type": "execute_result",
          "data": {
            "text/plain": [
              "('free,lottery가 포함된 메일이 스팸일 확률 : 87.49988899428504',\n",
              " 'free,lottery가 포함된 메일이 정상일 확률 : 12.500111005714952')"
            ]
          },
          "metadata": {
            "tags": []
          },
          "execution_count": 174
        }
      ]
    }
  ]
}