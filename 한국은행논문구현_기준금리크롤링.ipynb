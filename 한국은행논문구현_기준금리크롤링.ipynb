{
  "nbformat": 4,
  "nbformat_minor": 0,
  "metadata": {
    "colab": {
      "name": "한국은행논문구현_기준금리크롤링.ipynb",
      "provenance": [],
      "collapsed_sections": [],
      "authorship_tag": "ABX9TyMEeXKrJZAl3jauroLUDRp8",
      "include_colab_link": true
    },
    "kernelspec": {
      "name": "python3",
      "display_name": "Python 3"
    }
  },
  "cells": [
    {
      "cell_type": "markdown",
      "metadata": {
        "id": "view-in-github",
        "colab_type": "text"
      },
      "source": [
        "<a href=\"https://colab.research.google.com/github/quotation3/TIL/blob/master/%ED%95%9C%EA%B5%AD%EC%9D%80%ED%96%89%EB%85%BC%EB%AC%B8%EA%B5%AC%ED%98%84_%EA%B8%B0%EC%A4%80%EA%B8%88%EB%A6%AC%ED%81%AC%EB%A1%A4%EB%A7%81.ipynb\" target=\"_parent\"><img src=\"https://colab.research.google.com/assets/colab-badge.svg\" alt=\"Open In Colab\"/></a>"
      ]
    },
    {
      "cell_type": "code",
      "metadata": {
        "id": "jXNNwzLEv360",
        "colab_type": "code",
        "colab": {}
      },
      "source": [
        "import re\n",
        "import requests\n",
        "from bs4 import BeautifulSoup\n",
        "from datetime import datetime\n",
        "import numpy as np\n",
        "import pandas as pd"
      ],
      "execution_count": null,
      "outputs": []
    },
    {
      "cell_type": "code",
      "metadata": {
        "id": "INp34WsDv9cf",
        "colab_type": "code",
        "colab": {}
      },
      "source": [
        "policy_rates = []\n",
        "dates = []\n",
        "\n",
        "res = requests.get(\"https://www.bok.or.kr/portal/singl/baseRate/list.do?dataSeCd=01&menuNo=200643\")\n",
        "bs = BeautifulSoup(res.text, \"html.parser\")\n",
        "# print(bs.text)\n",
        "content = bs.select('table tbody tr')\n",
        "for i in content:\n",
        "    year=i.select('td')[0].text\n",
        "    month_day=i.select('td')[1].text.replace('월','').replace('일','').replace(' ','')\n",
        "    policy_rates.append(i.select('td')[2].text)\n",
        "    date = datetime.strptime(year+month_day, '%Y%m%d').strftime('%Y-%m-%d')\n",
        "    dates.append(date)"
      ],
      "execution_count": null,
      "outputs": []
    },
    {
      "cell_type": "code",
      "metadata": {
        "id": "awFmIoK9LoET",
        "colab_type": "code",
        "colab": {}
      },
      "source": [
        "data = np.array([dates,policy_rates])\n",
        "df_policy_rates = pd.DataFrame(data.T, columns=['date','policy_rate'])\n",
        "# df_policy_rates"
      ],
      "execution_count": 73,
      "outputs": []
    },
    {
      "cell_type": "code",
      "metadata": {
        "id": "FgD51eFfwwRt",
        "colab_type": "code",
        "colab": {}
      },
      "source": [
        "# 중간중간 빈날짜를 채워줘야함.\n",
        "from datetime import datetime, timedelta\n",
        "# start_date부터 end_date까지 날짜 리스트 생성\n",
        "start_date = datetime.strptime('20050101', '%Y%m%d')\n",
        "end_date = datetime.strptime('20200722', '%Y%m%d')\n",
        "\n",
        "str_date_list = []\n",
        "while start_date.strftime('%Y%m%d') != end_date.strftime('%Y%m%d'): # start_date가 end_date랑 같아지기 전까지 1씩 늘어나면서 리스트에 추가\n",
        "    str_date_list.append(start_date.strftime('%Y-%m-%d'))\n",
        "    start_date += timedelta(days=1)\n",
        "str_date_list.append(end_date.strftime('%Y-%m-%d')) # end_date 포함안됐으므로 따로 추가\n",
        "    \n",
        "date_list=np.array([str_date_list])\n",
        "all_date  = pd.DataFrame(date_list.T, columns=['date'])\n",
        "# print(all_date)"
      ],
      "execution_count": null,
      "outputs": []
    },
    {
      "cell_type": "code",
      "metadata": {
        "id": "NqaDYC2BLI1t",
        "colab_type": "code",
        "colab": {}
      },
      "source": [
        "df = pd.merge(df_policy_rates,all_date, on='date', how='outer') # 기존크롤링데이터와 전체날짜를 date기준으로 outer 조인\n",
        "df_policyrate = df.sort_values(by='date' ,ascending=False).fillna(method='bfill') # 내림차순으로 정렬후, 결측치는 가장 최근 과거 값으로 대입\n",
        "# df_policyrate.head(100)"
      ],
      "execution_count": 74,
      "outputs": []
    },
    {
      "cell_type": "code",
      "metadata": {
        "id": "wz-lWxhBPmwl",
        "colab_type": "code",
        "colab": {
          "base_uri": "https://localhost:8080/",
          "height": 359
        },
        "outputId": "3f3f8495-2bbb-47de-ce0e-b6445b48267f"
      },
      "source": [
        "df_policyrate.drop(df_policyrate.tail(12).index,inplace=True)   #2005년 이전 자료는 삭제\n",
        "df_policyrate.tail(10)"
      ],
      "execution_count": 75,
      "outputs": [
        {
          "output_type": "execute_result",
          "data": {
            "text/html": [
              "<div>\n",
              "<style scoped>\n",
              "    .dataframe tbody tr th:only-of-type {\n",
              "        vertical-align: middle;\n",
              "    }\n",
              "\n",
              "    .dataframe tbody tr th {\n",
              "        vertical-align: top;\n",
              "    }\n",
              "\n",
              "    .dataframe thead th {\n",
              "        text-align: right;\n",
              "    }\n",
              "</style>\n",
              "<table border=\"1\" class=\"dataframe\">\n",
              "  <thead>\n",
              "    <tr style=\"text-align: right;\">\n",
              "      <th></th>\n",
              "      <th>date</th>\n",
              "      <th>policy_rate</th>\n",
              "    </tr>\n",
              "  </thead>\n",
              "  <tbody>\n",
              "    <tr>\n",
              "      <th>54</th>\n",
              "      <td>2005-01-10</td>\n",
              "      <td>3.25</td>\n",
              "    </tr>\n",
              "    <tr>\n",
              "      <th>53</th>\n",
              "      <td>2005-01-09</td>\n",
              "      <td>3.25</td>\n",
              "    </tr>\n",
              "    <tr>\n",
              "      <th>52</th>\n",
              "      <td>2005-01-08</td>\n",
              "      <td>3.25</td>\n",
              "    </tr>\n",
              "    <tr>\n",
              "      <th>51</th>\n",
              "      <td>2005-01-07</td>\n",
              "      <td>3.25</td>\n",
              "    </tr>\n",
              "    <tr>\n",
              "      <th>50</th>\n",
              "      <td>2005-01-06</td>\n",
              "      <td>3.25</td>\n",
              "    </tr>\n",
              "    <tr>\n",
              "      <th>49</th>\n",
              "      <td>2005-01-05</td>\n",
              "      <td>3.25</td>\n",
              "    </tr>\n",
              "    <tr>\n",
              "      <th>48</th>\n",
              "      <td>2005-01-04</td>\n",
              "      <td>3.25</td>\n",
              "    </tr>\n",
              "    <tr>\n",
              "      <th>47</th>\n",
              "      <td>2005-01-03</td>\n",
              "      <td>3.25</td>\n",
              "    </tr>\n",
              "    <tr>\n",
              "      <th>46</th>\n",
              "      <td>2005-01-02</td>\n",
              "      <td>3.25</td>\n",
              "    </tr>\n",
              "    <tr>\n",
              "      <th>45</th>\n",
              "      <td>2005-01-01</td>\n",
              "      <td>3.25</td>\n",
              "    </tr>\n",
              "  </tbody>\n",
              "</table>\n",
              "</div>"
            ],
            "text/plain": [
              "          date policy_rate\n",
              "54  2005-01-10        3.25\n",
              "53  2005-01-09        3.25\n",
              "52  2005-01-08        3.25\n",
              "51  2005-01-07        3.25\n",
              "50  2005-01-06        3.25\n",
              "49  2005-01-05        3.25\n",
              "48  2005-01-04        3.25\n",
              "47  2005-01-03        3.25\n",
              "46  2005-01-02        3.25\n",
              "45  2005-01-01        3.25"
            ]
          },
          "metadata": {
            "tags": []
          },
          "execution_count": 75
        }
      ]
    },
    {
      "cell_type": "code",
      "metadata": {
        "id": "1YQIYiuCLK4j",
        "colab_type": "code",
        "colab": {}
      },
      "source": [
        "df_policyrate.to_csv('policy_rate.csv', index=False, encoding=\"utf-8\")"
      ],
      "execution_count": null,
      "outputs": []
    }
  ]
}