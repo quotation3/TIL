{
  "nbformat": 4,
  "nbformat_minor": 0,
  "metadata": {
    "colab": {
      "name": "한국은행논문구현_기준금리크롤링.ipynb",
      "provenance": [],
      "collapsed_sections": [],
      "authorship_tag": "ABX9TyON/fqkyZYjwmggGloznIkR",
      "include_colab_link": true
    },
    "kernelspec": {
      "name": "python3",
      "display_name": "Python 3"
    }
  },
  "cells": [
    {
      "cell_type": "markdown",
      "metadata": {
        "id": "view-in-github",
        "colab_type": "text"
      },
      "source": [
        "<a href=\"https://colab.research.google.com/github/quotation3/TIL/blob/master/%ED%95%9C%EA%B5%AD%EC%9D%80%ED%96%89%EB%85%BC%EB%AC%B8%EA%B5%AC%ED%98%84_%EA%B8%B0%EC%A4%80%EA%B8%88%EB%A6%AC%ED%81%AC%EB%A1%A4%EB%A7%81.ipynb\" target=\"_parent\"><img src=\"https://colab.research.google.com/assets/colab-badge.svg\" alt=\"Open In Colab\"/></a>"
      ]
    },
    {
      "cell_type": "code",
      "metadata": {
        "id": "jXNNwzLEv360",
        "colab_type": "code",
        "colab": {}
      },
      "source": [
        "import re\n",
        "import requests\n",
        "from bs4 import BeautifulSoup\n",
        "from datetime import datetime\n",
        "import numpy as np\n",
        "import pandas as pd"
      ],
      "execution_count": null,
      "outputs": []
    },
    {
      "cell_type": "code",
      "metadata": {
        "id": "INp34WsDv9cf",
        "colab_type": "code",
        "colab": {}
      },
      "source": [
        "policy_rates = []\n",
        "dates = []\n",
        "\n",
        "res = requests.get(\"https://www.bok.or.kr/portal/singl/baseRate/list.do?dataSeCd=01&menuNo=200643\")\n",
        "bs = BeautifulSoup(res.text, \"html.parser\")\n",
        "# print(bs.text)\n",
        "content = bs.select('table tbody tr')\n",
        "for i in content:\n",
        "    year=i.select('td')[0].text\n",
        "    month_day=i.select('td')[1].text.replace('월','').replace('일','').replace(' ','')\n",
        "    policy_rates.append(i.select('td')[2].text)\n",
        "    date = datetime.strptime(year+month_day, '%Y%m%d').strftime('%Y-%m-%d')\n",
        "    dates.append(date)"
      ],
      "execution_count": null,
      "outputs": []
    },
    {
      "cell_type": "code",
      "metadata": {
        "id": "awFmIoK9LoET",
        "colab_type": "code",
        "colab": {}
      },
      "source": [
        "data = np.array([dates,policy_rates])\n",
        "df_policy_rates = pd.DataFrame(data.T, columns=['date','policy_rate'])\n",
        "# df_policy_rates"
      ],
      "execution_count": 73,
      "outputs": []
    },
    {
      "cell_type": "code",
      "metadata": {
        "id": "FgD51eFfwwRt",
        "colab_type": "code",
        "colab": {}
      },
      "source": [
        "# 중간중간 빈날짜를 채워줘야함.\n",
        "from datetime import datetime, timedelta\n",
        "# start_date부터 end_date까지 날짜 리스트 생성\n",
        "start_date = datetime.strptime('20050101', '%Y%m%d')\n",
        "end_date = datetime.strptime('20200722', '%Y%m%d')\n",
        "\n",
        "str_date_list = []\n",
        "while start_date.strftime('%Y%m%d') != end_date.strftime('%Y%m%d'): # start_date가 end_date랑 같아지기 전까지 1씩 늘어나면서 리스트에 추가\n",
        "    str_date_list.append(start_date.strftime('%Y-%m-%d'))\n",
        "    start_date += timedelta(days=1)\n",
        "str_date_list.append(end_date.strftime('%Y-%m-%d')) # end_date 포함안됐으므로 따로 추가\n",
        "    \n",
        "date_list=np.array([str_date_list])\n",
        "all_date  = pd.DataFrame(date_list.T, columns=['date'])\n",
        "# print(all_date)"
      ],
      "execution_count": null,
      "outputs": []
    },
    {
      "cell_type": "code",
      "metadata": {
        "id": "NqaDYC2BLI1t",
        "colab_type": "code",
        "colab": {
          "base_uri": "https://localhost:8080/",
          "height": 419
        },
        "outputId": "8e2bf0f1-b1df-41ad-d202-e2d9ee467606"
      },
      "source": [
        "df = pd.merge(df_policy_rates,all_date, on='date', how='outer') # 기존크롤링데이터와 전체날짜를 date기준으로 outer 조인\n",
        "df_policyrate = df.sort_values(by='date' ,ascending=False).fillna(method='bfill') # 내림차순으로 정렬후, 결측치는 가장 최근 과거 값으로 대입\n",
        "df_policyrate.head(100)"
      ],
      "execution_count": null,
      "outputs": [
        {
          "output_type": "execute_result",
          "data": {
            "text/html": [
              "<div>\n",
              "<style scoped>\n",
              "    .dataframe tbody tr th:only-of-type {\n",
              "        vertical-align: middle;\n",
              "    }\n",
              "\n",
              "    .dataframe tbody tr th {\n",
              "        vertical-align: top;\n",
              "    }\n",
              "\n",
              "    .dataframe thead th {\n",
              "        text-align: right;\n",
              "    }\n",
              "</style>\n",
              "<table border=\"1\" class=\"dataframe\">\n",
              "  <thead>\n",
              "    <tr style=\"text-align: right;\">\n",
              "      <th></th>\n",
              "      <th>date</th>\n",
              "      <th>policy_rate</th>\n",
              "    </tr>\n",
              "  </thead>\n",
              "  <tbody>\n",
              "    <tr>\n",
              "      <th>5693</th>\n",
              "      <td>2020-07-22</td>\n",
              "      <td>0.50</td>\n",
              "    </tr>\n",
              "    <tr>\n",
              "      <th>5692</th>\n",
              "      <td>2020-07-21</td>\n",
              "      <td>0.50</td>\n",
              "    </tr>\n",
              "    <tr>\n",
              "      <th>5691</th>\n",
              "      <td>2020-07-20</td>\n",
              "      <td>0.50</td>\n",
              "    </tr>\n",
              "    <tr>\n",
              "      <th>5690</th>\n",
              "      <td>2020-07-19</td>\n",
              "      <td>0.50</td>\n",
              "    </tr>\n",
              "    <tr>\n",
              "      <th>5689</th>\n",
              "      <td>2020-07-18</td>\n",
              "      <td>0.50</td>\n",
              "    </tr>\n",
              "    <tr>\n",
              "      <th>...</th>\n",
              "      <td>...</td>\n",
              "      <td>...</td>\n",
              "    </tr>\n",
              "    <tr>\n",
              "      <th>5599</th>\n",
              "      <td>2020-04-18</td>\n",
              "      <td>0.75</td>\n",
              "    </tr>\n",
              "    <tr>\n",
              "      <th>5598</th>\n",
              "      <td>2020-04-17</td>\n",
              "      <td>0.75</td>\n",
              "    </tr>\n",
              "    <tr>\n",
              "      <th>5597</th>\n",
              "      <td>2020-04-16</td>\n",
              "      <td>0.75</td>\n",
              "    </tr>\n",
              "    <tr>\n",
              "      <th>5596</th>\n",
              "      <td>2020-04-15</td>\n",
              "      <td>0.75</td>\n",
              "    </tr>\n",
              "    <tr>\n",
              "      <th>5595</th>\n",
              "      <td>2020-04-14</td>\n",
              "      <td>0.75</td>\n",
              "    </tr>\n",
              "  </tbody>\n",
              "</table>\n",
              "<p>100 rows × 2 columns</p>\n",
              "</div>"
            ],
            "text/plain": [
              "            date policy_rate\n",
              "5693  2020-07-22        0.50\n",
              "5692  2020-07-21        0.50\n",
              "5691  2020-07-20        0.50\n",
              "5690  2020-07-19        0.50\n",
              "5689  2020-07-18        0.50\n",
              "...          ...         ...\n",
              "5599  2020-04-18        0.75\n",
              "5598  2020-04-17        0.75\n",
              "5597  2020-04-16        0.75\n",
              "5596  2020-04-15        0.75\n",
              "5595  2020-04-14        0.75\n",
              "\n",
              "[100 rows x 2 columns]"
            ]
          },
          "metadata": {
            "tags": []
          },
          "execution_count": 31
        }
      ]
    },
    {
      "cell_type": "code",
      "metadata": {
        "id": "wz-lWxhBPmwl",
        "colab_type": "code",
        "colab": {}
      },
      "source": [
        "df_policyrate.drop(df_policyrate.tail(12).index,inplace=True)   #2005년 이전 자료는 삭제"
      ],
      "execution_count": null,
      "outputs": []
    },
    {
      "cell_type": "code",
      "metadata": {
        "id": "1YQIYiuCLK4j",
        "colab_type": "code",
        "colab": {}
      },
      "source": [
        "df_policyrate.to_csv('policy_rate.csv', index=False, encoding=\"utf-8\")"
      ],
      "execution_count": null,
      "outputs": []
    }
  ]
}