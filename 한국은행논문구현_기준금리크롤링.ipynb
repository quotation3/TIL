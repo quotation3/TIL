{
  "nbformat": 4,
  "nbformat_minor": 0,
  "metadata": {
    "colab": {
      "name": "한국은행논문구현_기준금리크롤링.ipynb",
      "provenance": [],
      "collapsed_sections": [],
      "authorship_tag": "ABX9TyPYvFjS2cFIrG/6Iczq/ou5",
      "include_colab_link": true
    },
    "kernelspec": {
      "name": "python3",
      "display_name": "Python 3"
    }
  },
  "cells": [
    {
      "cell_type": "markdown",
      "metadata": {
        "id": "view-in-github",
        "colab_type": "text"
      },
      "source": [
        "<a href=\"https://colab.research.google.com/github/quotation3/TIL/blob/master/%ED%95%9C%EA%B5%AD%EC%9D%80%ED%96%89%EB%85%BC%EB%AC%B8%EA%B5%AC%ED%98%84_%EA%B8%B0%EC%A4%80%EA%B8%88%EB%A6%AC%ED%81%AC%EB%A1%A4%EB%A7%81.ipynb\" target=\"_parent\"><img src=\"https://colab.research.google.com/assets/colab-badge.svg\" alt=\"Open In Colab\"/></a>"
      ]
    },
    {
      "cell_type": "code",
      "metadata": {
        "id": "jXNNwzLEv360",
        "colab_type": "code",
        "colab": {}
      },
      "source": [
        "import re\n",
        "import requests\n",
        "from bs4 import BeautifulSoup\n",
        "from datetime import datetime\n",
        "import numpy as np\n",
        "import pandas as pd"
      ],
      "execution_count": 1,
      "outputs": []
    },
    {
      "cell_type": "code",
      "metadata": {
        "id": "INp34WsDv9cf",
        "colab_type": "code",
        "colab": {}
      },
      "source": [
        "policy_rates = []\n",
        "dates = []\n",
        "\n",
        "res = requests.get(\"https://www.bok.or.kr/portal/singl/baseRate/list.do?dataSeCd=01&menuNo=200643\")\n",
        "bs = BeautifulSoup(res.text, \"html.parser\")\n",
        "# print(bs.text)\n",
        "content = bs.select('table tbody tr')\n",
        "for i in content:\n",
        "    year=i.select('td')[0].text\n",
        "    month_day=i.select('td')[1].text.replace('월','').replace('일','').replace(' ','')\n",
        "    policy_rates.append(i.select('td')[2].text)\n",
        "    date = datetime.strptime(year+month_day, '%Y%m%d').strftime('%Y-%m-%d')\n",
        "    dates.append(date)"
      ],
      "execution_count": 20,
      "outputs": []
    },
    {
      "cell_type": "code",
      "metadata": {
        "id": "awFmIoK9LoET",
        "colab_type": "code",
        "colab": {}
      },
      "source": [
        "data = np.array([dates,policy_rates])\n",
        "df_policy_rates = pd.DataFrame(data.T, columns=['date','policy_rates'])\n",
        "# df_policy_rates"
      ],
      "execution_count": 21,
      "outputs": []
    },
    {
      "cell_type": "code",
      "metadata": {
        "id": "FgD51eFfwwRt",
        "colab_type": "code",
        "colab": {}
      },
      "source": [
        "# 중간중간 빈날짜를 채워줘야함.\n",
        "from datetime import datetime, timedelta\n",
        "# start_date부터 end_date까지 날짜 리스트 생성\n",
        "start_date = datetime.strptime('20050101', '%Y%m%d')\n",
        "end_date = datetime.strptime('20200722', '%Y%m%d')\n",
        "\n",
        "str_date_list = []\n",
        "while start_date.strftime('%Y%m%d') != end_date.strftime('%Y%m%d'): # start_date가 end_date랑 같아지기 전까지 1씩 늘어나면서 리스트에 추가\n",
        "    str_date_list.append(start_date.strftime('%Y-%m-%d'))\n",
        "    start_date += timedelta(days=1)\n",
        "str_date_list.append(end_date.strftime('%Y-%m-%d')) # end_date 포함안됐으므로 따로 추가\n",
        "    \n",
        "date_list=np.array([str_date_list])\n",
        "all_date  = pd.DataFrame(date_list.T, columns=['date'])\n",
        "# print(all_date)"
      ],
      "execution_count": 22,
      "outputs": []
    },
    {
      "cell_type": "code",
      "metadata": {
        "id": "NqaDYC2BLI1t",
        "colab_type": "code",
        "colab": {}
      },
      "source": [
        "df = pd.merge(df_policy_rates,all_date, on='date', how='outer') # 기존크롤링데이터와 전체날짜를 date기준으로 outer 조인\n",
        "df_policyrate = df.sort_values(by='date' ,ascending=False).fillna(method='pad') # 내림차순으로 정렬후, 결측치는 가장 최근 과거 값으로 대입\n",
        "# df_callrate"
      ],
      "execution_count": 23,
      "outputs": []
    },
    {
      "cell_type": "code",
      "metadata": {
        "id": "1YQIYiuCLK4j",
        "colab_type": "code",
        "colab": {}
      },
      "source": [
        "df_policyrate.to_csv('policy_rate.csv', index=False, encoding=\"utf-8\")"
      ],
      "execution_count": 24,
      "outputs": []
    }
  ]
}