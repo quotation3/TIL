{
  "nbformat": 4,
  "nbformat_minor": 0,
  "metadata": {
    "colab": {
      "name": "NBC_일반화.ipynb",
      "provenance": [],
      "collapsed_sections": [],
      "authorship_tag": "ABX9TyOsS0lPknLA+U1Nne9J2S+z",
      "include_colab_link": true
    },
    "kernelspec": {
      "name": "python3",
      "display_name": "Python 3"
    }
  },
  "cells": [
    {
      "cell_type": "markdown",
      "metadata": {
        "id": "view-in-github",
        "colab_type": "text"
      },
      "source": [
        "<a href=\"https://colab.research.google.com/github/quotation3/TIL/blob/master/NBC_%EC%9D%BC%EB%B0%98%ED%99%94.ipynb\" target=\"_parent\"><img src=\"https://colab.research.google.com/assets/colab-badge.svg\" alt=\"Open In Colab\"/></a>"
      ]
    },
    {
      "cell_type": "code",
      "metadata": {
        "id": "ydP-TzRuUQ_2",
        "colab_type": "code",
        "colab": {}
      },
      "source": [
        "import pandas as pd\n",
        "import numpy as np\n",
        "import math"
      ],
      "execution_count": 19,
      "outputs": []
    },
    {
      "cell_type": "code",
      "metadata": {
        "id": "cpZ-4rx1hOhO",
        "colab_type": "code",
        "colab": {}
      },
      "source": [
        "class NBC:\n",
        "\n",
        "    def __init__(self,text, text_type, words, k =0.5):\n",
        "        self.text = text\n",
        "        self.words = words\n",
        "        self.k = k\n",
        "        self.text_type = text_type\n",
        "        self.types = []\n",
        "        self.tokens = []\n",
        "        self.p_type1 = []\n",
        "        self.p_type2 = []\n",
        "        self.log_p_type1 = []\n",
        "        self.log_p_type2 = []\n",
        "        self.type1_cnt_list = []\n",
        "        self.type2_cnt_list = []\n",
        "        self.text_split = []\n",
        "\n",
        "# 토큰화함수\n",
        "    def make_tokens(self):\n",
        "\n",
        "        for i in range(len(self.text)):\n",
        "            self.text_split.append(' '.join(self.text[i]).split(' '))\n",
        "\n",
        "        self.tokens = []\n",
        "        for i in range(len(self.text_split)):\n",
        "            self.tokens.extend(self.text_split[i])\n",
        "        self.tokens = list(set(self.tokens))\n",
        "\n",
        "        return self.tokens\n",
        "\n",
        "# text_type별 카운트 함수   \n",
        "    def cnt_by_type(self):\n",
        "        self.types = []\n",
        "        for i in range(len(self.text_type)):\n",
        "            self.types.append(self.text_type[i])\n",
        "        self.types = list(set(self.types))\n",
        "        self.type1 = self.types[0]\n",
        "        self.type2 = self.types[1]\n",
        "\n",
        "        self.type1_cnt_list = []\n",
        "        self.type2_cnt_list = []\n",
        "\n",
        "        for i in range(len(self.tokens)):\n",
        "            type1_cnt = 0\n",
        "            type2_cnt = 0\n",
        "            for j in range(len(self.text_split)):    #tokens의 단어가 text_split[j]에 있으면 그 빈도 만큼 카운트 추가\n",
        "                if self.tokens[i] in self.text_split[j]:\n",
        "                    if self.text_type[j] == self.type1:\n",
        "                        type1_cnt+=self.text_split[j].count(self.tokens[i])\n",
        "                    elif self.text_type[j] == self.type2:\n",
        "                        type2_cnt+=self.text_split[j].count(self.tokens[i])\n",
        "                    else:\n",
        "                        pass\n",
        "            self.type1_cnt_list.append(type1_cnt)\n",
        "            self.type2_cnt_list.append(type2_cnt)\n",
        "        \n",
        "        cnt_list = np.array([self.tokens,self.type1_cnt_list,self.type2_cnt_list])\n",
        "        cnt_table = pd.DataFrame(cnt_list.T, columns=['단어',self.type1, self.type2])\n",
        "\n",
        "        return cnt_table\n",
        "\n",
        "# 전체 테이블 만드는 함수\n",
        "    def table(self):\n",
        "        self.p_type1 = []\n",
        "        self.p_type2 = []\n",
        "        for i in range(len(self.tokens)):\n",
        "            prob_type1 = (0.5+float(str(self.type1_cnt_list[i])))/(2*0.5+sum(self.type1_cnt_list))*100\n",
        "            prob_type2 = (0.5+float(str(self.type2_cnt_list[i])))/(2*0.5+sum(self.type2_cnt_list))*100\n",
        "            self.p_type1.append(\"%0.2f\" %prob_type1)\n",
        "            self.p_type2.append(\"%0.2f\" %prob_type2)\n",
        "\n",
        "        self.log_p_type1 = []\n",
        "        self.log_p_type2 = []\n",
        "        for i in range(len(self.tokens)):\n",
        "            log_prob_type1 = np.log((0.5+float(str(self.type1_cnt_list[i])))/(2*0.5+sum(self.type1_cnt_list)))\n",
        "            log_prob_type2 = np.log((0.5+float(str(self.type2_cnt_list[i])))/(2*0.5+sum(self.type2_cnt_list)))\n",
        "            self.log_p_type1.append(\"%0.4f\"%log_prob_type1)\n",
        "            self.log_p_type2.append(\"%0.4f\"%log_prob_type2)\n",
        "\n",
        "        total_list = np.array([self.tokens,self.type1_cnt_list,self.type2_cnt_list,self.p_type1,self.p_type2,self.log_p_type1,self.log_p_type2])\n",
        "        total_table = pd.DataFrame(total_list.T, columns=['단어',self.type1, self.type2,'P(w|{})'.format(self.type1),'P(w|{})'.format(self.type2),'Log(P(w|{}))'.format(self.type1),'Log(P(w|{}))'.format(self.type2)])\n",
        "\n",
        "        return total_table\n",
        "    \n",
        "\n",
        "    def type_filtering (self):\n",
        "        index_a = self.tokens.index(self.words[0])\n",
        "        index_b = self.tokens.index(self.words[1])\n",
        "\n",
        "        self.type1_prob = np.log(self.text_type.count(self.type1)/len(self.text_type))\n",
        "        self.type2_prob = np.log(self.text_type.count(self.type2)/len(self.text_type))\n",
        "\n",
        "        x1 = math.exp(float(self.log_p_type2[index_a])+(float(self.log_p_type2[index_b]))+(float(\"%0.4f\"%self.type2_prob)))\n",
        "        x2 = math.exp(float(self.log_p_type1[index_a])+(float(self.log_p_type1[index_b]))+(float(\"%0.4f\"%self.type1_prob)))\n",
        "\n",
        "        return ('{},{}가 포함된 메일이 스팸일 확률 : {}'.format(self.words[0],self.words[1],(x2/(x1+x2))*100), '{},{}가 포함된 메일이 정상일 확률 : {}'.format(self.words[0],self.words[1],(x1/(x1+x2))*100))"
      ],
      "execution_count": 25,
      "outputs": []
    },
    {
      "cell_type": "code",
      "metadata": {
        "id": "N8v2p4h2UTzy",
        "colab_type": "code",
        "colab": {}
      },
      "source": [
        "text = [['me free lottery'],['free get free you'],['you free scholarship'],['free to contact me'],['you won award'],['you ticket lottery']]\n",
        "text_type = ['spam','spam','normal','normal','normal','spam']\n",
        "words = ['free','lottery']\n",
        "nbc = NBC(text, text_type, words)"
      ],
      "execution_count": 26,
      "outputs": []
    },
    {
      "cell_type": "code",
      "metadata": {
        "id": "UpSvSPJlhOsD",
        "colab_type": "code",
        "colab": {
          "base_uri": "https://localhost:8080/",
          "height": 215
        },
        "outputId": "cf70b9f7-99ae-4b01-bd27-e40e79184985"
      },
      "source": [
        "nbc.make_tokens()                                                                              "
      ],
      "execution_count": 27,
      "outputs": [
        {
          "output_type": "execute_result",
          "data": {
            "text/plain": [
              "['lottery',\n",
              " 'get',\n",
              " 'to',\n",
              " 'scholarship',\n",
              " 'contact',\n",
              " 'you',\n",
              " 'free',\n",
              " 'ticket',\n",
              " 'me',\n",
              " 'won',\n",
              " 'award']"
            ]
          },
          "metadata": {
            "tags": []
          },
          "execution_count": 27
        }
      ]
    },
    {
      "cell_type": "code",
      "metadata": {
        "id": "2KsZ2d6faBUl",
        "colab_type": "code",
        "colab": {
          "base_uri": "https://localhost:8080/",
          "height": 390
        },
        "outputId": "2d801951-ab7a-49c3-e869-7115952e6bd7"
      },
      "source": [
        "nbc.cnt_by_type()"
      ],
      "execution_count": 28,
      "outputs": [
        {
          "output_type": "execute_result",
          "data": {
            "text/html": [
              "<div>\n",
              "<style scoped>\n",
              "    .dataframe tbody tr th:only-of-type {\n",
              "        vertical-align: middle;\n",
              "    }\n",
              "\n",
              "    .dataframe tbody tr th {\n",
              "        vertical-align: top;\n",
              "    }\n",
              "\n",
              "    .dataframe thead th {\n",
              "        text-align: right;\n",
              "    }\n",
              "</style>\n",
              "<table border=\"1\" class=\"dataframe\">\n",
              "  <thead>\n",
              "    <tr style=\"text-align: right;\">\n",
              "      <th></th>\n",
              "      <th>단어</th>\n",
              "      <th>spam</th>\n",
              "      <th>normal</th>\n",
              "    </tr>\n",
              "  </thead>\n",
              "  <tbody>\n",
              "    <tr>\n",
              "      <th>0</th>\n",
              "      <td>lottery</td>\n",
              "      <td>2</td>\n",
              "      <td>0</td>\n",
              "    </tr>\n",
              "    <tr>\n",
              "      <th>1</th>\n",
              "      <td>get</td>\n",
              "      <td>1</td>\n",
              "      <td>0</td>\n",
              "    </tr>\n",
              "    <tr>\n",
              "      <th>2</th>\n",
              "      <td>to</td>\n",
              "      <td>0</td>\n",
              "      <td>1</td>\n",
              "    </tr>\n",
              "    <tr>\n",
              "      <th>3</th>\n",
              "      <td>scholarship</td>\n",
              "      <td>0</td>\n",
              "      <td>1</td>\n",
              "    </tr>\n",
              "    <tr>\n",
              "      <th>4</th>\n",
              "      <td>contact</td>\n",
              "      <td>0</td>\n",
              "      <td>1</td>\n",
              "    </tr>\n",
              "    <tr>\n",
              "      <th>5</th>\n",
              "      <td>you</td>\n",
              "      <td>2</td>\n",
              "      <td>2</td>\n",
              "    </tr>\n",
              "    <tr>\n",
              "      <th>6</th>\n",
              "      <td>free</td>\n",
              "      <td>3</td>\n",
              "      <td>2</td>\n",
              "    </tr>\n",
              "    <tr>\n",
              "      <th>7</th>\n",
              "      <td>ticket</td>\n",
              "      <td>1</td>\n",
              "      <td>0</td>\n",
              "    </tr>\n",
              "    <tr>\n",
              "      <th>8</th>\n",
              "      <td>me</td>\n",
              "      <td>1</td>\n",
              "      <td>1</td>\n",
              "    </tr>\n",
              "    <tr>\n",
              "      <th>9</th>\n",
              "      <td>won</td>\n",
              "      <td>0</td>\n",
              "      <td>1</td>\n",
              "    </tr>\n",
              "    <tr>\n",
              "      <th>10</th>\n",
              "      <td>award</td>\n",
              "      <td>0</td>\n",
              "      <td>1</td>\n",
              "    </tr>\n",
              "  </tbody>\n",
              "</table>\n",
              "</div>"
            ],
            "text/plain": [
              "             단어 spam normal\n",
              "0       lottery    2      0\n",
              "1           get    1      0\n",
              "2            to    0      1\n",
              "3   scholarship    0      1\n",
              "4       contact    0      1\n",
              "5           you    2      2\n",
              "6          free    3      2\n",
              "7        ticket    1      0\n",
              "8            me    1      1\n",
              "9           won    0      1\n",
              "10        award    0      1"
            ]
          },
          "metadata": {
            "tags": []
          },
          "execution_count": 28
        }
      ]
    },
    {
      "cell_type": "code",
      "metadata": {
        "id": "zy1Y1hxbhO5j",
        "colab_type": "code",
        "colab": {
          "base_uri": "https://localhost:8080/",
          "height": 390
        },
        "outputId": "c9061e96-70c2-4fca-e375-9cec0d6fe357"
      },
      "source": [
        "nbc.table()"
      ],
      "execution_count": 29,
      "outputs": [
        {
          "output_type": "execute_result",
          "data": {
            "text/html": [
              "<div>\n",
              "<style scoped>\n",
              "    .dataframe tbody tr th:only-of-type {\n",
              "        vertical-align: middle;\n",
              "    }\n",
              "\n",
              "    .dataframe tbody tr th {\n",
              "        vertical-align: top;\n",
              "    }\n",
              "\n",
              "    .dataframe thead th {\n",
              "        text-align: right;\n",
              "    }\n",
              "</style>\n",
              "<table border=\"1\" class=\"dataframe\">\n",
              "  <thead>\n",
              "    <tr style=\"text-align: right;\">\n",
              "      <th></th>\n",
              "      <th>단어</th>\n",
              "      <th>spam</th>\n",
              "      <th>normal</th>\n",
              "      <th>P(w|spam)</th>\n",
              "      <th>P(w|normal)</th>\n",
              "      <th>Log(P(w|spam))</th>\n",
              "      <th>Log(P(w|normal))</th>\n",
              "    </tr>\n",
              "  </thead>\n",
              "  <tbody>\n",
              "    <tr>\n",
              "      <th>0</th>\n",
              "      <td>lottery</td>\n",
              "      <td>2</td>\n",
              "      <td>0</td>\n",
              "      <td>22.73</td>\n",
              "      <td>4.55</td>\n",
              "      <td>-1.4816</td>\n",
              "      <td>-3.0910</td>\n",
              "    </tr>\n",
              "    <tr>\n",
              "      <th>1</th>\n",
              "      <td>get</td>\n",
              "      <td>1</td>\n",
              "      <td>0</td>\n",
              "      <td>13.64</td>\n",
              "      <td>4.55</td>\n",
              "      <td>-1.9924</td>\n",
              "      <td>-3.0910</td>\n",
              "    </tr>\n",
              "    <tr>\n",
              "      <th>2</th>\n",
              "      <td>to</td>\n",
              "      <td>0</td>\n",
              "      <td>1</td>\n",
              "      <td>4.55</td>\n",
              "      <td>13.64</td>\n",
              "      <td>-3.0910</td>\n",
              "      <td>-1.9924</td>\n",
              "    </tr>\n",
              "    <tr>\n",
              "      <th>3</th>\n",
              "      <td>scholarship</td>\n",
              "      <td>0</td>\n",
              "      <td>1</td>\n",
              "      <td>4.55</td>\n",
              "      <td>13.64</td>\n",
              "      <td>-3.0910</td>\n",
              "      <td>-1.9924</td>\n",
              "    </tr>\n",
              "    <tr>\n",
              "      <th>4</th>\n",
              "      <td>contact</td>\n",
              "      <td>0</td>\n",
              "      <td>1</td>\n",
              "      <td>4.55</td>\n",
              "      <td>13.64</td>\n",
              "      <td>-3.0910</td>\n",
              "      <td>-1.9924</td>\n",
              "    </tr>\n",
              "    <tr>\n",
              "      <th>5</th>\n",
              "      <td>you</td>\n",
              "      <td>2</td>\n",
              "      <td>2</td>\n",
              "      <td>22.73</td>\n",
              "      <td>22.73</td>\n",
              "      <td>-1.4816</td>\n",
              "      <td>-1.4816</td>\n",
              "    </tr>\n",
              "    <tr>\n",
              "      <th>6</th>\n",
              "      <td>free</td>\n",
              "      <td>3</td>\n",
              "      <td>2</td>\n",
              "      <td>31.82</td>\n",
              "      <td>22.73</td>\n",
              "      <td>-1.1451</td>\n",
              "      <td>-1.4816</td>\n",
              "    </tr>\n",
              "    <tr>\n",
              "      <th>7</th>\n",
              "      <td>ticket</td>\n",
              "      <td>1</td>\n",
              "      <td>0</td>\n",
              "      <td>13.64</td>\n",
              "      <td>4.55</td>\n",
              "      <td>-1.9924</td>\n",
              "      <td>-3.0910</td>\n",
              "    </tr>\n",
              "    <tr>\n",
              "      <th>8</th>\n",
              "      <td>me</td>\n",
              "      <td>1</td>\n",
              "      <td>1</td>\n",
              "      <td>13.64</td>\n",
              "      <td>13.64</td>\n",
              "      <td>-1.9924</td>\n",
              "      <td>-1.9924</td>\n",
              "    </tr>\n",
              "    <tr>\n",
              "      <th>9</th>\n",
              "      <td>won</td>\n",
              "      <td>0</td>\n",
              "      <td>1</td>\n",
              "      <td>4.55</td>\n",
              "      <td>13.64</td>\n",
              "      <td>-3.0910</td>\n",
              "      <td>-1.9924</td>\n",
              "    </tr>\n",
              "    <tr>\n",
              "      <th>10</th>\n",
              "      <td>award</td>\n",
              "      <td>0</td>\n",
              "      <td>1</td>\n",
              "      <td>4.55</td>\n",
              "      <td>13.64</td>\n",
              "      <td>-3.0910</td>\n",
              "      <td>-1.9924</td>\n",
              "    </tr>\n",
              "  </tbody>\n",
              "</table>\n",
              "</div>"
            ],
            "text/plain": [
              "             단어 spam normal  ... P(w|normal) Log(P(w|spam)) Log(P(w|normal))\n",
              "0       lottery    2      0  ...        4.55        -1.4816          -3.0910\n",
              "1           get    1      0  ...        4.55        -1.9924          -3.0910\n",
              "2            to    0      1  ...       13.64        -3.0910          -1.9924\n",
              "3   scholarship    0      1  ...       13.64        -3.0910          -1.9924\n",
              "4       contact    0      1  ...       13.64        -3.0910          -1.9924\n",
              "5           you    2      2  ...       22.73        -1.4816          -1.4816\n",
              "6          free    3      2  ...       22.73        -1.1451          -1.4816\n",
              "7        ticket    1      0  ...        4.55        -1.9924          -3.0910\n",
              "8            me    1      1  ...       13.64        -1.9924          -1.9924\n",
              "9           won    0      1  ...       13.64        -3.0910          -1.9924\n",
              "10        award    0      1  ...       13.64        -3.0910          -1.9924\n",
              "\n",
              "[11 rows x 7 columns]"
            ]
          },
          "metadata": {
            "tags": []
          },
          "execution_count": 29
        }
      ]
    },
    {
      "cell_type": "code",
      "metadata": {
        "id": "kMrN2MVmhO7b",
        "colab_type": "code",
        "colab": {
          "base_uri": "https://localhost:8080/",
          "height": 53
        },
        "outputId": "5a9e1963-294a-4e20-a448-51c9f2284604"
      },
      "source": [
        "nbc.type_filtering()"
      ],
      "execution_count": 31,
      "outputs": [
        {
          "output_type": "execute_result",
          "data": {
            "text/plain": [
              "('free,lottery가 포함된 메일이 스팸일 확률 : 87.49988899428504',\n",
              " 'free,lottery가 포함된 메일이 정상일 확률 : 12.500111005714952')"
            ]
          },
          "metadata": {
            "tags": []
          },
          "execution_count": 31
        }
      ]
    },
    {
      "cell_type": "code",
      "metadata": {
        "id": "gjRF5yXRhO9r",
        "colab_type": "code",
        "colab": {}
      },
      "source": [
        ""
      ],
      "execution_count": null,
      "outputs": []
    }
  ]
}