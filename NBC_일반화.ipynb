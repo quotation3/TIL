{
  "nbformat": 4,
  "nbformat_minor": 0,
  "metadata": {
    "colab": {
      "name": "NBC_일반화.ipynb",
      "provenance": [],
      "collapsed_sections": [],
      "authorship_tag": "ABX9TyNKIUqFullMjNV4gSDhKzGk",
      "include_colab_link": true
    },
    "kernelspec": {
      "name": "python3",
      "display_name": "Python 3"
    }
  },
  "cells": [
    {
      "cell_type": "markdown",
      "metadata": {
        "id": "view-in-github",
        "colab_type": "text"
      },
      "source": [
        "<a href=\"https://colab.research.google.com/github/quotation3/TIL/blob/master/NBC_%EC%9D%BC%EB%B0%98%ED%99%94.ipynb\" target=\"_parent\"><img src=\"https://colab.research.google.com/assets/colab-badge.svg\" alt=\"Open In Colab\"/></a>"
      ]
    },
    {
      "cell_type": "code",
      "metadata": {
        "id": "ydP-TzRuUQ_2",
        "colab_type": "code",
        "colab": {}
      },
      "source": [
        "import pandas as pd\n",
        "import numpy as np\n",
        "import math"
      ],
      "execution_count": 65,
      "outputs": []
    },
    {
      "cell_type": "code",
      "metadata": {
        "id": "cpZ-4rx1hOhO",
        "colab_type": "code",
        "colab": {}
      },
      "source": [
        "class NBC:\n",
        "\n",
        "    def __init__(self,text, text_type, words, k =0.5):\n",
        "        self.text = text\n",
        "        self.words = words\n",
        "        self.text_type = text_type\n",
        "        self.types = []\n",
        "        self.tokens = []\n",
        "        self.p_type1 = []\n",
        "        self.p_type2 = []\n",
        "        self.log_p_type1 = []\n",
        "        self.log_p_type2 = []\n",
        "        self.type1_cnt_list = []\n",
        "        self.type2_cnt_list = []\n",
        "        self.text_split = []\n",
        "        self.k = k\n",
        "\n",
        "# 토큰화함수\n",
        "    def make_tokens(self):\n",
        "\n",
        "        for i in range(len(self.text)):\n",
        "            self.text_split.append(' '.join(self.text[i]).split(' '))\n",
        "\n",
        "        self.tokens = []\n",
        "        for i in range(len(self.text_split)):\n",
        "            self.tokens.extend(self.text_split[i])\n",
        "        self.tokens = list(set(self.tokens))\n",
        "\n",
        "        return self.tokens\n",
        "\n",
        "# text_type별 카운트 함수   \n",
        "    def cnt_by_type(self):\n",
        "\n",
        "        for i in range(len(self.text_type)):\n",
        "            self.types.append(self.text_type[i])\n",
        "        self.types = list(set(self.types))\n",
        "        self.type1 = self.types[0]  # 첫번째 감정 -> type1\n",
        "        self.type2 = self.types[1]  # 두번째 감정 -> type2\n",
        "\n",
        "        for i in range(len(self.tokens)):\n",
        "            type1_cnt = 0\n",
        "            type2_cnt = 0\n",
        "            for j in range(len(self.text_split)):    # tokens의 단어가 text_split[j]에 있으면 그 빈도 만큼 카운트 추가\n",
        "                if self.tokens[i] in self.text_split[j]:\n",
        "                    if self.text_type[j] == self.type1:\n",
        "                        type1_cnt+=self.text_split[j].count(self.tokens[i])\n",
        "                    elif self.text_type[j] == self.type2:\n",
        "                        type2_cnt+=self.text_split[j].count(self.tokens[i])\n",
        "                    else:\n",
        "                        pass\n",
        "            self.type1_cnt_list.append(type1_cnt)\n",
        "            self.type2_cnt_list.append(type2_cnt)\n",
        "        \n",
        "        cnt_list = np.array([self.tokens,self.type1_cnt_list,self.type2_cnt_list])\n",
        "        cnt_table = pd.DataFrame(cnt_list.T, columns=['단어',self.type1, self.type2])\n",
        "\n",
        "        return cnt_table\n",
        "\n",
        "# 전체 테이블 만드는 함수\n",
        "    def table(self):\n",
        "\n",
        "        for i in range(len(self.tokens)):\n",
        "            prob_type1 = (self.k+float(str(self.type1_cnt_list[i])))/(2*self.k+sum(self.type1_cnt_list))*100\n",
        "            prob_type2 = (self.k+float(str(self.type2_cnt_list[i])))/(2*self.k+sum(self.type2_cnt_list))*100\n",
        "            self.p_type1.append(\"%0.2f\" %prob_type1)\n",
        "            self.p_type2.append(\"%0.2f\" %prob_type2)\n",
        "\n",
        "        for i in range(len(self.tokens)):\n",
        "            log_prob_type1 = np.log((self.k+float(str(self.type1_cnt_list[i])))/(2*self.k+sum(self.type1_cnt_list)))\n",
        "            log_prob_type2 = np.log((self.k+float(str(self.type2_cnt_list[i])))/(2*self.k+sum(self.type2_cnt_list)))\n",
        "            self.log_p_type1.append(\"%0.4f\"%log_prob_type1)\n",
        "            self.log_p_type2.append(\"%0.4f\"%log_prob_type2)\n",
        "\n",
        "        total_list = np.array([self.tokens,self.type1_cnt_list,self.type2_cnt_list,self.p_type1,self.p_type2,self.log_p_type1,self.log_p_type2])\n",
        "        total_table = pd.DataFrame(total_list.T, columns=['단어',self.type1, self.type2,'P(w|{})'.format(self.type1),'P(w|{})'.format(self.type2),'Log(P(w|{}))'.format(self.type1),'Log(P(w|{}))'.format(self.type2)])\n",
        "\n",
        "        return total_table\n",
        "    \n",
        "\n",
        "    def type_filtering (self):\n",
        "\n",
        "        index_a = self.tokens.index(self.words[0])  # 키워드가 tokens리스트에서 갖는 인덱스 확인\n",
        "        index_b = self.tokens.index(self.words[1])\n",
        "\n",
        "        self.type1_prob = np.log(self.text_type.count(self.type1)/len(self.text_type))\n",
        "        self.type2_prob = np.log(self.text_type.count(self.type2)/len(self.text_type))\n",
        "\n",
        "        x1 = math.exp(float(self.log_p_type2[index_a])+(float(self.log_p_type2[index_b]))+(float(\"%0.4f\"%self.type2_prob)))\n",
        "        x2 = math.exp(float(self.log_p_type1[index_a])+(float(self.log_p_type1[index_b]))+(float(\"%0.4f\"%self.type1_prob)))\n",
        "\n",
        "        return ('{},{}가 포함됐을때 {}일 확률 : {}'.format(self.words[0],self.words[1],self.type1, (x2/(x1+x2))*100), '{},{}가 포함됐을때 {}일 확률 : {}'.format(self.words[0],self.words[1],self.type2, (x1/(x1+x2))*100))"
      ],
      "execution_count": 66,
      "outputs": []
    },
    {
      "cell_type": "code",
      "metadata": {
        "id": "N8v2p4h2UTzy",
        "colab_type": "code",
        "colab": {}
      },
      "source": [
        "text = [['me free lottery'],['free get free you'],['you free scholarship'],['free to contact me'],['you won award'],['you ticket lottery']]\n",
        "text_type = ['spam','spam','normal','normal','normal','spam']\n",
        "words = ['free','lottery']\n",
        "nbc = NBC(text, text_type, words)"
      ],
      "execution_count": 67,
      "outputs": []
    },
    {
      "cell_type": "code",
      "metadata": {
        "id": "UpSvSPJlhOsD",
        "colab_type": "code",
        "colab": {
          "base_uri": "https://localhost:8080/",
          "height": 215
        },
        "outputId": "893c0de1-5a38-4258-f2d8-6b5a9983733a"
      },
      "source": [
        "nbc.make_tokens()                                                                              "
      ],
      "execution_count": 68,
      "outputs": [
        {
          "output_type": "execute_result",
          "data": {
            "text/plain": [
              "['lottery',\n",
              " 'get',\n",
              " 'to',\n",
              " 'scholarship',\n",
              " 'contact',\n",
              " 'you',\n",
              " 'free',\n",
              " 'ticket',\n",
              " 'me',\n",
              " 'won',\n",
              " 'award']"
            ]
          },
          "metadata": {
            "tags": []
          },
          "execution_count": 68
        }
      ]
    },
    {
      "cell_type": "code",
      "metadata": {
        "id": "2KsZ2d6faBUl",
        "colab_type": "code",
        "colab": {
          "base_uri": "https://localhost:8080/",
          "height": 390
        },
        "outputId": "dae1611b-c659-40f8-b909-2bf8778b93b4"
      },
      "source": [
        "nbc.cnt_by_type()"
      ],
      "execution_count": 69,
      "outputs": [
        {
          "output_type": "execute_result",
          "data": {
            "text/html": [
              "<div>\n",
              "<style scoped>\n",
              "    .dataframe tbody tr th:only-of-type {\n",
              "        vertical-align: middle;\n",
              "    }\n",
              "\n",
              "    .dataframe tbody tr th {\n",
              "        vertical-align: top;\n",
              "    }\n",
              "\n",
              "    .dataframe thead th {\n",
              "        text-align: right;\n",
              "    }\n",
              "</style>\n",
              "<table border=\"1\" class=\"dataframe\">\n",
              "  <thead>\n",
              "    <tr style=\"text-align: right;\">\n",
              "      <th></th>\n",
              "      <th>단어</th>\n",
              "      <th>spam</th>\n",
              "      <th>normal</th>\n",
              "    </tr>\n",
              "  </thead>\n",
              "  <tbody>\n",
              "    <tr>\n",
              "      <th>0</th>\n",
              "      <td>lottery</td>\n",
              "      <td>2</td>\n",
              "      <td>0</td>\n",
              "    </tr>\n",
              "    <tr>\n",
              "      <th>1</th>\n",
              "      <td>get</td>\n",
              "      <td>1</td>\n",
              "      <td>0</td>\n",
              "    </tr>\n",
              "    <tr>\n",
              "      <th>2</th>\n",
              "      <td>to</td>\n",
              "      <td>0</td>\n",
              "      <td>1</td>\n",
              "    </tr>\n",
              "    <tr>\n",
              "      <th>3</th>\n",
              "      <td>scholarship</td>\n",
              "      <td>0</td>\n",
              "      <td>1</td>\n",
              "    </tr>\n",
              "    <tr>\n",
              "      <th>4</th>\n",
              "      <td>contact</td>\n",
              "      <td>0</td>\n",
              "      <td>1</td>\n",
              "    </tr>\n",
              "    <tr>\n",
              "      <th>5</th>\n",
              "      <td>you</td>\n",
              "      <td>2</td>\n",
              "      <td>2</td>\n",
              "    </tr>\n",
              "    <tr>\n",
              "      <th>6</th>\n",
              "      <td>free</td>\n",
              "      <td>3</td>\n",
              "      <td>2</td>\n",
              "    </tr>\n",
              "    <tr>\n",
              "      <th>7</th>\n",
              "      <td>ticket</td>\n",
              "      <td>1</td>\n",
              "      <td>0</td>\n",
              "    </tr>\n",
              "    <tr>\n",
              "      <th>8</th>\n",
              "      <td>me</td>\n",
              "      <td>1</td>\n",
              "      <td>1</td>\n",
              "    </tr>\n",
              "    <tr>\n",
              "      <th>9</th>\n",
              "      <td>won</td>\n",
              "      <td>0</td>\n",
              "      <td>1</td>\n",
              "    </tr>\n",
              "    <tr>\n",
              "      <th>10</th>\n",
              "      <td>award</td>\n",
              "      <td>0</td>\n",
              "      <td>1</td>\n",
              "    </tr>\n",
              "  </tbody>\n",
              "</table>\n",
              "</div>"
            ],
            "text/plain": [
              "             단어 spam normal\n",
              "0       lottery    2      0\n",
              "1           get    1      0\n",
              "2            to    0      1\n",
              "3   scholarship    0      1\n",
              "4       contact    0      1\n",
              "5           you    2      2\n",
              "6          free    3      2\n",
              "7        ticket    1      0\n",
              "8            me    1      1\n",
              "9           won    0      1\n",
              "10        award    0      1"
            ]
          },
          "metadata": {
            "tags": []
          },
          "execution_count": 69
        }
      ]
    },
    {
      "cell_type": "code",
      "metadata": {
        "id": "zy1Y1hxbhO5j",
        "colab_type": "code",
        "colab": {
          "base_uri": "https://localhost:8080/",
          "height": 390
        },
        "outputId": "2116ad51-90ba-4cde-b644-f4b2f9c0b3c4"
      },
      "source": [
        "nbc.table()"
      ],
      "execution_count": 70,
      "outputs": [
        {
          "output_type": "execute_result",
          "data": {
            "text/html": [
              "<div>\n",
              "<style scoped>\n",
              "    .dataframe tbody tr th:only-of-type {\n",
              "        vertical-align: middle;\n",
              "    }\n",
              "\n",
              "    .dataframe tbody tr th {\n",
              "        vertical-align: top;\n",
              "    }\n",
              "\n",
              "    .dataframe thead th {\n",
              "        text-align: right;\n",
              "    }\n",
              "</style>\n",
              "<table border=\"1\" class=\"dataframe\">\n",
              "  <thead>\n",
              "    <tr style=\"text-align: right;\">\n",
              "      <th></th>\n",
              "      <th>단어</th>\n",
              "      <th>spam</th>\n",
              "      <th>normal</th>\n",
              "      <th>P(w|spam)</th>\n",
              "      <th>P(w|normal)</th>\n",
              "      <th>Log(P(w|spam))</th>\n",
              "      <th>Log(P(w|normal))</th>\n",
              "    </tr>\n",
              "  </thead>\n",
              "  <tbody>\n",
              "    <tr>\n",
              "      <th>0</th>\n",
              "      <td>lottery</td>\n",
              "      <td>2</td>\n",
              "      <td>0</td>\n",
              "      <td>22.73</td>\n",
              "      <td>4.55</td>\n",
              "      <td>-1.4816</td>\n",
              "      <td>-3.0910</td>\n",
              "    </tr>\n",
              "    <tr>\n",
              "      <th>1</th>\n",
              "      <td>get</td>\n",
              "      <td>1</td>\n",
              "      <td>0</td>\n",
              "      <td>13.64</td>\n",
              "      <td>4.55</td>\n",
              "      <td>-1.9924</td>\n",
              "      <td>-3.0910</td>\n",
              "    </tr>\n",
              "    <tr>\n",
              "      <th>2</th>\n",
              "      <td>to</td>\n",
              "      <td>0</td>\n",
              "      <td>1</td>\n",
              "      <td>4.55</td>\n",
              "      <td>13.64</td>\n",
              "      <td>-3.0910</td>\n",
              "      <td>-1.9924</td>\n",
              "    </tr>\n",
              "    <tr>\n",
              "      <th>3</th>\n",
              "      <td>scholarship</td>\n",
              "      <td>0</td>\n",
              "      <td>1</td>\n",
              "      <td>4.55</td>\n",
              "      <td>13.64</td>\n",
              "      <td>-3.0910</td>\n",
              "      <td>-1.9924</td>\n",
              "    </tr>\n",
              "    <tr>\n",
              "      <th>4</th>\n",
              "      <td>contact</td>\n",
              "      <td>0</td>\n",
              "      <td>1</td>\n",
              "      <td>4.55</td>\n",
              "      <td>13.64</td>\n",
              "      <td>-3.0910</td>\n",
              "      <td>-1.9924</td>\n",
              "    </tr>\n",
              "    <tr>\n",
              "      <th>5</th>\n",
              "      <td>you</td>\n",
              "      <td>2</td>\n",
              "      <td>2</td>\n",
              "      <td>22.73</td>\n",
              "      <td>22.73</td>\n",
              "      <td>-1.4816</td>\n",
              "      <td>-1.4816</td>\n",
              "    </tr>\n",
              "    <tr>\n",
              "      <th>6</th>\n",
              "      <td>free</td>\n",
              "      <td>3</td>\n",
              "      <td>2</td>\n",
              "      <td>31.82</td>\n",
              "      <td>22.73</td>\n",
              "      <td>-1.1451</td>\n",
              "      <td>-1.4816</td>\n",
              "    </tr>\n",
              "    <tr>\n",
              "      <th>7</th>\n",
              "      <td>ticket</td>\n",
              "      <td>1</td>\n",
              "      <td>0</td>\n",
              "      <td>13.64</td>\n",
              "      <td>4.55</td>\n",
              "      <td>-1.9924</td>\n",
              "      <td>-3.0910</td>\n",
              "    </tr>\n",
              "    <tr>\n",
              "      <th>8</th>\n",
              "      <td>me</td>\n",
              "      <td>1</td>\n",
              "      <td>1</td>\n",
              "      <td>13.64</td>\n",
              "      <td>13.64</td>\n",
              "      <td>-1.9924</td>\n",
              "      <td>-1.9924</td>\n",
              "    </tr>\n",
              "    <tr>\n",
              "      <th>9</th>\n",
              "      <td>won</td>\n",
              "      <td>0</td>\n",
              "      <td>1</td>\n",
              "      <td>4.55</td>\n",
              "      <td>13.64</td>\n",
              "      <td>-3.0910</td>\n",
              "      <td>-1.9924</td>\n",
              "    </tr>\n",
              "    <tr>\n",
              "      <th>10</th>\n",
              "      <td>award</td>\n",
              "      <td>0</td>\n",
              "      <td>1</td>\n",
              "      <td>4.55</td>\n",
              "      <td>13.64</td>\n",
              "      <td>-3.0910</td>\n",
              "      <td>-1.9924</td>\n",
              "    </tr>\n",
              "  </tbody>\n",
              "</table>\n",
              "</div>"
            ],
            "text/plain": [
              "             단어 spam normal  ... P(w|normal) Log(P(w|spam)) Log(P(w|normal))\n",
              "0       lottery    2      0  ...        4.55        -1.4816          -3.0910\n",
              "1           get    1      0  ...        4.55        -1.9924          -3.0910\n",
              "2            to    0      1  ...       13.64        -3.0910          -1.9924\n",
              "3   scholarship    0      1  ...       13.64        -3.0910          -1.9924\n",
              "4       contact    0      1  ...       13.64        -3.0910          -1.9924\n",
              "5           you    2      2  ...       22.73        -1.4816          -1.4816\n",
              "6          free    3      2  ...       22.73        -1.1451          -1.4816\n",
              "7        ticket    1      0  ...        4.55        -1.9924          -3.0910\n",
              "8            me    1      1  ...       13.64        -1.9924          -1.9924\n",
              "9           won    0      1  ...       13.64        -3.0910          -1.9924\n",
              "10        award    0      1  ...       13.64        -3.0910          -1.9924\n",
              "\n",
              "[11 rows x 7 columns]"
            ]
          },
          "metadata": {
            "tags": []
          },
          "execution_count": 70
        }
      ]
    },
    {
      "cell_type": "code",
      "metadata": {
        "id": "kMrN2MVmhO7b",
        "colab_type": "code",
        "colab": {
          "base_uri": "https://localhost:8080/",
          "height": 53
        },
        "outputId": "7a5a2a01-a5d3-48e7-b2ab-f667d90e84e1"
      },
      "source": [
        "nbc.type_filtering()"
      ],
      "execution_count": 71,
      "outputs": [
        {
          "output_type": "execute_result",
          "data": {
            "text/plain": [
              "('free,lottery가 포함됐을때 spam일 확률 : 87.49988899428504',\n",
              " 'free,lottery가 포함됐을때 normal일 확률 : 12.500111005714952')"
            ]
          },
          "metadata": {
            "tags": []
          },
          "execution_count": 71
        }
      ]
    },
    {
      "cell_type": "code",
      "metadata": {
        "id": "gjRF5yXRhO9r",
        "colab_type": "code",
        "colab": {}
      },
      "source": [
        ""
      ],
      "execution_count": null,
      "outputs": []
    }
  ]
}