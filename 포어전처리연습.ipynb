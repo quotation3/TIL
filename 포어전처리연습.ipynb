{
  "nbformat": 4,
  "nbformat_minor": 0,
  "metadata": {
    "colab": {
      "name": "포어전처리연습.ipynb",
      "provenance": [],
      "collapsed_sections": [],
      "authorship_tag": "ABX9TyO65iMPbNx95AKg3bkreguZ",
      "include_colab_link": true
    },
    "kernelspec": {
      "name": "python3",
      "display_name": "Python 3"
    }
  },
  "cells": [
    {
      "cell_type": "markdown",
      "metadata": {
        "id": "view-in-github",
        "colab_type": "text"
      },
      "source": [
        "<a href=\"https://colab.research.google.com/github/quotation3/TIL/blob/master/%ED%8F%AC%EC%96%B4%EC%A0%84%EC%B2%98%EB%A6%AC%EC%97%B0%EC%8A%B5.ipynb\" target=\"_parent\"><img src=\"https://colab.research.google.com/assets/colab-badge.svg\" alt=\"Open In Colab\"/></a>"
      ]
    },
    {
      "cell_type": "code",
      "metadata": {
        "id": "DyHXVboO5vuj"
      },
      "source": [
        "text = 'De pé , à cabeceira da cama , com os olhos estúpidos , a boca entreaberta , a torelhas.'"
      ],
      "execution_count": 24,
      "outputs": []
    },
    {
      "cell_type": "code",
      "metadata": {
        "id": "zPNYsAiJ7Jsh",
        "outputId": "d73954df-3ddd-4413-8623-6f29cd802b64",
        "colab": {
          "base_uri": "https://localhost:8080/",
          "height": 52
        }
      },
      "source": [
        "pip install nltk"
      ],
      "execution_count": 25,
      "outputs": [
        {
          "output_type": "stream",
          "text": [
            "Requirement already satisfied: nltk in /usr/local/lib/python3.6/dist-packages (3.2.5)\n",
            "Requirement already satisfied: six in /usr/local/lib/python3.6/dist-packages (from nltk) (1.15.0)\n"
          ],
          "name": "stdout"
        }
      ]
    },
    {
      "cell_type": "code",
      "metadata": {
        "id": "EzwhRQmx7OYj",
        "outputId": "dcbe4a8e-16be-47b8-ebac-d14b7e1a81a3",
        "colab": {
          "base_uri": "https://localhost:8080/",
          "height": 70
        }
      },
      "source": [
        "import nltk\n",
        "nltk.download('rslp')\n",
        "stemmer = nltk.stem.RSLPStemmer()\n",
        "stemmer.stem(\"criar\")"
      ],
      "execution_count": 26,
      "outputs": [
        {
          "output_type": "stream",
          "text": [
            "[nltk_data] Downloading package rslp to /root/nltk_data...\n",
            "[nltk_data]   Package rslp is already up-to-date!\n"
          ],
          "name": "stdout"
        },
        {
          "output_type": "execute_result",
          "data": {
            "application/vnd.google.colaboratory.intrinsic+json": {
              "type": "string"
            },
            "text/plain": [
              "'cri'"
            ]
          },
          "metadata": {
            "tags": []
          },
          "execution_count": 26
        }
      ]
    },
    {
      "cell_type": "code",
      "metadata": {
        "id": "PMz78nYR9kyA",
        "outputId": "2c27ed73-ab42-4d15-fe82-dcc7c99a1a2a",
        "colab": {
          "base_uri": "https://localhost:8080/",
          "height": 70
        }
      },
      "source": [
        "nltk.download('wordnet')"
      ],
      "execution_count": 27,
      "outputs": [
        {
          "output_type": "stream",
          "text": [
            "[nltk_data] Downloading package wordnet to /root/nltk_data...\n",
            "[nltk_data]   Package wordnet is already up-to-date!\n"
          ],
          "name": "stdout"
        },
        {
          "output_type": "execute_result",
          "data": {
            "text/plain": [
              "True"
            ]
          },
          "metadata": {
            "tags": []
          },
          "execution_count": 27
        }
      ]
    },
    {
      "cell_type": "code",
      "metadata": {
        "id": "qdzSQe4V9r7z",
        "outputId": "5edb3361-4605-491b-f662-c5b8c12c8b85",
        "colab": {
          "base_uri": "https://localhost:8080/",
          "height": 35
        }
      },
      "source": [
        "from nltk.stem import WordNetLemmatizer\n",
        "wl = WordNetLemmatizer()\n",
        "wl.lemmatize(\"falei\")"
      ],
      "execution_count": 28,
      "outputs": [
        {
          "output_type": "execute_result",
          "data": {
            "application/vnd.google.colaboratory.intrinsic+json": {
              "type": "string"
            },
            "text/plain": [
              "'falei'"
            ]
          },
          "metadata": {
            "tags": []
          },
          "execution_count": 28
        }
      ]
    },
    {
      "cell_type": "code",
      "metadata": {
        "id": "Rvx80w4Q_aD8"
      },
      "source": [
        "from nltk.stem.snowball import SnowballStemmer"
      ],
      "execution_count": 29,
      "outputs": []
    },
    {
      "cell_type": "code",
      "metadata": {
        "id": "h8mc9AMP_fEd",
        "outputId": "6e402cd7-74fc-4d55-f096-ec98d2711377",
        "colab": {
          "base_uri": "https://localhost:8080/",
          "height": 35
        }
      },
      "source": [
        "portugueseStemmer=SnowballStemmer(\"portuguese\")\n",
        "portugueseStemmer.stem(\"falei\")"
      ],
      "execution_count": 30,
      "outputs": [
        {
          "output_type": "execute_result",
          "data": {
            "application/vnd.google.colaboratory.intrinsic+json": {
              "type": "string"
            },
            "text/plain": [
              "'fal'"
            ]
          },
          "metadata": {
            "tags": []
          },
          "execution_count": 30
        }
      ]
    },
    {
      "cell_type": "code",
      "metadata": {
        "id": "0lEcN7C9EbrD"
      },
      "source": [
        "import nltk\n",
        "from nltk import bigrams\n",
        "from nltk import trigrams"
      ],
      "execution_count": 31,
      "outputs": []
    },
    {
      "cell_type": "code",
      "metadata": {
        "id": "pheTSmU5Evb1",
        "outputId": "b8818447-0904-4281-dcb6-10deff03ecd2",
        "colab": {
          "base_uri": "https://localhost:8080/",
          "height": 52
        }
      },
      "source": [
        "nltk.download('punkt')\n",
        "from nltk.tokenize import word_tokenize"
      ],
      "execution_count": 32,
      "outputs": [
        {
          "output_type": "stream",
          "text": [
            "[nltk_data] Downloading package punkt to /root/nltk_data...\n",
            "[nltk_data]   Package punkt is already up-to-date!\n"
          ],
          "name": "stdout"
        }
      ]
    },
    {
      "cell_type": "code",
      "metadata": {
        "id": "1r4PL9OmEctg",
        "outputId": "464e9bad-7a9f-4fbd-f01a-4b03b42d7704",
        "colab": {
          "base_uri": "https://localhost:8080/",
          "height": 263
        }
      },
      "source": [
        "from nltk import ngrams\n",
        "\n",
        "n = 6\n",
        "sixgrams = ngrams(text.split(), n)\n",
        "\n",
        "for grams in sixgrams:\n",
        "  print(grams)"
      ],
      "execution_count": 33,
      "outputs": [
        {
          "output_type": "stream",
          "text": [
            "('De', 'pé', ',', 'à', 'cabeceira', 'da')\n",
            "('pé', ',', 'à', 'cabeceira', 'da', 'cama')\n",
            "(',', 'à', 'cabeceira', 'da', 'cama', ',')\n",
            "('à', 'cabeceira', 'da', 'cama', ',', 'com')\n",
            "('cabeceira', 'da', 'cama', ',', 'com', 'os')\n",
            "('da', 'cama', ',', 'com', 'os', 'olhos')\n",
            "('cama', ',', 'com', 'os', 'olhos', 'estúpidos')\n",
            "(',', 'com', 'os', 'olhos', 'estúpidos', ',')\n",
            "('com', 'os', 'olhos', 'estúpidos', ',', 'a')\n",
            "('os', 'olhos', 'estúpidos', ',', 'a', 'boca')\n",
            "('olhos', 'estúpidos', ',', 'a', 'boca', 'entreaberta')\n",
            "('estúpidos', ',', 'a', 'boca', 'entreaberta', ',')\n",
            "(',', 'a', 'boca', 'entreaberta', ',', 'a')\n",
            "('a', 'boca', 'entreaberta', ',', 'a', 'torelhas.')\n"
          ],
          "name": "stdout"
        }
      ]
    }
  ]
}