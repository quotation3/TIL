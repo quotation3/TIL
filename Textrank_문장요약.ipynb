{
  "nbformat": 4,
  "nbformat_minor": 0,
  "metadata": {
    "colab": {
      "name": "Textrank_문장요약.ipynb",
      "provenance": [],
      "collapsed_sections": [],
      "authorship_tag": "ABX9TyPGjLXkZ6Q9tBTYQnHTtv2a",
      "include_colab_link": true
    },
    "kernelspec": {
      "name": "python3",
      "display_name": "Python 3"
    }
  },
  "cells": [
    {
      "cell_type": "markdown",
      "metadata": {
        "id": "view-in-github",
        "colab_type": "text"
      },
      "source": [
        "<a href=\"https://colab.research.google.com/github/quotation3/TIL/blob/master/Textrank_%EB%AC%B8%EC%9E%A5%EC%9A%94%EC%95%BD.ipynb\" target=\"_parent\"><img src=\"https://colab.research.google.com/assets/colab-badge.svg\" alt=\"Open In Colab\"/></a>"
      ]
    },
    {
      "cell_type": "code",
      "metadata": {
        "id": "7D-8PAdxsjYH",
        "colab_type": "code",
        "colab": {}
      },
      "source": [
        "import numpy as np"
      ],
      "execution_count": 1,
      "outputs": []
    },
    {
      "cell_type": "code",
      "metadata": {
        "id": "SMzM3Cb2u9zu",
        "colab_type": "code",
        "colab": {}
      },
      "source": [
        "phrase = '딸기 바나나 사과 파인애플 수박. 바나나 사과 딸기 포도. 복숭아 수박. 파인애플 사과 딸기 바나나'\n",
        "\n",
        "def split_text(phrase):\n",
        "    text = phrase.split('.')\n"
      ],
      "execution_count": 2,
      "outputs": []
    },
    {
      "cell_type": "code",
      "metadata": {
        "id": "-Q23BtZNvsCi",
        "colab_type": "code",
        "colab": {
          "base_uri": "https://localhost:8080/",
          "height": 89
        },
        "outputId": "ffa49081-1acf-43da-b726-78901ac502ea"
      },
      "source": [
        "text_list = []\n",
        "text = phrase.split('.')\n",
        "for i in range(len(text)):\n",
        "    text[i]=text[i].lstrip()\n",
        "    word = text[i].split(' ')\n",
        "    text_list.append(word)\n",
        "text_list"
      ],
      "execution_count": 3,
      "outputs": [
        {
          "output_type": "execute_result",
          "data": {
            "text/plain": [
              "[['딸기', '바나나', '사과', '파인애플', '수박'],\n",
              " ['바나나', '사과', '딸기', '포도'],\n",
              " ['복숭아', '수박'],\n",
              " ['파인애플', '사과', '딸기', '바나나']]"
            ]
          },
          "metadata": {
            "tags": []
          },
          "execution_count": 3
        }
      ]
    },
    {
      "cell_type": "code",
      "metadata": {
        "id": "9b3keq532yPy",
        "colab_type": "code",
        "colab": {
          "base_uri": "https://localhost:8080/",
          "height": 89
        },
        "outputId": "efdc8202-728d-45e1-c014-5f85a9830920"
      },
      "source": [
        "# 문장1과 문장2 유사도 구하기\n",
        "sim_matrix = []\n",
        "for i in range(len(text)):\n",
        "    sims=[]\n",
        "    for j in range(len(text)):\n",
        "        # print('문장{}과 문장{}의 합집합과 교집합'.format(i+1,j+1))\n",
        "        # print(list(set(text_list[i]).union(set(text_list[j]))))\n",
        "        # print(list(set(text_list[i]).intersection(set(text_list[j]))))\n",
        "        # print('')\n",
        "        sim = len(list(set(text_list[i]).intersection(set(text_list[j]))))/len(list(set(text_list[i]).union(set(text_list[j]))))  #교집합을 합집합으로 나눠서 유사도 계산\n",
        "\n",
        "        sims.append(sim)\n",
        "    sim_matrix.append(sims)\n",
        "    sim_matrix[i][i]=0  #(1,1) (2,2) ...은 1이 나오므로 0으로 바꿔줌\n",
        "sim_matrix"
      ],
      "execution_count": 4,
      "outputs": [
        {
          "output_type": "execute_result",
          "data": {
            "text/plain": [
              "[[0, 0.5, 0.16666666666666666, 0.8],\n",
              " [0.5, 0, 0.0, 0.6],\n",
              " [0.16666666666666666, 0.0, 0, 0.0],\n",
              " [0.8, 0.6, 0.0, 0]]"
            ]
          },
          "metadata": {
            "tags": []
          },
          "execution_count": 4
        }
      ]
    },
    {
      "cell_type": "code",
      "metadata": {
        "id": "Dz5A-LAHNgho",
        "colab_type": "code",
        "colab": {}
      },
      "source": [
        "matrix = np.array(sim_matrix)"
      ],
      "execution_count": 5,
      "outputs": []
    },
    {
      "cell_type": "code",
      "metadata": {
        "id": "VvxccfKpQSP9",
        "colab_type": "code",
        "colab": {
          "base_uri": "https://localhost:8080/",
          "height": 35
        },
        "outputId": "53830cbb-abec-44b8-8b8f-42dc2c8776b8"
      },
      "source": [
        "# score구하기\n",
        "scores = []\n",
        "for i in range(len(matrix)):\n",
        "    score = sum(matrix[i])\n",
        "    scores.append(score)\n",
        "scores"
      ],
      "execution_count": 6,
      "outputs": [
        {
          "output_type": "execute_result",
          "data": {
            "text/plain": [
              "[1.4666666666666668, 1.1, 0.16666666666666666, 1.4]"
            ]
          },
          "metadata": {
            "tags": []
          },
          "execution_count": 6
        }
      ]
    },
    {
      "cell_type": "code",
      "metadata": {
        "id": "tmOsPtLgTX1u",
        "colab_type": "code",
        "colab": {
          "base_uri": "https://localhost:8080/",
          "height": 89
        },
        "outputId": "a4b010df-6ecd-432e-95f3-63ff69ecc247"
      },
      "source": [
        "# 엣지가중치\n",
        "edges = np.zeros((4,4))\n",
        "for i in range(len(scores)):\n",
        "    edges[i] = matrix[i]/np.sum(matrix[i])\n",
        "edges"
      ],
      "execution_count": 7,
      "outputs": [
        {
          "output_type": "execute_result",
          "data": {
            "text/plain": [
              "array([[0.        , 0.34090909, 0.11363636, 0.54545455],\n",
              "       [0.45454545, 0.        , 0.        , 0.54545455],\n",
              "       [1.        , 0.        , 0.        , 0.        ],\n",
              "       [0.57142857, 0.42857143, 0.        , 0.        ]])"
            ]
          },
          "metadata": {
            "tags": []
          },
          "execution_count": 7
        }
      ]
    },
    {
      "cell_type": "code",
      "metadata": {
        "id": "JIAqPLs-BKQ-",
        "colab_type": "code",
        "colab": {
          "base_uri": "https://localhost:8080/",
          "height": 35
        },
        "outputId": "27b75592-0a2f-48bc-8a53-34a02f074de1"
      },
      "source": [
        "\n",
        "for i in range(len(scores)):\n",
        "    scores[i]=1-0.85+0.85*(sum(matrix[i]))\n",
        "scores"
      ],
      "execution_count": 8,
      "outputs": [
        {
          "output_type": "execute_result",
          "data": {
            "text/plain": [
              "[1.396666666666667, 1.085, 0.2916666666666667, 1.3399999999999999]"
            ]
          },
          "metadata": {
            "tags": []
          },
          "execution_count": 8
        }
      ]
    }
  ]
}