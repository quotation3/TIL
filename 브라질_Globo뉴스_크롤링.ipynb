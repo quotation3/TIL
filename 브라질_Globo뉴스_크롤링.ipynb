{
  "nbformat": 4,
  "nbformat_minor": 0,
  "metadata": {
    "colab": {
      "name": " 브라질 Globo뉴스_크롤링.ipynb",
      "provenance": [],
      "collapsed_sections": [],
      "authorship_tag": "ABX9TyO6DIoDKwtvLc4Vo3W2Mvlr",
      "include_colab_link": true
    },
    "kernelspec": {
      "name": "python3",
      "display_name": "Python 3"
    }
  },
  "cells": [
    {
      "cell_type": "markdown",
      "metadata": {
        "id": "view-in-github",
        "colab_type": "text"
      },
      "source": [
        "<a href=\"https://colab.research.google.com/github/quotation3/TIL/blob/master/%EB%B8%8C%EB%9D%BC%EC%A7%88_Globo%EB%89%B4%EC%8A%A4_%ED%81%AC%EB%A1%A4%EB%A7%81.ipynb\" target=\"_parent\"><img src=\"https://colab.research.google.com/assets/colab-badge.svg\" alt=\"Open In Colab\"/></a>"
      ]
    },
    {
      "cell_type": "markdown",
      "metadata": {
        "id": "Qr2_FRVDxP5q"
      },
      "source": [
        "# 브라질 Globo 경제뉴스 크롤링"
      ]
    },
    {
      "cell_type": "code",
      "metadata": {
        "id": "Dy2rcvU0WFF4"
      },
      "source": [
        "import re\n",
        "import requests\n",
        "from bs4 import BeautifulSoup"
      ],
      "execution_count": 1,
      "outputs": []
    },
    {
      "cell_type": "markdown",
      "metadata": {
        "id": "hRXjIpqVtHD-"
      },
      "source": [
        "구글 페이지에 뜨는 url 크롤링"
      ]
    },
    {
      "cell_type": "code",
      "metadata": {
        "id": "y708Q2aAWwpi",
        "outputId": "998d2343-e0d7-4e5e-c0f0-1123f106d71d",
        "colab": {
          "base_uri": "https://localhost:8080/",
          "height": 415
        }
      },
      "source": [
        "res = requests.get(\"https://www.google.com/search?q=economia+site:https://g1.globo.com/economia/noticia/2019/08&lr=&newwindow=1&hl=ko&tbm=nws&ei=htJ0X8v2HNfrwQPypbaIDA&start=220&sa=N&ved=0ahUKEwjL0fGKxZHsAhXXdXAKHfKSDcE48AEQ8tMDCIkB&biw=1012&bih=838&dpr=1.13\")\n",
        "bs = BeautifulSoup(res.text, \"html.parser\")\n",
        "title = bs.select('div a[href^=\"/url?q=\"]')\n",
        "title"
      ],
      "execution_count": 2,
      "outputs": [
        {
          "output_type": "execute_result",
          "data": {
            "text/plain": [
              "[<a href=\"/url?q=https://g1.globo.com/economia/noticia/2019/08/09/inss-anuncia-acoes-para-reduzir-prazo-de-concessao-de-beneficios-e-zerar-fila-de-espera-no-orgao.ghtml&amp;sa=U&amp;ved=2ahUKEwjOk4D90JLsAhUnuVkKHVmQC4k43AEQxfQBMAB6BAgEEAE&amp;usg=AOvVaw1TJhoBtJsDwVTpUocqvE-H\" rel=\"noopener\" target=\"_blank\"><h3 class=\"zBAuLc\"><div class=\"BNeawe vvjwJb AP7Wnd\">INSS anuncia ações para reduzir prazo de concessão de benefícios e zerar fila de espera no órgão</div></h3><div class=\"BNeawe UPmit AP7Wnd\">G1</div></a>,\n",
              " <a href=\"/url?q=https://g1.globo.com/economia/noticia/2019/08/09/inss-anuncia-acoes-para-reduzir-prazo-de-concessao-de-beneficios-e-zerar-fila-de-espera-no-orgao.ghtml&amp;sa=U&amp;ved=2ahUKEwjOk4D90JLsAhUnuVkKHVmQC4k43AEQ0Y8FMAB6BAgEEAI&amp;usg=AOvVaw178a98B5IHb0L1bWXMTN-o\" rel=\"noopener\" target=\"_blank\"><div class=\"lcJF1d SXn0g GXKcHe\"><div style=\"width:120px;height:63px;position:static\"><img alt=\"\" class=\"EYOsld\" data-deferred=\"1\" id=\"dimg_1\" src=\"data:image/gif;base64,R0lGODlhAQABAIAAAP///////yH5BAEKAAEALAAAAAABAAEAAAICTAEAOw==\" style=\"width:120px;height:63px\"/></div></div></a>,\n",
              " <a href=\"/url?q=https://g1.globo.com/economia/noticia/2019/08/28/compras-com-cartao-crescem-18percent-e-somam-r-850-bilhoes-no-1o-semestre.ghtml&amp;sa=U&amp;ved=2ahUKEwjOk4D90JLsAhUnuVkKHVmQC4k43AEQxfQBMAF6BAgJEAE&amp;usg=AOvVaw3exdAvPa8-3QzCmsiY9Kr7\" rel=\"noopener\" target=\"_blank\"><h3 class=\"zBAuLc\"><div class=\"BNeawe vvjwJb AP7Wnd\">Compras com cartão crescem 18% e somam R$ 850 bilhões no 1º semestre</div></h3><div class=\"BNeawe UPmit AP7Wnd\">G1</div></a>,\n",
              " <a href=\"/url?q=https://g1.globo.com/economia/noticia/2019/08/28/compras-com-cartao-crescem-18percent-e-somam-r-850-bilhoes-no-1o-semestre.ghtml&amp;sa=U&amp;ved=2ahUKEwjOk4D90JLsAhUnuVkKHVmQC4k43AEQ0Y8FMAF6BAgJEAI&amp;usg=AOvVaw1ErkQ2_mk2A8BSZmBhZU0s\" rel=\"noopener\" target=\"_blank\"><div class=\"lcJF1d SXn0g GXKcHe\"><div style=\"width:120px;height:67px;position:static\"><img alt=\"\" class=\"EYOsld\" data-deferred=\"1\" id=\"dimg_15\" src=\"data:image/gif;base64,R0lGODlhAQABAIAAAP///////yH5BAEKAAEALAAAAAABAAEAAAICTAEAOw==\" style=\"width:120px;height:67px\"/></div></div></a>,\n",
              " <a href=\"/url?q=https://g1.globo.com/economia/noticia/2019/08/05/petrobras-muda-politica-de-gas-de-cozinha-e-reajuste-nao-tera-mais-prazo-definido.ghtml&amp;sa=U&amp;ved=2ahUKEwjOk4D90JLsAhUnuVkKHVmQC4k43AEQxfQBMAJ6BAgIEAE&amp;usg=AOvVaw1uemoLln-U9wNugXf_3E_v\" rel=\"noopener\" target=\"_blank\"><h3 class=\"zBAuLc\"><div class=\"BNeawe vvjwJb AP7Wnd\">Petrobras muda política de gás de cozinha e reajuste não terá mais prazo definido</div></h3><div class=\"BNeawe UPmit AP7Wnd\">G1</div></a>,\n",
              " <a href=\"/url?q=https://g1.globo.com/economia/noticia/2019/08/05/petrobras-muda-politica-de-gas-de-cozinha-e-reajuste-nao-tera-mais-prazo-definido.ghtml&amp;sa=U&amp;ved=2ahUKEwjOk4D90JLsAhUnuVkKHVmQC4k43AEQ0Y8FMAJ6BAgIEAI&amp;usg=AOvVaw0g2137zstPh-M_7Nmaw0cT\" rel=\"noopener\" target=\"_blank\"><div class=\"lcJF1d SXn0g GXKcHe\"><div style=\"width:120px;height:67px;position:static\"><img alt=\"\" class=\"EYOsld\" data-deferred=\"1\" id=\"dimg_17\" src=\"data:image/gif;base64,R0lGODlhAQABAIAAAP///////yH5BAEKAAEALAAAAAABAAEAAAICTAEAOw==\" style=\"width:120px;height:67px\"/></div></div></a>,\n",
              " <a href=\"/url?q=https://g1.globo.com/economia/noticia/2019/08/05/ouro-dispara-a-maxima-em-6-anos-com-temores-comerciais-impulsionando-ativos-seguros.ghtml&amp;sa=U&amp;ved=2ahUKEwjOk4D90JLsAhUnuVkKHVmQC4k43AEQxfQBMAN6BAgHEAE&amp;usg=AOvVaw2HhwpUvUVz5sx5TxXTqEWs\" rel=\"noopener\" target=\"_blank\"><h3 class=\"zBAuLc\"><div class=\"BNeawe vvjwJb AP7Wnd\">Ouro dispara a máxima em 6 anos com temores comerciais impulsionando ativos seguros</div></h3><div class=\"BNeawe UPmit AP7Wnd\">G1</div></a>,\n",
              " <a href=\"/url?q=https://g1.globo.com/economia/noticia/2019/08/05/ouro-dispara-a-maxima-em-6-anos-com-temores-comerciais-impulsionando-ativos-seguros.ghtml&amp;sa=U&amp;ved=2ahUKEwjOk4D90JLsAhUnuVkKHVmQC4k43AEQ0Y8FMAN6BAgHEAI&amp;usg=AOvVaw3lJk5FYSGbm4PDUJu3_uRE\" rel=\"noopener\" target=\"_blank\"><div class=\"lcJF1d SXn0g GXKcHe\"><div style=\"width:120px;height:63px;position:static\"><img alt=\"\" class=\"EYOsld\" data-deferred=\"1\" id=\"dimg_18\" src=\"data:image/gif;base64,R0lGODlhAQABAIAAAP///////yH5BAEKAAEALAAAAAABAAEAAAICTAEAOw==\" style=\"width:120px;height:63px\"/></div></div></a>,\n",
              " <a href=\"/url?q=https://g1.globo.com/economia/noticia/2019/08/09/bolsas-da-china-tem-pior-semana-desde-maio-com-dados-fracos-e-temores-comerciais.ghtml&amp;sa=U&amp;ved=2ahUKEwjOk4D90JLsAhUnuVkKHVmQC4k43AEQxfQBMAR6BAgCEAE&amp;usg=AOvVaw3iFMR7jU-AEG0ZcpInNh1D\" rel=\"noopener\" target=\"_blank\"><h3 class=\"zBAuLc\"><div class=\"BNeawe vvjwJb AP7Wnd\">Bolsas da China têm pior semana desde maio com dados fracos e temores comerciais</div></h3><div class=\"BNeawe UPmit AP7Wnd\">G1</div></a>,\n",
              " <a href=\"/url?q=https://g1.globo.com/economia/noticia/2019/08/09/bolsas-da-china-tem-pior-semana-desde-maio-com-dados-fracos-e-temores-comerciais.ghtml&amp;sa=U&amp;ved=2ahUKEwjOk4D90JLsAhUnuVkKHVmQC4k43AEQ0Y8FMAR6BAgCEAI&amp;usg=AOvVaw0iM2LvzxeAmcWvu8OcCcDH\" rel=\"noopener\" target=\"_blank\"><div class=\"lcJF1d SXn0g GXKcHe\"><div style=\"width:120px;height:67px;position:static\"><img alt=\"\" class=\"EYOsld\" data-deferred=\"1\" id=\"dimg_3\" src=\"data:image/gif;base64,R0lGODlhAQABAIAAAP///////yH5BAEKAAEALAAAAAABAAEAAAICTAEAOw==\" style=\"width:120px;height:67px\"/></div></div></a>,\n",
              " <a href=\"/url?q=https://g1.globo.com/economia/noticia/2019/08/08/objetivo-e-vender-o-maximo-possivel-de-imoveis-da-uniao-diz-salim-matar.ghtml&amp;sa=U&amp;ved=2ahUKEwjOk4D90JLsAhUnuVkKHVmQC4k43AEQxfQBMAV6BAgBEAE&amp;usg=AOvVaw0J7mPGYh0a1fs23BiorffZ\" rel=\"noopener\" target=\"_blank\"><h3 class=\"zBAuLc\"><div class=\"BNeawe vvjwJb AP7Wnd\">Objetivo é vender o máximo possível de imóveis da União, diz Salim Matar</div></h3><div class=\"BNeawe UPmit AP7Wnd\">G1</div></a>,\n",
              " <a href=\"/url?q=https://g1.globo.com/economia/noticia/2019/08/08/objetivo-e-vender-o-maximo-possivel-de-imoveis-da-uniao-diz-salim-matar.ghtml&amp;sa=U&amp;ved=2ahUKEwjOk4D90JLsAhUnuVkKHVmQC4k43AEQ0Y8FMAV6BAgBEAI&amp;usg=AOvVaw1J8OqNJbwM4PRkksXEjwUk\" rel=\"noopener\" target=\"_blank\"><div class=\"lcJF1d SXn0g GXKcHe\"><div style=\"width:120px;height:67px;position:static\"><img alt=\"\" class=\"EYOsld\" data-deferred=\"1\" id=\"dimg_5\" src=\"data:image/gif;base64,R0lGODlhAQABAIAAAP///////yH5BAEKAAEALAAAAAABAAEAAAICTAEAOw==\" style=\"width:120px;height:67px\"/></div></div></a>,\n",
              " <a href=\"/url?q=https://g1.globo.com/economia/noticia/2019/08/30/desemprego-na-zona-do-euro-segue-no-patamar-mais-baixo-desde-2008.ghtml&amp;sa=U&amp;ved=2ahUKEwjOk4D90JLsAhUnuVkKHVmQC4k43AEQxfQBMAZ6BAgDEAE&amp;usg=AOvVaw2iJy9Q8Iovnq7_iK8owg-d\" rel=\"noopener\" target=\"_blank\"><h3 class=\"zBAuLc\"><div class=\"BNeawe vvjwJb AP7Wnd\">Desemprego na zona do euro segue no patamar mais baixo desde 2008</div></h3><div class=\"BNeawe UPmit AP7Wnd\">G1</div></a>,\n",
              " <a href=\"/url?q=https://g1.globo.com/economia/noticia/2019/08/30/desemprego-na-zona-do-euro-segue-no-patamar-mais-baixo-desde-2008.ghtml&amp;sa=U&amp;ved=2ahUKEwjOk4D90JLsAhUnuVkKHVmQC4k43AEQ0Y8FMAZ6BAgDEAI&amp;usg=AOvVaw20_fgM-iAZI_UmS_M2d7MK\" rel=\"noopener\" target=\"_blank\"><div class=\"lcJF1d SXn0g GXKcHe\"><div style=\"width:120px;height:67px;position:static\"><img alt=\"\" class=\"EYOsld\" data-deferred=\"1\" id=\"dimg_2\" src=\"data:image/gif;base64,R0lGODlhAQABAIAAAP///////yH5BAEKAAEALAAAAAABAAEAAAICTAEAOw==\" style=\"width:120px;height:67px\"/></div></div></a>,\n",
              " <a href=\"/url?q=https://g1.globo.com/economia/noticia/2019/08/22/cerca-de-17-milhao-de-usuarios-ja-pediram-bloqueio-de-ligacoes-de-telemarketing.ghtml&amp;sa=U&amp;ved=2ahUKEwjOk4D90JLsAhUnuVkKHVmQC4k43AEQxfQBMAd6BAgFEAE&amp;usg=AOvVaw1oxZZN02bXG_yDxB8LLqrk\" rel=\"noopener\" target=\"_blank\"><h3 class=\"zBAuLc\"><div class=\"BNeawe vvjwJb AP7Wnd\">Cerca de 1,7 milhão de usuários já pediram bloqueio de ligações de telemarketing</div></h3><div class=\"BNeawe UPmit AP7Wnd\">G1</div></a>,\n",
              " <a href=\"/url?q=https://g1.globo.com/economia/noticia/2019/08/22/cerca-de-17-milhao-de-usuarios-ja-pediram-bloqueio-de-ligacoes-de-telemarketing.ghtml&amp;sa=U&amp;ved=2ahUKEwjOk4D90JLsAhUnuVkKHVmQC4k43AEQ0Y8FMAd6BAgFEAI&amp;usg=AOvVaw1cNLziuck9WCYMjGyMj1xj\" rel=\"noopener\" target=\"_blank\"><div class=\"lcJF1d SXn0g GXKcHe\"><div style=\"width:120px;height:67px;position:static\"><img alt=\"\" class=\"EYOsld\" data-deferred=\"1\" id=\"dimg_4\" src=\"data:image/gif;base64,R0lGODlhAQABAIAAAP///////yH5BAEKAAEALAAAAAABAAEAAAICTAEAOw==\" style=\"width:120px;height:67px\"/></div></div></a>,\n",
              " <a href=\"/url?q=https://g1.globo.com/economia/noticia/2019/08/06/inss-comeca-a-pagar-1a-parcela-do-13o-dos-aposentados-em-26-de-agosto.ghtml&amp;sa=U&amp;ved=2ahUKEwjOk4D90JLsAhUnuVkKHVmQC4k43AEQxfQBMAh6BAgAEAE&amp;usg=AOvVaw1O9b7CeCt4vpRVmxZAYwoK\" rel=\"noopener\" target=\"_blank\"><h3 class=\"zBAuLc\"><div class=\"BNeawe vvjwJb AP7Wnd\">INSS começa a pagar 1ª parcela do 13º dos aposentados em 26 de agosto</div></h3><div class=\"BNeawe UPmit AP7Wnd\">G1</div></a>,\n",
              " <a href=\"/url?q=https://g1.globo.com/economia/noticia/2019/08/06/inss-comeca-a-pagar-1a-parcela-do-13o-dos-aposentados-em-26-de-agosto.ghtml&amp;sa=U&amp;ved=2ahUKEwjOk4D90JLsAhUnuVkKHVmQC4k43AEQ0Y8FMAh6BAgAEAI&amp;usg=AOvVaw0XEcYRuF8OPadepMI-2G13\" rel=\"noopener\" target=\"_blank\"><div class=\"lcJF1d SXn0g GXKcHe\"><div style=\"width:120px;height:67px;position:static\"><img alt=\"\" class=\"EYOsld\" data-deferred=\"1\" id=\"dimg_13\" src=\"data:image/gif;base64,R0lGODlhAQABAIAAAP///////yH5BAEKAAEALAAAAAABAAEAAAICTAEAOw==\" style=\"width:120px;height:67px\"/></div></div></a>,\n",
              " <a href=\"/url?q=https://g1.globo.com/economia/noticia/2019/08/06/poupanca-tem-maior-retirada-de-recursos-para-julho-em-4-anos-diz-banco-central.ghtml&amp;sa=U&amp;ved=2ahUKEwjOk4D90JLsAhUnuVkKHVmQC4k43AEQxfQBMAl6BAgGEAE&amp;usg=AOvVaw3A5USVAw-0EpNgFnxGfitw\" rel=\"noopener\" target=\"_blank\"><h3 class=\"zBAuLc\"><div class=\"BNeawe vvjwJb AP7Wnd\">Poupança tem maior retirada de recursos para um mês de julho em 4 anos, diz Banco Central</div></h3><div class=\"BNeawe UPmit AP7Wnd\">G1</div></a>,\n",
              " <a href=\"/url?q=https://g1.globo.com/economia/noticia/2019/08/06/poupanca-tem-maior-retirada-de-recursos-para-julho-em-4-anos-diz-banco-central.ghtml&amp;sa=U&amp;ved=2ahUKEwjOk4D90JLsAhUnuVkKHVmQC4k43AEQ0Y8FMAl6BAgGEAI&amp;usg=AOvVaw2ZO9B5CC1CYyX0b19T6dQa\" rel=\"noopener\" target=\"_blank\"><div class=\"lcJF1d SXn0g GXKcHe\"><div style=\"width:120px;height:63px;position:static\"><img alt=\"\" class=\"EYOsld\" data-deferred=\"1\" id=\"dimg_6\" src=\"data:image/gif;base64,R0lGODlhAQABAIAAAP///////yH5BAEKAAEALAAAAAABAAEAAAICTAEAOw==\" style=\"width:120px;height:63px\"/></div></div></a>,\n",
              " <a href=\"/url?q=https://accounts.google.com/ServiceLogin%3Fcontinue%3Dhttps://www.google.com/search%253Fq%253Deconomia%252Bsite:https://g1.globo.com/economia/noticia/2019/08%2526lr%253D%2526newwindow%253D1%2526hl%253Dko%2526tbm%253Dnws%2526ei%253DhtJ0X8v2HNfrwQPypbaIDA%2526start%253D220%2526sa%253DN%2526ved%253D0ahUKEwjL0fGKxZHsAhXXdXAKHfKSDcE48AEQ8tMDCIkB%2526biw%253D1012%2526bih%253D838%2526dpr%253D1.13%26hl%3Dko&amp;sa=U&amp;ved=0ahUKEwjOk4D90JLsAhUnuVkKHVmQC4k43AEQxs8CCFU&amp;usg=AOvVaw2U5H-YcWZj1kBorwyz3wEd\">로그인</a>]"
            ]
          },
          "metadata": {
            "tags": []
          },
          "execution_count": 2
        }
      ]
    },
    {
      "cell_type": "code",
      "metadata": {
        "id": "A9oFRLSObHiI",
        "outputId": "295494b4-5260-459a-ad08-31e628ae4044",
        "colab": {
          "base_uri": "https://localhost:8080/",
          "height": 55
        }
      },
      "source": [
        "titles = []\n",
        "for i in title:\n",
        "    titles.append(i)\n",
        "\n",
        "titles[0]"
      ],
      "execution_count": 3,
      "outputs": [
        {
          "output_type": "execute_result",
          "data": {
            "text/plain": [
              "<a href=\"/url?q=https://g1.globo.com/economia/noticia/2019/08/09/inss-anuncia-acoes-para-reduzir-prazo-de-concessao-de-beneficios-e-zerar-fila-de-espera-no-orgao.ghtml&amp;sa=U&amp;ved=2ahUKEwjOk4D90JLsAhUnuVkKHVmQC4k43AEQxfQBMAB6BAgEEAE&amp;usg=AOvVaw1TJhoBtJsDwVTpUocqvE-H\" rel=\"noopener\" target=\"_blank\"><h3 class=\"zBAuLc\"><div class=\"BNeawe vvjwJb AP7Wnd\">INSS anuncia ações para reduzir prazo de concessão de benefícios e zerar fila de espera no órgão</div></h3><div class=\"BNeawe UPmit AP7Wnd\">G1</div></a>"
            ]
          },
          "metadata": {
            "tags": []
          },
          "execution_count": 3
        }
      ]
    },
    {
      "cell_type": "code",
      "metadata": {
        "id": "P9QdDEkZjaxr"
      },
      "source": [
        "text = '<a href=\"/url?q=https://g1.globo.com/economia/noticia/2019/08/28/compras-com-cartao-crescem-18percent-e-somam-r-850-bilhoes-no-1o-semestre.ghtml&amp;sa=U&amp;ved=2ahUKEwjA2tyky5HsAhWXbs0KHX-mBLY43AEQxfQBMAB6BAgEEAE&amp;usg=AOvVaw1xAZffT7Hx_Z1lNVHyWWKW\" rel=\"noopener\" target=\"_blank\"><h3 class=\"zBAuLc\"><div class=\"BNeawe vvjwJb AP7Wnd\">Compras com cartão crescem 18% e somam R$ 850 bilhões no 1º semestre</div></h3><div class=\"BNeawe UPmit AP7Wnd\">G1</div></a>'"
      ],
      "execution_count": 4,
      "outputs": []
    },
    {
      "cell_type": "code",
      "metadata": {
        "id": "OmB6iCQRdCQV"
      },
      "source": [
        "p=re.compile(\"ghtml$\")"
      ],
      "execution_count": null,
      "outputs": []
    },
    {
      "cell_type": "code",
      "metadata": {
        "id": "rsRMU_ZCjUcJ",
        "outputId": "eefb5310-f581-4146-93cb-facbf8ca5267",
        "colab": {
          "base_uri": "https://localhost:8080/",
          "height": 35
        }
      },
      "source": [
        "result = re.findall('[h][t][t][p].+.[g][h][t][m][l]',text)\n",
        "result"
      ],
      "execution_count": 25,
      "outputs": [
        {
          "output_type": "execute_result",
          "data": {
            "text/plain": [
              "['https://g1.globo.com/economia/noticia/2019/08/28/compras-com-cartao-crescem-18percent-e-somam-r-850-bilhoes-no-1o-semestre.ghtml']"
            ]
          },
          "metadata": {
            "tags": []
          },
          "execution_count": 25
        }
      ]
    },
    {
      "cell_type": "code",
      "metadata": {
        "id": "2uxAEWFGvTIv",
        "outputId": "bd2a3c6b-6b46-43b2-a0dd-1e3b4f433bd8",
        "colab": {
          "base_uri": "https://localhost:8080/",
          "height": 35
        }
      },
      "source": [
        "result[0]"
      ],
      "execution_count": 26,
      "outputs": [
        {
          "output_type": "execute_result",
          "data": {
            "application/vnd.google.colaboratory.intrinsic+json": {
              "type": "string"
            },
            "text/plain": [
              "'https://g1.globo.com/economia/noticia/2019/08/28/compras-com-cartao-crescem-18percent-e-somam-r-850-bilhoes-no-1o-semestre.ghtml'"
            ]
          },
          "metadata": {
            "tags": []
          },
          "execution_count": 26
        }
      ]
    },
    {
      "cell_type": "markdown",
      "metadata": {
        "id": "06rwufRluL7U"
      },
      "source": [
        "날짜, 기사 크롤링"
      ]
    },
    {
      "cell_type": "code",
      "metadata": {
        "id": "YUZjAjWltQZi",
        "outputId": "947ec318-6136-41bd-c2f1-c5594bb19425",
        "colab": {
          "base_uri": "https://localhost:8080/",
          "height": 35
        }
      },
      "source": [
        "res = requests.get(result[0])\n",
        "article = BeautifulSoup(res.text, \"html.parser\")\n",
        "date = article.select('time')\n",
        "date[0].text"
      ],
      "execution_count": 34,
      "outputs": [
        {
          "output_type": "execute_result",
          "data": {
            "application/vnd.google.colaboratory.intrinsic+json": {
              "type": "string"
            },
            "text/plain": [
              "' 28/08/2019 12h12 '"
            ]
          },
          "metadata": {
            "tags": []
          },
          "execution_count": 34
        }
      ]
    },
    {
      "cell_type": "code",
      "metadata": {
        "id": "8TqKs4Ykvqco",
        "outputId": "d2b3d6a1-c24e-49ba-e7a7-334176693e20",
        "colab": {
          "base_uri": "https://localhost:8080/",
          "height": 89
        }
      },
      "source": [
        "text = []\n",
        "paragraph = article.select('p.content-text__container')\n",
        "for i in paragraph:\n",
        "    text.append(i.text)\n",
        "context = ''.join(context)\n",
        "context"
      ],
      "execution_count": 42,
      "outputs": [
        {
          "output_type": "execute_result",
          "data": {
            "application/vnd.google.colaboratory.intrinsic+json": {
              "type": "string"
            },
            "text/plain": [
              "' As compras com cartões movimentaram R$ 850 bilhões no primeiro semestre deste ano, alta de 18% em relação ao mesmo período do ano passado. Os números foram divulgados nesta quarta-feira (28) pela Associação Brasileira das Empresas de Cartões de Crédito e Serviços (Abecs).  Desse total, mais de 60% (R$ 534,4 bilhões) correspondem a transações feitas por cartão de crédito, um aumento de 18,8% sobre os seis primeiros meses de 2018.  Segundo a associação, 68,4% de todo o crédito à pessoa física voltado para a compra de bens no primeiro semestre foi concedido através do cartão crédito.  Os cartões de débito movimentaram R$ 308 bilhões no semestre, alta de 16%, e os cartões pré-pagos movimentaram R$ 7,4 bilhões, crescimento de 70,4%.  A Abecs projeta que as transações com cartões devem somar R$ 1,8 trilhão neste ano, mas os números devem ser revisados ainda nesta semana. \"Seguramente vai ultrapassar\", disse o presidente da entidade, Pedro Coutinho.  Só no segundo trimestre, as transações com cartões somaram R$ 434 bilhões, alta de 19% sobre igual período de 2018, maior crescimento em 7 anos.  No semestre, as compras pela internet chegaram a R$ 112,2 bilhões no semestre, alta de 26% sobre os seis primeiros meses do ano passado. A maioria dos consumidores que fazem compras remotas preferem o celular (69%), segundo pesquisa da associação.  A associação projeta que as transações com cartões chegarão a R$ 1,8 trilhão neste ano, mas os números devem ser revisados ainda nesta semana. \"Seguramente vai ultrapassar\", disse Coutinho.  A meta da Abecs é que, ao fim de 2022, 60% do consumo das famílias brasileiras seja efetuado por meio de cartões. No ano passado, essa fatia ficou em 38% e, a estimativa inicial da entidade é de que a parcela chegue a 43% ao fim de 2019.  \"Não seria nada anormal dizer que chegaríamos a 50% do consumo das famílias no fim do ano que vem\", disse Coutinho.  De acordo com a associação, cerca de 45 milhões de brasileiros ainda não têm conta em banco. '"
            ]
          },
          "metadata": {
            "tags": []
          },
          "execution_count": 42
        }
      ]
    }
  ]
}