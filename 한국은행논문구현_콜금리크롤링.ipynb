{
  "nbformat": 4,
  "nbformat_minor": 0,
  "metadata": {
    "colab": {
      "name": "한국은행논문구현_콜금리크롤링.ipynb",
      "provenance": [],
      "collapsed_sections": [],
      "authorship_tag": "ABX9TyNENfFdRVOgq+0oG9gOfxdF",
      "include_colab_link": true
    },
    "kernelspec": {
      "name": "python3",
      "display_name": "Python 3"
    }
  },
  "cells": [
    {
      "cell_type": "markdown",
      "metadata": {
        "id": "view-in-github",
        "colab_type": "text"
      },
      "source": [
        "<a href=\"https://colab.research.google.com/github/quotation3/TIL/blob/master/%ED%95%9C%EA%B5%AD%EC%9D%80%ED%96%89%EB%85%BC%EB%AC%B8%EA%B5%AC%ED%98%84_%EC%BD%9C%EA%B8%88%EB%A6%AC%ED%81%AC%EB%A1%A4%EB%A7%81.ipynb\" target=\"_parent\"><img src=\"https://colab.research.google.com/assets/colab-badge.svg\" alt=\"Open In Colab\"/></a>"
      ]
    },
    {
      "cell_type": "code",
      "metadata": {
        "id": "lvWfxnDq2f9w",
        "colab_type": "code",
        "colab": {}
      },
      "source": [
        "import re\n",
        "import requests\n",
        "from bs4 import BeautifulSoup\n",
        "from datetime import datetime\n",
        "import numpy as np\n",
        "import pandas as pd"
      ],
      "execution_count": 3,
      "outputs": []
    },
    {
      "cell_type": "code",
      "metadata": {
        "id": "YLXWY7SYy8a_",
        "colab_type": "code",
        "colab": {}
      },
      "source": [
        "#네이버금융에서 콜금리 크롤링\n",
        "dates = []\n",
        "rates = []\n",
        "\n",
        "for j in range(1,552):\n",
        "    res = requests.get(\"https://finance.naver.com/marketindex/interestDailyQuote.nhn?marketindexCd=IRR_CALL&page={}\".format(j))\n",
        "    bs = BeautifulSoup(res.text, \"html.parser\")\n",
        "    # print(bs.text)\n",
        "    date = bs.select('td.date')\n",
        "    rate = bs.select('td.num')\n",
        "\n",
        "    for i in range(len(date)):\n",
        "        d=datetime.strptime((date[i].text.replace('\\t','').replace('\\n','')), '%Y.%m.%d').strftime('%Y-%m-%d')\n",
        "        dates.append(d)\n",
        "        rates.append(rate[3*i].text)"
      ],
      "execution_count": 90,
      "outputs": []
    },
    {
      "cell_type": "code",
      "metadata": {
        "id": "M1tZU7x-IEr_",
        "colab_type": "code",
        "colab": {}
      },
      "source": [
        "data = np.array([dates,rates])\n",
        "df_rate = pd.DataFrame(data.T, columns=['date','call_rate'])"
      ],
      "execution_count": 99,
      "outputs": []
    },
    {
      "cell_type": "code",
      "metadata": {
        "id": "4Hx9ugUDAAHw",
        "colab_type": "code",
        "colab": {}
      },
      "source": [
        "# 중간중간 빈날짜를 채워줘야함.\n",
        "from datetime import datetime, timedelta\n",
        "# start_date부터 end_date까지 날짜 리스트 생성\n",
        "start_date = datetime.strptime('20050101', '%Y%m%d')\n",
        "end_date = datetime.strptime('20200722', '%Y%m%d')\n",
        "\n",
        "str_date_list = []\n",
        "while start_date.strftime('%Y%m%d') != end_date.strftime('%Y%m%d'): # start_date가 end_date랑 같아지기 전까지 1씩 늘어나면서 리스트에 추가\n",
        "    str_date_list.append(start_date.strftime('%Y-%m-%d'))\n",
        "    start_date += timedelta(days=1)\n",
        "str_date_list.append(end_date.strftime('%Y-%m-%d')) # end_date 포함안됐으므로 따로 추가\n",
        "    \n",
        "date_list=np.array([str_date_list])\n",
        "all_date  = pd.DataFrame(date_list.T, columns=['date'])\n",
        "# print(all_date)"
      ],
      "execution_count": 100,
      "outputs": []
    },
    {
      "cell_type": "code",
      "metadata": {
        "id": "_lBEMvLVDmpj",
        "colab_type": "code",
        "colab": {}
      },
      "source": [
        "df = pd.merge(df_rate,all_date, on='date', how='outer') # 기존크롤링데이터와 전체날짜를 date기준으로 outer 조인\n",
        "df_callrate = df.sort_values(by='date' ,ascending=False).fillna(method='pad') # 내림차순으로 정렬후, 결측치는 가장 최근 과거 값으로 대입\n",
        "# df_callrate"
      ],
      "execution_count": 101,
      "outputs": []
    },
    {
      "cell_type": "code",
      "metadata": {
        "id": "oMOiZP-DGJmf",
        "colab_type": "code",
        "colab": {}
      },
      "source": [
        "df_callrate.to_csv('call_rate.csv', index=False, encoding=\"utf-8\")"
      ],
      "execution_count": 102,
      "outputs": []
    }
  ]
}