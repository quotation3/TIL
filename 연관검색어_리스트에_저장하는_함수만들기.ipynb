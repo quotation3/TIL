{
  "nbformat": 4,
  "nbformat_minor": 0,
  "metadata": {
    "colab": {
      "name": "연관검색어 리스트에 저장하는 함수만들기.ipynb",
      "provenance": [],
      "authorship_tag": "ABX9TyPmQ8zGkgu97bcyTvZ9KG53",
      "include_colab_link": true
    },
    "kernelspec": {
      "name": "python3",
      "display_name": "Python 3"
    }
  },
  "cells": [
    {
      "cell_type": "markdown",
      "metadata": {
        "id": "view-in-github",
        "colab_type": "text"
      },
      "source": [
        "<a href=\"https://colab.research.google.com/github/quotation3/TIL/blob/master/%EC%97%B0%EA%B4%80%EA%B2%80%EC%83%89%EC%96%B4_%EB%A6%AC%EC%8A%A4%ED%8A%B8%EC%97%90_%EC%A0%80%EC%9E%A5%ED%95%98%EB%8A%94_%ED%95%A8%EC%88%98%EB%A7%8C%EB%93%A4%EA%B8%B0.ipynb\" target=\"_parent\"><img src=\"https://colab.research.google.com/assets/colab-badge.svg\" alt=\"Open In Colab\"/></a>"
      ]
    },
    {
      "cell_type": "code",
      "metadata": {
        "id": "z_fOOepNrlOQ",
        "colab_type": "code",
        "colab": {}
      },
      "source": [
        "import re\n",
        "import requests\n",
        "from bs4 import BeautifulSoup\n",
        "import re\n",
        "\n",
        "import numpy as np\n",
        "import pandas as pd"
      ],
      "execution_count": 2,
      "outputs": []
    },
    {
      "cell_type": "markdown",
      "metadata": {
        "id": "-fYV16wirobX",
        "colab_type": "text"
      },
      "source": [
        "네이버 원하는 검색의 연관검색어 크롤링해서 리스트에 저장해주는 함수를 만들어보세요."
      ]
    },
    {
      "cell_type": "code",
      "metadata": {
        "id": "brqosxyLrrGK",
        "colab_type": "code",
        "colab": {}
      },
      "source": [
        "def naver_relative_key_crawling(keyword):\n",
        " url = requests.get('https://search.naver.com/search.naver?sm=top_hty&fbm=1&ie=utf8&query={}'.format(keyword))\n",
        " bs =BeautifulSoup(url.text, \"html.parser\")\n",
        " results = []\n",
        " related = bs.select('ul._related_keyword_ul')\n",
        " for i in range(len(related)):\n",
        "     results.append(related[i].text)\n",
        " return(results)"
      ],
      "execution_count": 8,
      "outputs": []
    },
    {
      "cell_type": "code",
      "metadata": {
        "id": "_aZtRCTdruNk",
        "colab_type": "code",
        "colab": {
          "base_uri": "https://localhost:8080/",
          "height": 35
        },
        "outputId": "3f1def4c-0627-4291-e699-e746e248ae91"
      },
      "source": [
        "naver_relative_key_crawling('맨시티')"
      ],
      "execution_count": 9,
      "outputs": [
        {
          "output_type": "execute_result",
          "data": {
            "text/plain": [
              "['  맨시티 징계   리버풀   맨유   epl   토트넘   첼시   프리미어리그   아스날   FC 바르셀로나   ac밀란  ']"
            ]
          },
          "metadata": {
            "tags": []
          },
          "execution_count": 9
        }
      ]
    }
  ]
}