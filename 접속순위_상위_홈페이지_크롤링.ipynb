{
  "nbformat": 4,
  "nbformat_minor": 0,
  "metadata": {
    "colab": {
      "name": "접속순위 상위 홈페이지 크롤링.ipynb",
      "provenance": [],
      "collapsed_sections": [],
      "toc_visible": true,
      "authorship_tag": "ABX9TyMWEigTjpB4YRakxpfFNqBY",
      "include_colab_link": true
    },
    "kernelspec": {
      "name": "python3",
      "display_name": "Python 3"
    }
  },
  "cells": [
    {
      "cell_type": "markdown",
      "metadata": {
        "id": "view-in-github",
        "colab_type": "text"
      },
      "source": [
        "<a href=\"https://colab.research.google.com/github/quotation3/TIL/blob/master/%EC%A0%91%EC%86%8D%EC%88%9C%EC%9C%84_%EC%83%81%EC%9C%84_%ED%99%88%ED%8E%98%EC%9D%B4%EC%A7%80_%ED%81%AC%EB%A1%A4%EB%A7%81.ipynb\" target=\"_parent\"><img src=\"https://colab.research.google.com/assets/colab-badge.svg\" alt=\"Open In Colab\"/></a>"
      ]
    },
    {
      "cell_type": "markdown",
      "metadata": {
        "id": "Xxi1ox_wLw3i",
        "colab_type": "text"
      },
      "source": [
        "문제 1.\n",
        "아마존 계열사인 알렉사는 전 세계의 웹사이트 순위정보를 제공해주는 사이트입니다.\n",
        "한국 사용자들의 방문 정보를 기반으로 매겨진 웹사이트 순위 정보를 가져와서, pandas를 이용해 csv파일로 저장해보세요.\n",
        "https://www.alexa.com/topsites/countries"
      ]
    },
    {
      "cell_type": "code",
      "metadata": {
        "id": "FVrATnzsLjZH",
        "colab_type": "code",
        "colab": {}
      },
      "source": [
        "import re\n",
        "import requests\n",
        "from bs4 import BeautifulSoup\n",
        "import re\n",
        "\n",
        "import numpy as np\n",
        "import pandas as pd"
      ],
      "execution_count": 3,
      "outputs": []
    },
    {
      "cell_type": "code",
      "metadata": {
        "id": "yy8tIihGLlEF",
        "colab_type": "code",
        "colab": {
          "base_uri": "https://localhost:8080/",
          "height": 235
        },
        "outputId": "8dcfc77c-7feb-4273-cb37-5c794012a6e5"
      },
      "source": [
        "url = requests.get('https://www.alexa.com/topsites/countries/KR')\n",
        "bs =BeautifulSoup(url.text, \"html.parser\")\n",
        "sites = []\n",
        "for i in range(50):\n",
        "    site = bs.select('div.DescriptionCell')[i].text.strip()\n",
        "    sites.append(site)\n",
        "rank = list(range(1,51))\n",
        "data = np.array([rank,sites])\n",
        "# print(data)\n",
        "df_rank = pd.DataFrame(data.T, columns=['순위','사이트']).set_index('순위')\n",
        "df_rank.head()"
      ],
      "execution_count": 8,
      "outputs": [
        {
          "output_type": "execute_result",
          "data": {
            "text/html": [
              "<div>\n",
              "<style scoped>\n",
              "    .dataframe tbody tr th:only-of-type {\n",
              "        vertical-align: middle;\n",
              "    }\n",
              "\n",
              "    .dataframe tbody tr th {\n",
              "        vertical-align: top;\n",
              "    }\n",
              "\n",
              "    .dataframe thead th {\n",
              "        text-align: right;\n",
              "    }\n",
              "</style>\n",
              "<table border=\"1\" class=\"dataframe\">\n",
              "  <thead>\n",
              "    <tr style=\"text-align: right;\">\n",
              "      <th></th>\n",
              "      <th>사이트</th>\n",
              "    </tr>\n",
              "    <tr>\n",
              "      <th>순위</th>\n",
              "      <th></th>\n",
              "    </tr>\n",
              "  </thead>\n",
              "  <tbody>\n",
              "    <tr>\n",
              "      <th>1</th>\n",
              "      <td>Google.com</td>\n",
              "    </tr>\n",
              "    <tr>\n",
              "      <th>2</th>\n",
              "      <td>Naver.com</td>\n",
              "    </tr>\n",
              "    <tr>\n",
              "      <th>3</th>\n",
              "      <td>Youtube.com</td>\n",
              "    </tr>\n",
              "    <tr>\n",
              "      <th>4</th>\n",
              "      <td>Daum.net</td>\n",
              "    </tr>\n",
              "    <tr>\n",
              "      <th>5</th>\n",
              "      <td>Tistory.com</td>\n",
              "    </tr>\n",
              "  </tbody>\n",
              "</table>\n",
              "</div>"
            ],
            "text/plain": [
              "            사이트\n",
              "순위             \n",
              "1    Google.com\n",
              "2     Naver.com\n",
              "3   Youtube.com\n",
              "4      Daum.net\n",
              "5   Tistory.com"
            ]
          },
          "metadata": {
            "tags": []
          },
          "execution_count": 8
        }
      ]
    },
    {
      "cell_type": "code",
      "metadata": {
        "id": "ozBfcAP9QEW4",
        "colab_type": "code",
        "colab": {}
      },
      "source": [
        "df_rank.to_csv('접속순위랭크')"
      ],
      "execution_count": 9,
      "outputs": []
    }
  ]
}