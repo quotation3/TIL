{
  "nbformat": 4,
  "nbformat_minor": 0,
  "metadata": {
    "colab": {
      "name": "XOR_class화.ipynb",
      "provenance": [],
      "authorship_tag": "ABX9TyNYQLF8cLzITUYEtN5WQlXR",
      "include_colab_link": true
    },
    "kernelspec": {
      "name": "python3",
      "display_name": "Python 3"
    }
  },
  "cells": [
    {
      "cell_type": "markdown",
      "metadata": {
        "id": "view-in-github",
        "colab_type": "text"
      },
      "source": [
        "<a href=\"https://colab.research.google.com/github/quotation3/TIL/blob/master/XOR_class.ipynb\" target=\"_parent\"><img src=\"https://colab.research.google.com/assets/colab-badge.svg\" alt=\"Open In Colab\"/></a>"
      ]
    },
    {
      "cell_type": "code",
      "metadata": {
        "id": "bC46hNc7Dbv7",
        "colab_type": "code",
        "colab": {}
      },
      "source": [
        "import numpy as np\n",
        "import random"
      ],
      "execution_count": 1,
      "outputs": []
    },
    {
      "cell_type": "code",
      "metadata": {
        "id": "G4RUSjCHDdfr",
        "colab_type": "code",
        "colab": {}
      },
      "source": [
        "class XOR:\n",
        "    def __init__ (self, x, y):\n",
        "        self.x=x\n",
        "        self.y=y\n",
        "        self.w1=[]\n",
        "        self.b1=[]\n",
        "        self.w2=[]\n",
        "        self.b2=[]\n",
        "\n",
        "    def create_weight(self,h_num):\n",
        "        self.w1 = np.random.rand(2,h_num)\n",
        "        self.b1 = np.random.rand(h_num,1)\n",
        "        self.w2 = np.random.rand(h_num,1)\n",
        "        self.b2 = np.random.rand(1,1)\n",
        "    \n",
        "    def sigmoid(X):\n",
        "\t    return 1 / (1 + np.exp(-X))\n",
        "    \n",
        "    def optimize(self,epoch,learning_rate):\n",
        "        for epoch in range(epoch):\n",
        "            def sigmoid(X):\n",
        "\t            return 1 / (1 + np.exp(-X))\n",
        "            h = sigmoid(np.dot(self.w1.T, self.x) + self.b1)    # Hidden Node\n",
        "            y_hat = sigmoid(np.dot(self.w2.T, h) + self.b2)     # y_hat\n",
        "            loss = -1 * 1/self.x.shape[1] * np.sum(self.y * np.log(y_hat) + (1 - self.y) * np.log(1 - y_hat))   # loss 계산\n",
        "\n",
        "            if epoch % 10000 == 0:\n",
        "                predict = np.round(y_hat, 3)\n",
        "                print('반복횟수: {}, 예측값: {}, Loss: {}'.format(epoch,predict,loss))\n",
        "\n",
        "            # BackPropagate: Hidden Layer\n",
        "            dw2 = np.dot(h, (y_hat - self.y).T)\n",
        "            db2 = 1 / self.y.shape[1] * np.sum(y_hat - self.y, axis = 1, keepdims = True)\n",
        "            dh  = np.dot(self.w2, y_hat - self.y)\n",
        "\n",
        "            # BackPropagate: Input Layer\n",
        "            dz1 = dh * h * (1 - h)\n",
        "            dw1 = np.dot(self.x, dz1.T)\n",
        "            db1 = 1 / self.y.shape[1] * np.sum(dz1, axis = 1, keepdims = True)\n",
        "            \n",
        "            # Weight 수정\n",
        "            self.w2 += -learning_rate * dw2\n",
        "            self.b2 += -learning_rate * db2\n",
        "            self.w1 += -learning_rate * dw1\n",
        "            self.b1 += -learning_rate * db1"
      ],
      "execution_count": 7,
      "outputs": []
    },
    {
      "cell_type": "code",
      "metadata": {
        "id": "apnEIfUZDhWw",
        "colab_type": "code",
        "colab": {}
      },
      "source": [
        "x = np.array([[0,0,1,1],[0,1,0,1]])\n",
        "y = np.array([[0,1,1,0]])"
      ],
      "execution_count": 3,
      "outputs": []
    },
    {
      "cell_type": "code",
      "metadata": {
        "id": "v8a8B55YDn-I",
        "colab_type": "code",
        "colab": {}
      },
      "source": [
        "xor=XOR(x,y)"
      ],
      "execution_count": 8,
      "outputs": []
    },
    {
      "cell_type": "code",
      "metadata": {
        "id": "Cr02c3XkDo0T",
        "colab_type": "code",
        "colab": {}
      },
      "source": [
        "xor.create_weight(3)"
      ],
      "execution_count": 9,
      "outputs": []
    },
    {
      "cell_type": "code",
      "metadata": {
        "id": "ett1ocBUDo-V",
        "colab_type": "code",
        "colab": {
          "base_uri": "https://localhost:8080/",
          "height": 179
        },
        "outputId": "954043c4-a6bc-4f7d-bf6c-503a32fe22bd"
      },
      "source": [
        "xor.optimize(100000,0.01)"
      ],
      "execution_count": 10,
      "outputs": [
        {
          "output_type": "stream",
          "text": [
            "반복횟수: 10000, 예측값: [[0.297 0.599 0.574 0.558]], Loss: 0.5588630302432064\n",
            "반복횟수: 20000, 예측값: [[0.01  0.942 0.941 0.084]], Loss: 0.054477230702961496\n",
            "반복횟수: 30000, 예측값: [[0.003 0.975 0.974 0.036]], Loss: 0.02280466307512502\n",
            "반복횟수: 40000, 예측값: [[0.001 0.984 0.984 0.023]], Loss: 0.014293774730994815\n",
            "반복횟수: 50000, 예측값: [[0.001 0.988 0.988 0.017]], Loss: 0.010389413679072689\n",
            "반복횟수: 60000, 예측값: [[0.001 0.991 0.991 0.013]], Loss: 0.008155051803774762\n",
            "반복횟수: 70000, 예측값: [[0.    0.992 0.992 0.011]], Loss: 0.0067097225047715115\n",
            "반복횟수: 80000, 예측값: [[0.    0.994 0.993 0.009]], Loss: 0.005698769409187621\n",
            "반복횟수: 90000, 예측값: [[0.    0.994 0.994 0.008]], Loss: 0.004952184939952718\n"
          ],
          "name": "stdout"
        }
      ]
    }
  ]
}