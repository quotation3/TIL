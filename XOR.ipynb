{
  "nbformat": 4,
  "nbformat_minor": 0,
  "metadata": {
    "colab": {
      "name": "XOR.ipynb",
      "provenance": [],
      "collapsed_sections": [],
      "authorship_tag": "ABX9TyOjSqqfC+dg5/aJ0qqEVql8",
      "include_colab_link": true
    },
    "kernelspec": {
      "name": "python3",
      "display_name": "Python 3"
    }
  },
  "cells": [
    {
      "cell_type": "markdown",
      "metadata": {
        "id": "view-in-github",
        "colab_type": "text"
      },
      "source": [
        "<a href=\"https://colab.research.google.com/github/quotation3/TIL/blob/master/XOR.ipynb\" target=\"_parent\"><img src=\"https://colab.research.google.com/assets/colab-badge.svg\" alt=\"Open In Colab\"/></a>"
      ]
    },
    {
      "cell_type": "code",
      "metadata": {
        "id": "dVE3WZsUadEK",
        "colab_type": "code",
        "colab": {}
      },
      "source": [
        "import numpy as np\n",
        "import random"
      ],
      "execution_count": 1,
      "outputs": []
    },
    {
      "cell_type": "code",
      "metadata": {
        "id": "AUfr3ukgacB2",
        "colab_type": "code",
        "colab": {}
      },
      "source": [
        "x = np.array([[0,0,1,1],[0,1,0,1]])\n",
        "y = np.array([[0,1,1,0]])"
      ],
      "execution_count": 2,
      "outputs": []
    },
    {
      "cell_type": "code",
      "metadata": {
        "id": "ZgpDbF6nfSYR",
        "colab_type": "code",
        "colab": {}
      },
      "source": [
        "h_num = 3\n",
        "w1 = np.random.rand(2,h_num)\n",
        "b1 = np.random.rand(h_num,1)\n",
        "w2 = np.random.rand(h_num,1)\n",
        "b2 = np.random.rand(1,1)"
      ],
      "execution_count": 6,
      "outputs": []
    },
    {
      "cell_type": "code",
      "metadata": {
        "id": "ofEaJCc3amvN",
        "colab_type": "code",
        "colab": {}
      },
      "source": [
        "def sigmoid(X):\n",
        "\treturn 1 / (1 + np.exp(-X))"
      ],
      "execution_count": 8,
      "outputs": []
    },
    {
      "cell_type": "code",
      "metadata": {
        "id": "a9Y4wgzSam4p",
        "colab_type": "code",
        "colab": {}
      },
      "source": [
        "def loss(y, y_hat):\n",
        "    loss = -1 * 1/x.shape[1] * np.sum(y * np.log(y_hat) + (1 - y) * np.log(1 - y_hat))\n",
        "\n",
        "    return loss"
      ],
      "execution_count": 9,
      "outputs": []
    },
    {
      "cell_type": "code",
      "metadata": {
        "id": "3ZSggOIfanDx",
        "colab_type": "code",
        "colab": {
          "base_uri": "https://localhost:8080/",
          "height": 381
        },
        "outputId": "6716d1db-9e1c-47c8-d88d-f26696e3902a"
      },
      "source": [
        "epoch = 100000\n",
        "learning_rate = 0.01\n",
        "for epoch in range(epoch):\n",
        "\n",
        "    # Hidden Node\n",
        "    h = sigmoid(np.dot(w1.T, x) + b1)\n",
        "\n",
        "    # y_hat\n",
        "    y_hat = sigmoid(np.dot(w2.T, h) + b2)\n",
        "\n",
        "    # Loss 계산\n",
        "    loss = -1 * 1/x.shape[1] * np.sum(y * np.log(y_hat) + (1 - y) * np.log(1 - y_hat))\n",
        "\n",
        "    # BackPropagate: Hidden Layer\n",
        "    dw2 = np.dot(h, (y_hat - y).T)\n",
        "    db2 = 1 / y.shape[1] * np.sum(y_hat - y, axis = 1, keepdims = True)\n",
        "    dh  = np.dot(w2, y_hat - y)\n",
        "\n",
        "    # BackPropagate: Input Layer\n",
        "    dz1 = dh * h * (1 - h)\n",
        "    dw1 = np.dot(x, dz1.T)\n",
        "    db1 = 1 / y.shape[1] * np.sum(dz1, axis = 1, keepdims = True)\n",
        "\n",
        "    # Weight 수정\n",
        "    w2 += -learning_rate * dw2\n",
        "    b2 += -learning_rate * db2\n",
        "    w1 += -learning_rate * dw1\n",
        "    b1 += -learning_rate * db1\n",
        "\n",
        "    if epoch % 10000 == 0:\n",
        "        predict = y_hat\n",
        "        print(predict)\n",
        "        print(loss)"
      ],
      "execution_count": 15,
      "outputs": [
        {
          "output_type": "stream",
          "text": [
            "[[2.45596621e-04 9.94818049e-01 9.94838494e-01 7.49623656e-03]]\n",
            "0.004535099372961817\n",
            "[[2.10203300e-04 9.95367932e-01 9.95385216e-01 6.70263857e-03]]\n",
            "0.004050930422678831\n",
            "[[1.82826234e-04 9.95812406e-01 9.95827278e-01 6.06092995e-03]]\n",
            "0.0036600135401161716\n",
            "[[1.61112919e-04 9.96179104e-01 9.96192085e-01 5.53133792e-03]]\n",
            "0.0033378038646458136\n",
            "[[1.43532813e-04 9.96486785e-01 9.96498251e-01 5.08685426e-03]]\n",
            "0.0030676687799435134\n",
            "[[1.29051075e-04 9.96748625e-01 9.96758854e-01 4.70849698e-03]]\n",
            "0.0028379394020569414\n",
            "[[1.16945166e-04 9.96974154e-01 9.96983358e-01 4.38253609e-03]]\n",
            "0.0026401885074607704\n",
            "[[1.06696652e-04 9.97170431e-01 9.97178773e-01 4.09879530e-03]]\n",
            "0.002468178550460953\n",
            "[[9.79247415e-05 9.97342798e-01 9.97350409e-01 3.84957250e-03]]\n",
            "0.002317194206021093\n",
            "[[9.03439950e-05 9.97495372e-01 9.97502354e-01 3.62893114e-03]]\n",
            "0.002183604931494064\n"
          ],
          "name": "stdout"
        }
      ]
    },
    {
      "cell_type": "markdown",
      "metadata": {
        "id": "1xsrL42RoltD",
        "colab_type": "text"
      },
      "source": [
        "### Class화 하기"
      ]
    },
    {
      "cell_type": "code",
      "metadata": {
        "id": "PF6VSIpuam_b",
        "colab_type": "code",
        "colab": {}
      },
      "source": [
        "class XOR:\n",
        "    def __init__ (self, x, y):\n",
        "        self.x=x\n",
        "        self.y=y\n",
        "        self.w1=[]\n",
        "        self.b1=[]\n",
        "        self.w2=[]\n",
        "        self.b2=[]\n",
        "\n",
        "    def create_weight(self,h_num):\n",
        "        self.w1 = np.random.rand(2,h_num)\n",
        "        self.b1 = np.random.rand(h_num,1)\n",
        "        self.w2 = np.random.rand(h_num,1)\n",
        "        self.b2 = np.random.rand(1,1)\n",
        "    \n",
        "    def optimize(self,epoch,learning_rate):\n",
        "        for epoch in range(epoch):\n",
        "           h = sigmoid(np.dot(self.w1.T, self.x) + self.b1)\n",
        "           y_hat = sigmoid(np.dot(self.w2.T, h) + self.b2)\n",
        "           loss = -1 * 1/self.x.shape[1] * np.sum(self.y * np.log(y_hat) + (1 - self.y) * np.log(1 - y_hat))\n",
        "\n",
        "           if epoch % 10000 == 0:\n",
        "               predict = y_hat\n",
        "               print('반복횟수: {}, 예측값: {}, Loss: {}'.format(epoch,predict,loss))\n",
        "           \n",
        "           dw2 = np.dot(h, (y_hat - self.y).T)\n",
        "           db2 = 1 / self.y.shape[1] * np.sum(y_hat - self.y, axis = 1, keepdims = True)\n",
        "           dh  = np.dot(self.w2, y_hat - self.y)\n",
        "           \n",
        "           dz1 = dh * h * (1 - h)\n",
        "           dw1 = np.dot(self.x, dz1.T)\n",
        "           db1 = 1 / self.y.shape[1] * np.sum(dz1, axis = 1, keepdims = True)\n",
        "           \n",
        "           self.w2 += -learning_rate * dw2\n",
        "           self.b2 += -learning_rate * db2\n",
        "           self.w1 += -learning_rate * dw1\n",
        "           self.b1 += -learning_rate * db1"
      ],
      "execution_count": 46,
      "outputs": []
    },
    {
      "cell_type": "code",
      "metadata": {
        "id": "-lp9AAbJam9F",
        "colab_type": "code",
        "colab": {}
      },
      "source": [
        "xor=XOR(x,y)"
      ],
      "execution_count": 47,
      "outputs": []
    },
    {
      "cell_type": "code",
      "metadata": {
        "id": "CJZEAvSeuQK7",
        "colab_type": "code",
        "colab": {}
      },
      "source": [
        "xor.create_weight(3)"
      ],
      "execution_count": 48,
      "outputs": []
    },
    {
      "cell_type": "code",
      "metadata": {
        "id": "O0Nii96Vam2O",
        "colab_type": "code",
        "colab": {
          "base_uri": "https://localhost:8080/",
          "height": 199
        },
        "outputId": "746a4004-12bb-44b2-a7ce-c909c55630cd"
      },
      "source": [
        "xor.optimize(100000,0.01)"
      ],
      "execution_count": 49,
      "outputs": [
        {
          "output_type": "stream",
          "text": [
            "반복횟수: 0, 예측값: [[0.81937977 0.83187739 0.83731008 0.84662164]], Loss: 0.986959282901829\n",
            "반복횟수: 10000, 예측값: [[0.48868513 0.43235982 0.58648215 0.47739757]], Loss: 0.6729535388715977\n",
            "반복횟수: 20000, 예측값: [[0.0160117  0.92314731 0.93291758 0.09816783]], Loss: 0.06721824660921609\n",
            "반복횟수: 30000, 예측값: [[0.00326778 0.97187346 0.97318202 0.03876725]], Loss: 0.024631414493819316\n",
            "반복횟수: 40000, 예측값: [[0.00150972 0.98288079 0.98339912 0.0240061 ]], Loss: 0.014954368040693862\n",
            "반복횟수: 50000, 예측값: [[9.10192769e-04 9.87706747e-01 9.87994284e-01 1.73731519e-02]], Loss: 0.01072106253547858\n",
            "반복횟수: 60000, 예측값: [[6.25673028e-04 9.90412506e-01 9.90599793e-01 1.36105552e-02]], Loss: 0.008352078547528164\n",
            "반복횟수: 70000, 예측값: [[4.64928994e-04 9.92142679e-01 9.92276581e-01 1.11877634e-02]], Loss: 0.006839401476887202\n",
            "반복횟수: 80000, 예측값: [[3.63732006e-04 9.93344018e-01 9.93445734e-01 9.49759248e-03]], Loss: 0.005790213181412444\n",
            "반복횟수: 90000, 예측값: [[2.95139790e-04 9.94226736e-01 9.94307354e-01 8.25145334e-03]], Loss: 0.005019943265124712\n"
          ],
          "name": "stdout"
        }
      ]
    }
  ]
}