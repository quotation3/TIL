{
  "nbformat": 4,
  "nbformat_minor": 0,
  "metadata": {
    "colab": {
      "name": "XOR.ipynb",
      "provenance": [],
      "collapsed_sections": [],
      "authorship_tag": "ABX9TyMzrBGCTVSKvGl8IsiF8b04",
      "include_colab_link": true
    },
    "kernelspec": {
      "name": "python3",
      "display_name": "Python 3"
    }
  },
  "cells": [
    {
      "cell_type": "markdown",
      "metadata": {
        "id": "view-in-github",
        "colab_type": "text"
      },
      "source": [
        "<a href=\"https://colab.research.google.com/github/quotation3/TIL/blob/master/XOR.ipynb\" target=\"_parent\"><img src=\"https://colab.research.google.com/assets/colab-badge.svg\" alt=\"Open In Colab\"/></a>"
      ]
    },
    {
      "cell_type": "code",
      "metadata": {
        "id": "dVE3WZsUadEK",
        "colab_type": "code",
        "colab": {}
      },
      "source": [
        "import numpy as np\n",
        "import random"
      ],
      "execution_count": 41,
      "outputs": []
    },
    {
      "cell_type": "code",
      "metadata": {
        "id": "AUfr3ukgacB2",
        "colab_type": "code",
        "colab": {}
      },
      "source": [
        "x = np.array([[0,0,1,1],[0,1,0,1]])\n",
        "y = np.array([[0,1,1,0]])"
      ],
      "execution_count": 42,
      "outputs": []
    },
    {
      "cell_type": "code",
      "metadata": {
        "id": "ZgpDbF6nfSYR",
        "colab_type": "code",
        "colab": {}
      },
      "source": [
        "h_num = 3\n",
        "w1 = np.random.rand(2,h_num)\n",
        "b1 = np.random.rand(h_num,1)\n",
        "w2 = np.random.rand(h_num,1)\n",
        "b2 = np.random.rand(1,1)"
      ],
      "execution_count": 43,
      "outputs": []
    },
    {
      "cell_type": "code",
      "metadata": {
        "id": "ofEaJCc3amvN",
        "colab_type": "code",
        "colab": {}
      },
      "source": [
        "def sigmoid(X):\n",
        "\treturn 1 / (1 + np.exp(-X))"
      ],
      "execution_count": 44,
      "outputs": []
    },
    {
      "cell_type": "code",
      "metadata": {
        "id": "a9Y4wgzSam4p",
        "colab_type": "code",
        "colab": {}
      },
      "source": [
        "def loss(y, y_hat):\n",
        "    loss = -1 * 1/x.shape[1] * np.sum(y * np.log(y_hat) + (1 - y) * np.log(1 - y_hat))\n",
        "\n",
        "    return loss"
      ],
      "execution_count": 45,
      "outputs": []
    },
    {
      "cell_type": "code",
      "metadata": {
        "id": "3ZSggOIfanDx",
        "colab_type": "code",
        "colab": {
          "base_uri": "https://localhost:8080/",
          "height": 197
        },
        "outputId": "b5094872-8a08-4142-95da-d5581db666f6"
      },
      "source": [
        "epoch = 100000\n",
        "learning_rate = 0.01\n",
        "for epoch in range(epoch):\n",
        "\n",
        "    # Hidden Node\n",
        "    h = sigmoid(np.dot(w1.T, x) + b1)\n",
        "\n",
        "    # y_hat\n",
        "    y_hat = sigmoid(np.dot(w2.T, h) + b2)\n",
        "\n",
        "    # Loss 계산\n",
        "    loss = -1 * 1/x.shape[1] * np.sum(y * np.log(y_hat) + (1 - y) * np.log(1 - y_hat))\n",
        "\n",
        "    # BackPropagate: Hidden Layer\n",
        "    dw2 = np.dot(h, (y_hat - y).T)\n",
        "    db2 = 1 / y.shape[1] * np.sum(y_hat - y, axis = 1, keepdims = True)\n",
        "    dh  = np.dot(w2, y_hat - y)\n",
        "\n",
        "    # BackPropagate: Input Layer\n",
        "    dz1 = dh * h * (1 - h)\n",
        "    dw1 = np.dot(x, dz1.T)\n",
        "    db1 = 1 / y.shape[1] * np.sum(dz1, axis = 1, keepdims = True)\n",
        "\n",
        "    # Weight 수정\n",
        "    w2 += -learning_rate * dw2\n",
        "    b2 += -learning_rate * db2\n",
        "    w1 += -learning_rate * dw1\n",
        "    b1 += -learning_rate * db1\n",
        "\n",
        "    if epoch % 10000 == 0:\n",
        "        predict = y_hat\n",
        "        print('반복수:{}, 예측값:{}, loss:{}'.format(epoch,predict,loss))"
      ],
      "execution_count": 49,
      "outputs": [
        {
          "output_type": "stream",
          "text": [
            "반복수:0, 예측값:[[7.15063878e-04 9.99739113e-01 9.98824729e-01 8.50726537e-04]], loss:0.0007508230702486931\n",
            "반복수:10000, 예측값:[[6.91493754e-04 9.99749769e-01 9.98864490e-01 8.19898155e-04]], loss:0.0007245961490738806\n",
            "반복수:20000, 예측값:[[6.69470810e-04 9.99759648e-01 9.98901622e-01 7.91187326e-04]], loss:0.0007001395601439297\n",
            "반복수:30000, 예측값:[[6.48846190e-04 9.99768829e-01 9.98936377e-01 7.64384824e-04]], loss:0.0006772801888377367\n",
            "반복수:40000, 예측값:[[6.29489615e-04 9.99777382e-01 9.98968976e-01 7.39307983e-04]], loss:0.0006558667456896829\n",
            "반복수:50000, 예측값:[[6.11286563e-04 9.99785368e-01 9.98999616e-01 7.15796623e-04]], loss:0.0006357664363186132\n",
            "반복수:60000, 예측값:[[5.94135956e-04 9.99792840e-01 9.99028468e-01 6.93709704e-04]], loss:0.0006168622223846755\n",
            "반복수:70000, 예측값:[[5.77948236e-04 9.99799844e-01 9.99055685e-01 6.72922560e-04]], loss:0.0005990505548192238\n",
            "반복수:80000, 예측값:[[5.62643771e-04 9.99806422e-01 9.99081401e-01 6.53324596e-04]], loss:0.0005822394870591474\n",
            "반복수:90000, 예측값:[[5.48151508e-04 9.99812611e-01 9.99105739e-01 6.34817363e-04]], loss:0.0005663470960468352\n"
          ],
          "name": "stdout"
        }
      ]
    }
  ]
}